{
 "cells": [
  {
   "cell_type": "markdown",
   "id": "6f57a69b",
   "metadata": {},
   "source": [
    "# A/B testing applied to investment ideas"
   ]
  },
  {
   "cell_type": "markdown",
   "id": "41522d67",
   "metadata": {},
   "source": [
    "**Common use case**:\n",
    "<img src='https://www.arquen.fr/wp-content/uploads/2020/07/abtesting.png'></img>"
   ]
  },
  {
   "cell_type": "markdown",
   "id": "f913953d",
   "metadata": {},
   "source": [
    "**Context**: thanks to our proprietary method, we are able to recommend instruments based on portfolio context. This draft is an attempt to answer the question: how to efficiently test the addition of the new instrument for a client?\n",
    "\n",
    "**Measure of success**: the typical measurement in an A/B test is the conversion rate i.e. the number of clients buying the product. This variable is binary (buy or not the product). We should start with similar concept. We could think about measuring several factors:\n",
    "- Performance: the client has a performance higher than x%\n",
    "- Trades: the client trades more than x trades\n",
    "- Fees: the client generates more than x% fees\n",
    "- Subscription: the client subscribes to new contract\n",
    "- Activity: the clients contacted the RM more than x times\n",
    "-...\n",
    "\n",
    "**Framework**: we consider two groups.\n",
    "\n",
    "- Group A is the control group i.e. a sample of clients who didn't buy the recommended product.\n",
    "\n",
    "- Group B is the test group i.e. a sample of clients who bought the recommended product.\n",
    "\n",
    "In order to not be biased by other variants, we must *randomly* select the groups' members. One idea would be to use affinity scores to select comparable clients.\n",
    "\n",
    "**Objective**: we want to statistically measure whether it makes a significant difference to invest in the recommended product w.r.t the measured variable."
   ]
  },
  {
   "cell_type": "code",
   "execution_count": 2,
   "id": "de0fa5f2",
   "metadata": {},
   "outputs": [],
   "source": [
    "import numpy as np\n",
    "import pandas as pd\n",
    "import matplotlib.pyplot as plt\n",
    "import scipy.stats as scs"
   ]
  },
  {
   "cell_type": "code",
   "execution_count": 252,
   "id": "6e2f35af",
   "metadata": {},
   "outputs": [],
   "source": [
    "N_A = 1000\n",
    "N_B = 1000\n",
    "# true means (of the unknown population)\n",
    "p_A = 0.4\n",
    "p_B = 0.42"
   ]
  },
  {
   "cell_type": "code",
   "execution_count": 253,
   "id": "60366107",
   "metadata": {},
   "outputs": [],
   "source": [
    "group_a = np.random.binomial(1,p_A,N_A)\n",
    "group_b = np.random.binomial(1,p_B,N_B)"
   ]
  },
  {
   "cell_type": "code",
   "execution_count": 254,
   "id": "23b2ecb4",
   "metadata": {},
   "outputs": [
    {
     "data": {
      "text/html": [
       "<div>\n",
       "<style scoped>\n",
       "    .dataframe tbody tr th:only-of-type {\n",
       "        vertical-align: middle;\n",
       "    }\n",
       "\n",
       "    .dataframe tbody tr th {\n",
       "        vertical-align: top;\n",
       "    }\n",
       "\n",
       "    .dataframe thead th {\n",
       "        text-align: right;\n",
       "    }\n",
       "</style>\n",
       "<table border=\"1\" class=\"dataframe\">\n",
       "  <thead>\n",
       "    <tr style=\"text-align: right;\">\n",
       "      <th></th>\n",
       "      <th>Group</th>\n",
       "      <th>Perf&gt;6%</th>\n",
       "    </tr>\n",
       "    <tr>\n",
       "      <th>Client</th>\n",
       "      <th></th>\n",
       "      <th></th>\n",
       "    </tr>\n",
       "  </thead>\n",
       "  <tbody>\n",
       "    <tr>\n",
       "      <th>1564</th>\n",
       "      <td>B</td>\n",
       "      <td>0</td>\n",
       "    </tr>\n",
       "    <tr>\n",
       "      <th>1097</th>\n",
       "      <td>B</td>\n",
       "      <td>0</td>\n",
       "    </tr>\n",
       "    <tr>\n",
       "      <th>348</th>\n",
       "      <td>A</td>\n",
       "      <td>0</td>\n",
       "    </tr>\n",
       "    <tr>\n",
       "      <th>152</th>\n",
       "      <td>A</td>\n",
       "      <td>0</td>\n",
       "    </tr>\n",
       "    <tr>\n",
       "      <th>642</th>\n",
       "      <td>A</td>\n",
       "      <td>0</td>\n",
       "    </tr>\n",
       "    <tr>\n",
       "      <th>1979</th>\n",
       "      <td>B</td>\n",
       "      <td>0</td>\n",
       "    </tr>\n",
       "    <tr>\n",
       "      <th>1198</th>\n",
       "      <td>B</td>\n",
       "      <td>0</td>\n",
       "    </tr>\n",
       "    <tr>\n",
       "      <th>1174</th>\n",
       "      <td>B</td>\n",
       "      <td>1</td>\n",
       "    </tr>\n",
       "    <tr>\n",
       "      <th>1663</th>\n",
       "      <td>B</td>\n",
       "      <td>0</td>\n",
       "    </tr>\n",
       "    <tr>\n",
       "      <th>1110</th>\n",
       "      <td>B</td>\n",
       "      <td>0</td>\n",
       "    </tr>\n",
       "  </tbody>\n",
       "</table>\n",
       "</div>"
      ],
      "text/plain": [
       "       Group  Perf>6%\n",
       "Client               \n",
       "1564       B        0\n",
       "1097       B        0\n",
       "348        A        0\n",
       "152        A        0\n",
       "642        A        0\n",
       "1979       B        0\n",
       "1198       B        0\n",
       "1174       B        1\n",
       "1663       B        0\n",
       "1110       B        0"
      ]
     },
     "execution_count": 254,
     "metadata": {},
     "output_type": "execute_result"
    }
   ],
   "source": [
    "# for illustration purposes\n",
    "df_data = pd.DataFrame(data={'Group':['A' if i<N_A else 'B' for i in range(N_A+N_B)],\n",
    "                             'Perf>6%':list(group_a)+list(group_b)})\n",
    "df_data.index.name = 'Client'\n",
    "df_data.sample(n=10)"
   ]
  },
  {
   "cell_type": "code",
   "execution_count": 255,
   "id": "912e6f32",
   "metadata": {},
   "outputs": [
    {
     "name": "stdout",
     "output_type": "stream",
     "text": [
      "In group A, 38% of the clients have a high performance\n",
      "In group B, 40% of the clients have a high performance\n"
     ]
    }
   ],
   "source": [
    "# Estimators\n",
    "p_A_hat = np.sum(group_a)/N_A\n",
    "p_B_hat = np.sum(group_b)/N_B\n",
    "print('In group A, {}% of the clients have a high performance'.format(int(p_A_hat*100)))\n",
    "print('In group B, {}% of the clients have a high performance'.format(int(p_B_hat*100)))"
   ]
  },
  {
   "cell_type": "markdown",
   "id": "055545e5",
   "metadata": {},
   "source": [
    "In order to properly assess the significance of the investment idea, we cannot rely only on sample averages. A/B tests are used to account for randomness caused by the selection of samples. It aims at finding the true population mean."
   ]
  },
  {
   "cell_type": "code",
   "execution_count": 256,
   "id": "87b06100",
   "metadata": {},
   "outputs": [
    {
     "data": {
      "image/png": "[encoded data removed]",
      "text/plain": [
       "<Figure size 864x432 with 1 Axes>"
      ]
     },
     "metadata": {
      "needs_background": "light"
     },
     "output_type": "display_data"
    }
   ],
   "source": [
    "# Control group: distribution of clients having a performance > 6%\n",
    "fig, ax = plt.subplots(figsize=(12,6))\n",
    "xA = np.linspace(-49,50,100)+(p_A_hat*N_A)\n",
    "yA = scs.binom(N_A, p_A_hat).pmf(xA) # we generate many Bernoulli variables\n",
    "ax.bar(xA, yA, alpha=0.5, label='Clients who did not invest in new product (control group)')\n",
    "\n",
    "# Test group: distribution of clients having a performance > 6%\n",
    "ax.axvline(x=p_B*N_B, c='orange', alpha=0.5, linestyle='--', label='Clients who invested in new product (test group)')\n",
    "\n",
    "plt.xlabel('Number of clients')\n",
    "plt.ylabel('Probability')\n",
    "plt.legend(loc=\"upper left\")\n",
    "plt.title('Distributions of clients having a high performance')\n",
    "plt.show()"
   ]
  },
  {
   "cell_type": "markdown",
   "id": "c0a20db0",
   "metadata": {},
   "source": [
    "On the above graph, it looks like there is indeed a difference between the two groups. However, we need to confirm with a proper method taking the number of observations into account. The point of a statistical test is to use a confidence level to assess the significance."
   ]
  },
  {
   "cell_type": "markdown",
   "id": "908c3809",
   "metadata": {},
   "source": [
    "$$\\begin{cases}\n",
    "        \\mathcal{H}_0: \\text{the new investment doesn't impact the performance of a client} \\\\\n",
    "        \\mathcal{H}_1: \\text{the new investment significantly impacts the performance of a client}\n",
    "\\end{cases}$$"
   ]
  },
  {
   "cell_type": "markdown",
   "id": "962de2c2",
   "metadata": {},
   "source": [
    "$$\\text{Estimator} = [\\%\\text{ of clients having a high performance in group A}]-[\\%\\text{ of clients having a high performance in group B}]$$"
   ]
  },
  {
   "cell_type": "code",
   "execution_count": 257,
   "id": "d56d97a3",
   "metadata": {},
   "outputs": [
    {
     "name": "stdout",
     "output_type": "stream",
     "text": [
      "Confidence interval: [-0.043,0.043]\n"
     ]
    },
    {
     "data": {
      "image/png": "[encoded data removed]",
      "text/plain": [
       "<Figure size 1080x360 with 1 Axes>"
      ]
     },
     "metadata": {
      "needs_background": "light"
     },
     "output_type": "display_data"
    }
   ],
   "source": [
    "# parameters\n",
    "mu_0 = 0\n",
    "mu_1 = p_A_hat-p_B_hat\n",
    "sigma = np.sqrt(p_A_hat*(1-p_A_hat)/N_A + p_B_hat*(1-p_B_hat)/N_B)\n",
    "\n",
    "# confidence intervals -- Significance level=5%\n",
    "CI_left = mu_0-1.96*sigma\n",
    "CI_right = mu_0+1.96*sigma\n",
    "print('Confidence interval: [{},{}]'.format(round(CI_left,3), round(CI_right,3)))\n",
    "\n",
    "# plot densities\n",
    "x0 = np.linspace(mu_0-12*sigma, mu_0+12*sigma, 100)\n",
    "x1 = np.linspace(mu_1-12*sigma, mu_1+12*sigma, 100)\n",
    "fig, ax = plt.subplots(1, 1, figsize=(15,5))\n",
    "ax.plot(x0, scs.norm(mu_0,sigma).pdf(x0), c='blue', label='New investment doesn''t make any difference')\n",
    "ax.plot(x1, scs.norm(mu_1,sigma).pdf(x1), c='red', label='New investment makes a difference')\n",
    "\n",
    "# plot confidence interval\n",
    "ax.axvline(CI_left, c='grey', linestyle='--', alpha=0.5)\n",
    "ax.axvline(CI_right, c='grey', linestyle='--', alpha=0.5)\n",
    "\n",
    "# plot power of the test\n",
    "ax.fill_between(x0, 0, scs.norm(mu_1, sigma).pdf(x0), color='green', alpha=0.25,\n",
    "                where=(x0 < CI_left), label='power (1-Beta) = {0:.3f}'.format(scs.norm(mu_1, sigma).cdf(CI_left)))\n",
    "\n",
    "plt.legend(loc=\"upper left\")\n",
    "plt.title('Distributions of estimator (= difference) under both hypothesis')\n",
    "plt.show()"
   ]
  },
  {
   "cell_type": "code",
   "execution_count": 227,
   "id": "373be935",
   "metadata": {
    "scrolled": true
   },
   "outputs": [
    {
     "name": "stdout",
     "output_type": "stream",
     "text": [
      "Estimator group A: 0.411\n",
      "Estimator group B: 0.575\n",
      "Diff=-0.164\n",
      "The difference is out of the confidence interval.\n",
      "Thus, we can reject H_0 stating there is no signficant effect.\n",
      "=> \"SIGNIFICANT EFFECT\"\n"
     ]
    }
   ],
   "source": [
    "print('Estimator group A: {}'.format(round(p_A_hat,3)))\n",
    "print('Estimator group B: {}'.format(round(p_B_hat,3)))\n",
    "diff = p_A_hat-p_B_hat # real value (based on sample)\n",
    "print('Diff={}'.format(round(diff,3)))\n",
    "if diff < CI_left or diff > CI_right:\n",
    "    print('The difference is out of the confidence interval.'\n",
    "          +'\\nThus, we can reject H_0 stating there is no signficant effect.'\n",
    "          +'\\n=> \"SIGNIFICANT EFFECT\"')\n",
    "else:\n",
    "    print('The difference is not out of the confidence interval.'\n",
    "          +'\\nThus, we can NOT reject H_0 stating there is no signficant effect.'\n",
    "          +'\\n=> NO SIGNIFICANT EFFECT')"
   ]
  },
  {
   "cell_type": "markdown",
   "id": "558caa97",
   "metadata": {},
   "source": [
    "**Power of the test**: increasing the number of observations has the effect of reducing the standard deviation of both estimators (H_0 and H_1) and thus add more space between the two densities => increase the power of the test"
   ]
  }
 ],
 "metadata": {
  "kernelspec": {
   "display_name": "Python 3",
   "language": "python",
   "name": "python3"
  },
  "language_info": {
   "codemirror_mode": {
    "name": "ipython",
    "version": 3
   },
   "file_extension": ".py",
   "mimetype": "text/x-python",
   "name": "python",
   "nbconvert_exporter": "python",
   "pygments_lexer": "ipython3",
   "version": "3.7.3"
  }
 },
 "nbformat": 4,
 "nbformat_minor": 5
}
