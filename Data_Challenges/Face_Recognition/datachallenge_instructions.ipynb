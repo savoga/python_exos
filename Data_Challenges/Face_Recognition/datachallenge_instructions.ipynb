{
 "cells": [
  {
   "cell_type": "markdown",
   "metadata": {},
   "source": [
    "# Introduction\n"
   ]
  },
  {
   "cell_type": "markdown",
   "metadata": {},
   "source": [
    "## Challenge Large Scale Machine Learning\n",
    "\n",
    "### Authors: \n",
    "#### Pavlo Mozharovskyi (pavlo.mozharovskyi@telecom-paris.fr), Umut Şimşekli (umut.simsekli@telecom-paris.fr)\n"
   ]
  },
  {
   "cell_type": "markdown",
   "metadata": {},
   "source": [
    "### Fusion of algorithms for face recognition\n",
    "\n",
    "The increasingly ubiquitous presence of biometric solutions and face recognition in particular in everyday life requires their adaptation for practical scenario. In the presence of several possible solutions, and if global decisions are to be made, each such single solution can be far less efficient than tailoring them to the complexity of an image.\n",
    "\n",
    "In this challenge, the goal is to build a fusion of algorithms in order to construct the best suited solution for comparison of a pair of images. This fusion will be driven by qualities computed on each image.\n",
    "\n",
    "Comparing of two images is done in two steps. 1st, a vector of features is computed for each image. 2nd, a simple function produces a vector of scores for a pair of images. The goal is to create a function that will compare a pair of images based on the information mentioned above, and decide whether two images belong to the same person.\n",
    "\n",
    "You are provided a label set of training data and a test set without labels. You should submit a .csv file with labels for each entry of this test set."
   ]
  },
  {
   "cell_type": "markdown",
   "metadata": {},
   "source": [
    "# The properties of the dataset:\n"
   ]
  },
  {
   "cell_type": "markdown",
   "metadata": {},
   "source": [
    "### Training data: \n"
   ]
  },
  {
   "cell_type": "markdown",
   "metadata": {},
   "source": [
    "The training set consist of two files, **xtrain_challenge.csv** and **xtest_challenge.csv**.\n",
    "\n",
    "File **xtrain_challenge.csv** contains one observation per row which contains following entries based on a pair of images:\n",
    " * columns 1-13 - 13 qualities on first image;\n",
    " * columns 14-26 - 13 qualities on second image;\n",
    " * columns 27-37 - 11 matching scores between the two images.\n",
    "\n",
    "File **ytrain_challenge.csv** contains one line with each entry corresponding to one observation in **xtrain_challenge.csv**, maintaining the order, and has '1' if a pair of images belong to the same person and '0' otherwise.\n",
    "\n",
    "For each of these 38 variables, there are in total 9,800,713 training observations."
   ]
  },
  {
   "cell_type": "markdown",
   "metadata": {},
   "source": [
    "### Test data:"
   ]
  },
  {
   "cell_type": "markdown",
   "metadata": {},
   "source": [
    "File **xtest_challenge.csv** has the same structure as file **xtrain_challenge.csv**.\n",
    "\n",
    "There are in total 3,768,311 test observations."
   ]
  },
  {
   "cell_type": "markdown",
   "metadata": {},
   "source": [
    "## The performance criterion¶"
   ]
  },
  {
   "cell_type": "markdown",
   "metadata": {},
   "source": [
    "Consider the problem of the supervised classification with two classes labeled '0' and '1'. Many methods for supervised classification assign a new observation $\\boldsymbol{x}$ to a class using the following rule:\n",
    "\n",
    "\\begin{align}\n",
    "g(\\boldsymbol{x}) = \\begin{cases}1 & \\text{ if } f(\\boldsymbol{x}) \\ge t, \\\\ 0 & \\text{ otherwise}.\\end{cases}\n",
    "\\end{align}\n",
    "\n",
    "Threshold $t$ is then chosen due to specific needs managing the trade-off between the true positive rate (TPR) and the false positive rate (FPR), depending on the cost of the corresponding mistakes.\n",
    "\n",
    "Here, the performance criterion is **TPR for the value of FPR = $10^{-4}$**, or, speaking in other words, one needs to maximize the value of the receiver operating characteristic (ROC) in the point FPR = $10^{-4}$. The submitted solution file should thus contain the score for each observation."
   ]
  },
  {
   "cell_type": "markdown",
   "metadata": {},
   "source": [
    "# Training Data"
   ]
  },
  {
   "cell_type": "markdown",
   "metadata": {},
   "source": [
    "Training data, input (file **xtrain_challenge.csv**): \n",
    "\n",
    "https://www.dropbox.com/s/618rb0wev4q84kj/xtrain_challenge.csv\n",
    "\n",
    "Training data, output (file **ytrain_challenge.csv**): \n",
    "\n",
    "https://www.dropbox.com/s/oph3w9sn3nmu376/ytrain_challenge.csv\n"
   ]
  },
  {
   "cell_type": "markdown",
   "metadata": {},
   "source": [
    "# Test Data "
   ]
  },
  {
   "cell_type": "markdown",
   "metadata": {},
   "source": [
    "Test data, input (file **xtest_challenge.csv**): \n",
    "\n",
    "https://www.dropbox.com/s/fezxb6lrzass556/xtest_challenge.csv"
   ]
  },
  {
   "cell_type": "markdown",
   "metadata": {},
   "source": [
    "# Example submission"
   ]
  },
  {
   "cell_type": "code",
   "execution_count": 1,
   "metadata": {},
   "outputs": [],
   "source": [
    "%matplotlib inline\n",
    "import numpy as np\n",
    "import sys\n",
    "import os\n",
    "import matplotlib.pyplot as plt\n",
    "import math\n",
    "from sklearn.linear_model import LogisticRegression"
   ]
  },
  {
   "cell_type": "markdown",
   "metadata": {},
   "source": [
    "## Load and investigate the data"
   ]
  },
  {
   "cell_type": "code",
   "execution_count": 4,
   "metadata": {},
   "outputs": [
    {
     "name": "stdout",
     "output_type": "stream",
     "text": [
      "[[ 1.00000e+00  0.00000e+00  0.00000e+00 -6.24000e+00 -5.27000e+00\n",
      "  -1.86000e+00  6.30000e-01  3.27000e+00  8.90000e-01  3.50980e+02\n",
      "   6.48600e+01  0.00000e+00  1.00000e+00  1.00000e+00  0.00000e+00\n",
      "   0.00000e+00 -9.44000e+00 -1.25300e+01  8.40000e-01  2.59000e+00\n",
      "   1.53000e+00  1.03000e+00  2.76020e+02  5.80200e+01  0.00000e+00\n",
      "   1.00000e+00  2.40594e+03  1.98109e+03  2.67784e+03  2.47044e+03\n",
      "   1.57939e+03  2.18579e+03  2.11877e+03  2.58099e+03  2.49804e+03\n",
      "   3.18058e+03  2.71829e+03]\n",
      " [ 1.00000e+00  0.00000e+00  0.00000e+00 -4.20000e-01 -4.50000e+00\n",
      "  -4.31000e+00  1.61000e+00  1.72000e+00  2.76000e+00  3.47060e+02\n",
      "   2.88500e+01  0.00000e+00  9.90000e-01  1.00000e+00  0.00000e+00\n",
      "   0.00000e+00 -3.50000e-01 -1.89700e+01 -1.31000e+00  1.23000e+00\n",
      "   8.40000e-01  3.40000e-01  2.63840e+02  3.05000e+01  0.00000e+00\n",
      "   1.00000e+00  3.24137e+03  2.01524e+03  3.98719e+03  3.34353e+03\n",
      "   2.89469e+03  2.94734e+03  2.68942e+03  3.76351e+03  2.54422e+03\n",
      "   3.51558e+03  3.24749e+03]\n",
      " [ 1.00000e+00  0.00000e+00  0.00000e+00  3.37600e+01 -1.92900e+01\n",
      "   2.71000e+00  1.73000e+00  1.32000e+00  1.53000e+00  1.35940e+02\n",
      "   5.76500e+01  1.00000e+00  1.00000e-02  1.00000e+00  0.00000e+00\n",
      "   0.00000e+00 -1.25800e+01 -9.99000e+00 -1.50000e-01  1.21000e+00\n",
      "   3.40000e-01  1.60000e+00  3.57670e+02  5.19800e+01  1.00000e+00\n",
      "   1.00000e+00  2.19922e+03  2.54959e+03  2.16441e+03  2.10069e+03\n",
      "   1.29435e+03  2.13604e+03  1.64405e+03  2.30805e+03  1.77488e+03\n",
      "   3.00579e+03  2.50702e+03]]\n",
      "[0. 0. 0. 0. 0. 0. 0. 0. 0. 1.]\n",
      "(100, 37)\n",
      "(100,)\n"
     ]
    }
   ],
   "source": [
    "# Load training data\n",
    "nrows_train = 49\n",
    "nrows_valid = 51\n",
    "xtrain = np.loadtxt('../../../data_challenge/xtrain_challenge.csv', delimiter=',', skiprows = 1, max_rows = nrows_train + nrows_valid)\n",
    "ytrain = np.loadtxt('../../../data_challenge/ytrain_challenge.csv', delimiter=',', skiprows = 1, max_rows = nrows_train + nrows_valid)\n",
    "ytrain = np.array(ytrain).reshape(nrows_train + nrows_valid)\n",
    "# Check the number of observations and properties\n",
    "print(xtrain[:3,])\n",
    "print(ytrain[:10])\n",
    "print(xtrain.shape)\n",
    "print(ytrain.shape)"
   ]
  },
  {
   "cell_type": "markdown",
   "metadata": {},
   "source": [
    "## Train a simple classifier"
   ]
  },
  {
   "cell_type": "code",
   "execution_count": 5,
   "metadata": {},
   "outputs": [
    {
     "data": {
      "text/plain": [
       "LogisticRegression(C=1.0, class_weight=None, dual=False, fit_intercept=True,\n",
       "                   intercept_scaling=1, l1_ratio=None, max_iter=100,\n",
       "                   multi_class='warn', n_jobs=None, penalty='l2',\n",
       "                   random_state=None, solver='lbfgs', tol=0.0001, verbose=0,\n",
       "                   warm_start=False)"
      ]
     },
     "execution_count": 5,
     "metadata": {},
     "output_type": "execute_result"
    }
   ],
   "source": [
    "# Train the classifier on a part of the data set\n",
    "clf = LogisticRegression(solver='lbfgs')\n",
    "clf.fit(xtrain[:nrows_train], ytrain[:nrows_train], )"
   ]
  },
  {
   "cell_type": "code",
   "execution_count": 6,
   "metadata": {},
   "outputs": [
    {
     "data": {
      "text/plain": [
       "(49, 37)"
      ]
     },
     "execution_count": 6,
     "metadata": {},
     "output_type": "execute_result"
    }
   ],
   "source": [
    "xtrain[:nrows_train].shape"
   ]
  },
  {
   "cell_type": "code",
   "execution_count": 7,
   "metadata": {},
   "outputs": [
    {
     "data": {
      "text/plain": [
       "(49,)"
      ]
     },
     "execution_count": 7,
     "metadata": {},
     "output_type": "execute_result"
    }
   ],
   "source": [
    "ytrain[:nrows_train].shape"
   ]
  },
  {
   "cell_type": "code",
   "execution_count": 9,
   "metadata": {},
   "outputs": [
    {
     "data": {
      "text/plain": [
       "(51, 37)"
      ]
     },
     "execution_count": 9,
     "metadata": {},
     "output_type": "execute_result"
    }
   ],
   "source": [
    "xtrain[nrows_train:(nrows_train + nrows_valid)].shape"
   ]
  },
  {
   "cell_type": "code",
   "execution_count": 10,
   "metadata": {},
   "outputs": [
    {
     "name": "stdout",
     "output_type": "stream",
     "text": [
      "[7.22245093e-08 1.37566227e-09 9.99258613e-01 2.23355535e-06\n",
      " 1.03031229e-10 3.04856672e-10 1.12137416e-11 1.26164702e-07\n",
      " 1.53594797e-11 1.15437390e-09 1.71801441e-11 1.00000000e+00\n",
      " 7.22535600e-09 1.81026398e-09 9.99403757e-09 2.10589727e-08\n",
      " 3.53614605e-09 4.60942703e-08 3.61415261e-13 3.31623715e-09\n",
      " 1.05706163e-08 4.30388022e-07 1.06614632e-12 3.29254055e-10\n",
      " 3.22364656e-09 2.38831261e-11 9.69647451e-08 4.19342298e-12\n",
      " 2.09900564e-11 1.37808491e-06 1.94527252e-08 3.98905846e-10\n",
      " 1.00000000e+00 4.04981714e-11 1.68247587e-11 4.23396558e-11\n",
      " 6.61319556e-11 1.34666504e-12 1.04895576e-08 9.02744839e-08\n",
      " 4.80341458e-08 3.81114530e-10 2.62666249e-11 6.09709652e-09\n",
      " 4.56042052e-08 8.09745055e-08 1.00000000e+00 1.41549496e-07\n",
      " 8.61558868e-11 3.35364327e-12 1.24649049e-11]\n"
     ]
    }
   ],
   "source": [
    "# Check its on another part of the data set\n",
    "yvalid = clf.predict_proba(xtrain[nrows_train:(nrows_train + nrows_valid)])[:,clf.classes_ == 1][:,0]\n",
    "print(yvalid)"
   ]
  },
  {
   "cell_type": "code",
   "execution_count": 11,
   "metadata": {},
   "outputs": [
    {
     "data": {
      "text/plain": [
       "array([0., 1.])"
      ]
     },
     "execution_count": 11,
     "metadata": {},
     "output_type": "execute_result"
    }
   ],
   "source": [
    "clf.classes_"
   ]
  },
  {
   "cell_type": "code",
   "execution_count": 25,
   "metadata": {},
   "outputs": [
    {
     "data": {
      "text/plain": [
       "array([[7.22245093e-08],\n",
       "       [1.37566227e-09],\n",
       "       [9.99258613e-01],\n",
       "       [2.23355535e-06],\n",
       "       [1.03031229e-10],\n",
       "       [3.04856672e-10],\n",
       "       [1.12137416e-11],\n",
       "       [1.26164702e-07],\n",
       "       [1.53594797e-11],\n",
       "       [1.15437390e-09],\n",
       "       [1.71801441e-11],\n",
       "       [1.00000000e+00],\n",
       "       [7.22535600e-09],\n",
       "       [1.81026398e-09],\n",
       "       [9.99403757e-09],\n",
       "       [2.10589727e-08],\n",
       "       [3.53614605e-09],\n",
       "       [4.60942703e-08],\n",
       "       [3.61415261e-13],\n",
       "       [3.31623715e-09],\n",
       "       [1.05706163e-08],\n",
       "       [4.30388022e-07],\n",
       "       [1.06614632e-12],\n",
       "       [3.29254055e-10],\n",
       "       [3.22364656e-09],\n",
       "       [2.38831261e-11],\n",
       "       [9.69647451e-08],\n",
       "       [4.19342298e-12],\n",
       "       [2.09900564e-11],\n",
       "       [1.37808491e-06],\n",
       "       [1.94527252e-08],\n",
       "       [3.98905846e-10],\n",
       "       [1.00000000e+00],\n",
       "       [4.04981714e-11],\n",
       "       [1.68247587e-11],\n",
       "       [4.23396558e-11],\n",
       "       [6.61319556e-11],\n",
       "       [1.34666504e-12],\n",
       "       [1.04895576e-08],\n",
       "       [9.02744839e-08],\n",
       "       [4.80341458e-08],\n",
       "       [3.81114530e-10],\n",
       "       [2.62666249e-11],\n",
       "       [6.09709652e-09],\n",
       "       [4.56042052e-08],\n",
       "       [8.09745055e-08],\n",
       "       [1.00000000e+00],\n",
       "       [1.41549496e-07],\n",
       "       [8.61558868e-11],\n",
       "       [3.35364327e-12],\n",
       "       [1.24649049e-11]])"
      ]
     },
     "execution_count": 25,
     "metadata": {},
     "output_type": "execute_result"
    }
   ],
   "source": [
    "# Proba to be 1\n",
    "clf.predict_proba(xtrain[nrows_train:(nrows_train + nrows_valid)])[:,clf.classes_ == 1]"
   ]
  },
  {
   "cell_type": "code",
   "execution_count": 23,
   "metadata": {},
   "outputs": [
    {
     "data": {
      "text/plain": [
       "array([18, 22, 37, 49, 27,  6, 50,  8, 34, 10, 28, 25, 42, 33, 35, 36, 48,\n",
       "        4,  5, 23, 41, 31,  9,  1, 13, 24, 19, 16, 43, 12, 14, 38, 20, 30,\n",
       "       15, 44, 17, 40,  0, 45, 39, 26,  7, 47, 21, 29,  3,  2, 11, 46, 32])"
      ]
     },
     "execution_count": 23,
     "metadata": {},
     "output_type": "execute_result"
    }
   ],
   "source": [
    "np.argsort(yvalid)"
   ]
  },
  {
   "cell_type": "code",
   "execution_count": 68,
   "metadata": {},
   "outputs": [
    {
     "name": "stdout",
     "output_type": "stream",
     "text": [
      "[0. 0. 0. 0. 0. 0. 0. 0. 0. 0. 0. 0. 0. 1. 0. 0. 0. 0. 0. 0. 0. 0. 0. 0.\n",
      " 0. 0. 0. 0. 0. 0. 0. 0. 0. 0. 0. 0. 0. 0. 0. 0. 0. 0. 0. 0. 0. 0. 0. 1.\n",
      " 1. 1. 1.]\n",
      "TP\n",
      "TP\n",
      "TP\n",
      "TP\n",
      "FP\n",
      "For the smallest FPR <= 10^-4 (i.e., 0.0) TPR = 0.8.\n"
     ]
    }
   ],
   "source": [
    "# Calculate the performance metric\n",
    "# From ordered predictions (yvalid), we find the actual results from the train sample\n",
    "yvalid_scoreordered = ytrain[nrows_train:(nrows_train + nrows_valid)][np.argsort(yvalid)]\n",
    "\n",
    "print(yvalid_scoreordered)\n",
    "N = np.sum(ytrain[nrows_train:(nrows_train + nrows_valid)] == 0)\n",
    "P = np.sum(ytrain[nrows_train:(nrows_train + nrows_valid)] == 1)\n",
    "FP = 0\n",
    "TP = 0\n",
    "for i in range(nrows_valid - 1, -1, -1):\n",
    "    if (yvalid_scoreordered[i] == 1):\n",
    "        TP = TP + 1\n",
    "        print(\"TP\")\n",
    "    else:\n",
    "        FP = FP + 1 # false positive is still zero at that time\n",
    "        print(\"FP\")\n",
    "    if (FP / N > 10**-4):\n",
    "        FP = FP - 1\n",
    "        break\n",
    "print(\"For the smallest FPR <= 10^-4 (i.e., \", FP / N, \") TPR = \", TP / P, \".\", sep = \"\")"
   ]
  },
  {
   "cell_type": "code",
   "execution_count": 58,
   "metadata": {},
   "outputs": [
    {
     "data": {
      "text/plain": [
       "46"
      ]
     },
     "execution_count": 58,
     "metadata": {},
     "output_type": "execute_result"
    }
   ],
   "source": [
    "N # 51 - 5"
   ]
  },
  {
   "cell_type": "code",
   "execution_count": 42,
   "metadata": {
    "scrolled": true
   },
   "outputs": [
    {
     "data": {
      "text/plain": [
       "array([3.61415261e-13, 1.06614632e-12, 1.34666504e-12, 3.35364327e-12,\n",
       "       4.19342298e-12, 1.12137416e-11, 1.24649049e-11, 1.53594797e-11,\n",
       "       1.68247587e-11, 1.71801441e-11, 2.09900564e-11, 2.38831261e-11,\n",
       "       2.62666249e-11, 4.04981714e-11, 4.23396558e-11, 6.61319556e-11,\n",
       "       8.61558868e-11, 1.03031229e-10, 3.04856672e-10, 3.29254055e-10,\n",
       "       3.81114530e-10, 3.98905846e-10, 1.15437390e-09, 1.37566227e-09,\n",
       "       1.81026398e-09, 3.22364656e-09, 3.31623715e-09, 3.53614605e-09,\n",
       "       6.09709652e-09, 7.22535600e-09, 9.99403757e-09, 1.04895576e-08,\n",
       "       1.05706163e-08, 1.94527252e-08, 2.10589727e-08, 4.56042052e-08,\n",
       "       4.60942703e-08, 4.80341458e-08, 7.22245093e-08, 8.09745055e-08,\n",
       "       9.02744839e-08, 9.69647451e-08, 1.26164702e-07, 1.41549496e-07,\n",
       "       4.30388022e-07, 1.37808491e-06, 2.23355535e-06, 9.99258613e-01,\n",
       "       1.00000000e+00, 1.00000000e+00, 1.00000000e+00])"
      ]
     },
     "execution_count": 42,
     "metadata": {},
     "output_type": "execute_result"
    }
   ],
   "source": [
    "np.sort(yvalid) # sorted predictions"
   ]
  },
  {
   "cell_type": "code",
   "execution_count": 56,
   "metadata": {},
   "outputs": [
    {
     "data": {
      "text/plain": [
       "array([0., 0., 0., 0., 0., 0., 0., 0., 0., 0., 0., 0., 0., 1., 0., 0., 0.,\n",
       "       0., 0., 0., 0., 0., 0., 0., 0., 0., 0., 0., 0., 0., 0., 0., 0., 0.,\n",
       "       0., 0., 0., 0., 0., 0., 0., 0., 0., 0., 0., 0., 0., 1., 1., 1., 1.])"
      ]
     },
     "execution_count": 56,
     "metadata": {},
     "output_type": "execute_result"
    }
   ],
   "source": [
    "yvalid_scoreordered # corresponding ytrain for the sorted predictions"
   ]
  },
  {
   "cell_type": "markdown",
   "metadata": {},
   "source": [
    "## Prepare a file for submission"
   ]
  },
  {
   "cell_type": "code",
   "execution_count": 6,
   "metadata": {},
   "outputs": [
    {
     "name": "stdout",
     "output_type": "stream",
     "text": [
      "(3768311,)\n"
     ]
    }
   ],
   "source": [
    "# Load test data\n",
    "xtest = np.loadtxt('xtest_challenge.csv', delimiter=',', skiprows = 1)\n",
    "# Classify the provided test data\n",
    "ytest = clf.predict_proba(xtest)[:,clf.classes_ == 1][:,0]\n",
    "print(ytest.shape)\n",
    "np.savetxt('ytest_challenge_student.csv', ytest, fmt = '%1.15f', delimiter=',')"
   ]
  },
  {
   "cell_type": "markdown",
   "metadata": {},
   "source": [
    "#### Now it's your turn. Good luck !  :) "
   ]
  }
 ],
 "metadata": {
  "kernelspec": {
   "display_name": "Python 3",
   "language": "python",
   "name": "python3"
  },
  "language_info": {
   "codemirror_mode": {
    "name": "ipython",
    "version": 3
   },
   "file_extension": ".py",
   "mimetype": "text/x-python",
   "name": "python",
   "nbconvert_exporter": "python",
   "pygments_lexer": "ipython3",
   "version": "3.7.3"
  }
 },
 "nbformat": 4,
 "nbformat_minor": 2
}
