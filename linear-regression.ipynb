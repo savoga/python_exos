{
 "cells": [
  {
   "cell_type": "code",
   "execution_count": 1,
   "id": "b2180960",
   "metadata": {},
   "outputs": [],
   "source": [
    "import pandas as pd\n",
    "import numpy as np\n",
    "\n",
    "import matplotlib.pyplot as plt\n",
    "\n",
    "from sklearn.linear_model import LinearRegression\n",
    "\n",
    "import statsmodels.api as sm\n",
    "from statsmodels.stats.diagnostic import het_white"
   ]
  },
  {
   "cell_type": "markdown",
   "id": "131dfbdf",
   "metadata": {},
   "source": [
    "Notes: \n",
    "- predictor = independent variable = explanatory variable = factor = feature\n",
    "- dependent variable = output = $Y$ = variable that *depends* on others"
   ]
  },
  {
   "cell_type": "markdown",
   "id": "6af5ce83",
   "metadata": {},
   "source": [
    "- What does that mean when residuals are gaussian/sub gaussian/other?\n",
    "- Can we have no residuals?\n",
    "- When do we have a unique solution? How to detect such cases?\n",
    "- When do we have collinearity? What is the problem with this? Can we illustrate the problem?\n",
    "- How to assess the accuracy of linear regression? is $R^2$ enough?\n",
    "- How to assess whether a WLS \"fit\" well?"
   ]
  },
  {
   "cell_type": "markdown",
   "id": "09681401",
   "metadata": {},
   "source": [
    "[Generate data](#Generate-data-(univariate))\n",
    "\n",
    "[Univariate / multivariate](#Univariate-/-multivariate)\n",
    "\n",
    "[Estimator](#Estimator)\n",
    "\n",
    "[Coefficient of determination](#Coefficient-of-determination)\n",
    "\n",
    "[Intercept](#Intercept)\n",
    "\n",
    "[Assumptions](#Assumptions)\n",
    "\n",
    "- [Homoscedasticity](#Assumption-1:-errors-have-constant-variance-(homoscedasticity))\n",
    "\n",
    "- [Exogeneity](#Assumption-2:-no-correlation-between-the-error-and-the-exploratory-variables-(exogeneity))\n",
    "\n",
    "- [Error autocorrelation](#Assumption-3:-the-errors-are-uncorrelated)\n",
    "\n",
    "- Predictors are linearly independent\n",
    "\n",
    "- Errors are normally distributed\n",
    "\n",
    "[Predictions](#Predictions)"
   ]
  },
  {
   "cell_type": "markdown",
   "id": "0c91494f",
   "metadata": {},
   "source": [
    "### Generate data (univariate)"
   ]
  },
  {
   "cell_type": "code",
   "execution_count": 2,
   "id": "728b59c1",
   "metadata": {},
   "outputs": [],
   "source": [
    "n_observations = 100\n",
    "\n",
    "sigma_1 = 1\n",
    "sigma_2 = 0.3\n",
    "\n",
    "mu_1 = 3\n",
    "mu_2 = 1\n",
    "\n",
    "x = np.random.normal(mu_1, sigma_1, n_observations)\n",
    "y = np.random.normal(mu_2, sigma_2, n_observations)\n",
    "\n",
    "data = np.array([x, y]).T"
   ]
  },
  {
   "cell_type": "markdown",
   "id": "261c1a59",
   "metadata": {},
   "source": [
    "We now rotate the data using a rotation matrix as explained here https://scipython.com/book/chapter-6-numpy/examples/creating-a-rotation-matrix-in-numpy/:\n",
    "\n",
    "$$R = \\begin{pmatrix}\n",
    "cos \\theta & -sin \\theta\\\\\n",
    "sin \\theta & cos \\theta\n",
    "\\end{pmatrix}$$"
   ]
  },
  {
   "cell_type": "code",
   "execution_count": 3,
   "id": "83117035",
   "metadata": {},
   "outputs": [],
   "source": [
    "angle = 45\n",
    "theta = np.radians(angle)\n",
    "c, s = np.cos(theta), np.sin(theta)\n",
    "R = np.array(((c,-s),(s,c)))"
   ]
  },
  {
   "cell_type": "code",
   "execution_count": 4,
   "id": "bf91e623",
   "metadata": {},
   "outputs": [],
   "source": [
    "data_rotated = (R @ data.T).T"
   ]
  },
  {
   "cell_type": "code",
   "execution_count": 5,
   "id": "eb9ad228",
   "metadata": {},
   "outputs": [
    {
     "data": {
      "image/png": "[encoded data removed]",
      "text/plain": [
       "<Figure size 432x288 with 1 Axes>"
      ]
     },
     "metadata": {
      "needs_background": "light"
     },
     "output_type": "display_data"
    }
   ],
   "source": [
    "plt.scatter(data_rotated[:,0], data_rotated[:,1])\n",
    "plt.xlim([-2, 4])\n",
    "plt.ylim([-2, 5])\n",
    "plt.axhline(y=0, color='k')\n",
    "plt.axvline(x=0, color='k')\n",
    "plt.grid()\n",
    "plt.show()"
   ]
  },
  {
   "cell_type": "code",
   "execution_count": 6,
   "id": "c317c09b",
   "metadata": {},
   "outputs": [],
   "source": [
    "# Data for univariate regression\n",
    "X = data_rotated[:,0].reshape(-1, 1)\n",
    "y = data_rotated[:,1]"
   ]
  },
  {
   "cell_type": "markdown",
   "id": "a9430b37",
   "metadata": {},
   "source": [
    "### Univariate / multivariate"
   ]
  },
  {
   "cell_type": "markdown",
   "id": "bba0ee1b",
   "metadata": {},
   "source": [
    "--> Univariate regression or \"simple\" regression is when there is only one predictor.\n",
    "\n",
    "--> Multivariate regression or \"multiple\" regression is when there is more than one predictors."
   ]
  },
  {
   "cell_type": "markdown",
   "id": "90fb23c7",
   "metadata": {},
   "source": [
    "### Estimator"
   ]
  },
  {
   "cell_type": "markdown",
   "id": "4cf32000",
   "metadata": {},
   "source": [
    "$$\\hat \\theta = (X^TX)^{-1}X^Ty$$"
   ]
  },
  {
   "cell_type": "code",
   "execution_count": 7,
   "id": "a5c80bb4",
   "metadata": {},
   "outputs": [
    {
     "name": "stdout",
     "output_type": "stream",
     "text": [
      "**** Scikit-learn ****\n",
      "Intercept: 1.5070946888954442\n",
      "Coef: 0.9059593050419618\n",
      "**** Manual ****\n",
      "Intercept: 1.5070946888954406\n",
      "Coef: 0.9059593050419643\n"
     ]
    }
   ],
   "source": [
    "# estimator (scikit-learn)\n",
    "print('**** Scikit-learn ****')\n",
    "reg = LinearRegression().fit(X,y)\n",
    "print('Intercept: {}'.format(reg.intercept_))\n",
    "print('Coef: {}'.format(reg.coef_[0]))\n",
    "\n",
    "# estimator (manual)\n",
    "print('**** Manual ****')\n",
    "# add a new column for intercept\n",
    "X_ = np.zeros((n_observations, 2))\n",
    "X_[:,0] = X.flatten()\n",
    "X_[:,1] = 1\n",
    "X_gram = np.linalg.inv(np.dot(X_.T, X_))\n",
    "theta = np.dot(X_gram, np.dot(X_.T, y)) \n",
    "print('Intercept: {}'.format(theta[1]))\n",
    "print('Coef: {}'.format(theta[0]))"
   ]
  },
  {
   "cell_type": "markdown",
   "id": "964ea956",
   "metadata": {},
   "source": [
    "### Coefficient of determination"
   ]
  },
  {
   "cell_type": "markdown",
   "id": "a7707861",
   "metadata": {},
   "source": [
    "$$R^2 = 1-\\frac{\\sum (y_i - \\hat y_i)^2}{\\sum (y_i - \\overline y)^2}$$\n",
    "\n",
    "We note that: \n",
    "\n",
    "$$R^2 = \\frac{\\sum (y_i - \\overline y)^2 - \\sum (y_i - \\hat y_i)^2}{\\sum (y_i - \\overline y)^2} = \\frac{\\text{variance explained by the regression}}{\\text{variance of }y}$$\n",
    "\n",
    "We also have: $$R^2 = r_{y,\\hat y}$$\n",
    "\n",
    "Since the coefficient of determination also applies in the multivariate case, the metric is actually a more general use of the correlation coefficient."
   ]
  },
  {
   "cell_type": "code",
   "execution_count": 8,
   "id": "275542db",
   "metadata": {},
   "outputs": [],
   "source": [
    "y_pred = reg.intercept_ + reg.coef_*X.flatten()"
   ]
  },
  {
   "cell_type": "code",
   "execution_count": 9,
   "id": "f6b2f6fe",
   "metadata": {},
   "outputs": [],
   "source": [
    "RSS = ((y - y_pred)**2).sum()\n",
    "TSS = ((y - y.mean())**2).sum()"
   ]
  },
  {
   "cell_type": "code",
   "execution_count": 10,
   "id": "7547c7d3",
   "metadata": {},
   "outputs": [
    {
     "data": {
      "text/plain": [
       "0.7159013201761292"
      ]
     },
     "execution_count": 10,
     "metadata": {},
     "output_type": "execute_result"
    }
   ],
   "source": [
    "R_2 = 1 - RSS/TSS\n",
    "R_2"
   ]
  },
  {
   "cell_type": "code",
   "execution_count": 11,
   "id": "ba89af04",
   "metadata": {},
   "outputs": [
    {
     "data": {
      "text/plain": [
       "0.7159013201761294"
      ]
     },
     "execution_count": 11,
     "metadata": {},
     "output_type": "execute_result"
    }
   ],
   "source": [
    "np.corrcoef(y_pred, y)[0][1]**2"
   ]
  },
  {
   "cell_type": "code",
   "execution_count": 12,
   "id": "05883de4",
   "metadata": {
    "scrolled": true
   },
   "outputs": [
    {
     "data": {
      "text/plain": [
       "0.7159013201761292"
      ]
     },
     "execution_count": 12,
     "metadata": {},
     "output_type": "execute_result"
    }
   ],
   "source": [
    "reg.score(X,y)"
   ]
  },
  {
   "cell_type": "markdown",
   "id": "860fc55b",
   "metadata": {},
   "source": [
    "Problems with $R2$:\n",
    "\n",
    "- It's a performance metric assessed on the *training data*. Thus it doesn't tell whether the algorithm generalizes well.\n",
    "- $R2$ tends to drop when the variance is high. However, even if the variance is high, there can still be a strong linear relationship between the data.\n",
    "- More generally, high $R2$ is not necessarily good and low $R2$ is not necessarily bad. Below is an example where $R2$ is very high for a non-linear relationship."
   ]
  },
  {
   "cell_type": "code",
   "execution_count": 13,
   "id": "ce08e7f2",
   "metadata": {},
   "outputs": [
    {
     "name": "stdout",
     "output_type": "stream",
     "text": [
      "R2: 0.25\n"
     ]
    },
    {
     "data": {
      "image/png": "[encoded data removed]",
      "text/plain": [
       "<Figure size 432x288 with 1 Axes>"
      ]
     },
     "metadata": {
      "needs_background": "light"
     },
     "output_type": "display_data"
    }
   ],
   "source": [
    "x2 = np.random.exponential(.4,50)\n",
    "y2 = ((x2-1)**2)*np.random.uniform(low=0.3, high=1.2)\n",
    "plt.scatter(x2, y2)\n",
    "\n",
    "reg2 = LinearRegression().fit(x2.reshape(-1, 1),y2)\n",
    "print('R2: {}'.format(round(reg2.score(x2.reshape(-1, 1),y2),2)))"
   ]
  },
  {
   "cell_type": "markdown",
   "id": "01b3b6e7",
   "metadata": {},
   "source": [
    "### Intercept"
   ]
  },
  {
   "cell_type": "code",
   "execution_count": 14,
   "id": "9da7078c",
   "metadata": {},
   "outputs": [
    {
     "data": {
      "text/plain": [
       "1.3692197187214836"
      ]
     },
     "execution_count": 14,
     "metadata": {},
     "output_type": "execute_result"
    }
   ],
   "source": [
    "np.mean(X.flatten())"
   ]
  },
  {
   "cell_type": "markdown",
   "id": "8346d668",
   "metadata": {},
   "source": [
    "$X$ is not centered."
   ]
  },
  {
   "cell_type": "code",
   "execution_count": 15,
   "id": "d6f0c3db",
   "metadata": {},
   "outputs": [
    {
     "data": {
      "image/png": "[encoded data removed]",
      "text/plain": [
       "<Figure size 432x288 with 1 Axes>"
      ]
     },
     "metadata": {
      "needs_background": "light"
     },
     "output_type": "display_data"
    }
   ],
   "source": [
    "y_pred = reg.coef_*X.flatten()\n",
    "plt.scatter(data_rotated[:,0], data_rotated[:,1])\n",
    "plt.plot(X.flatten(), y_pred, 'r')\n",
    "plt.xlim([-2, 4])\n",
    "plt.ylim([-2, 5])\n",
    "plt.axhline(y=0, color='k')\n",
    "plt.axvline(x=0, color='k')\n",
    "plt.grid()\n",
    "plt.show()"
   ]
  },
  {
   "cell_type": "code",
   "execution_count": 16,
   "id": "8dfce343",
   "metadata": {},
   "outputs": [
    {
     "data": {
      "text/plain": [
       "-3.3761502190305483"
      ]
     },
     "execution_count": 16,
     "metadata": {},
     "output_type": "execute_result"
    }
   ],
   "source": [
    "# R2\n",
    "RSS = ((y - y_pred)**2).sum()\n",
    "TSS = ((y - y.mean())**2).sum()\n",
    "1 - RSS/TSS"
   ]
  },
  {
   "cell_type": "markdown",
   "id": "78fa150a",
   "metadata": {},
   "source": [
    "Very bad $R2$."
   ]
  },
  {
   "cell_type": "code",
   "execution_count": 17,
   "id": "921c9818",
   "metadata": {},
   "outputs": [
    {
     "data": {
      "image/png": "[encoded data removed]",
      "text/plain": [
       "<Figure size 432x288 with 1 Axes>"
      ]
     },
     "metadata": {
      "needs_background": "light"
     },
     "output_type": "display_data"
    }
   ],
   "source": [
    "y_pred = reg.intercept_ + reg.coef_*X.flatten()\n",
    "plt.scatter(data_rotated[:,0], data_rotated[:,1])\n",
    "plt.plot(X.flatten(), y_pred, 'r')\n",
    "plt.xlim([-2, 4])\n",
    "plt.ylim([-2, 5])\n",
    "plt.axhline(y=0, color='k')\n",
    "plt.axvline(x=0, color='k')\n",
    "plt.grid()\n",
    "plt.show()"
   ]
  },
  {
   "cell_type": "code",
   "execution_count": 18,
   "id": "2f1ecef5",
   "metadata": {},
   "outputs": [
    {
     "data": {
      "text/plain": [
       "0.7159013201761292"
      ]
     },
     "execution_count": 18,
     "metadata": {},
     "output_type": "execute_result"
    }
   ],
   "source": [
    "# R2\n",
    "RSS = ((y - y_pred)**2).sum()\n",
    "TSS = ((y - y.mean())**2).sum()\n",
    "1 - RSS/TSS"
   ]
  },
  {
   "cell_type": "markdown",
   "id": "81d7691a",
   "metadata": {},
   "source": [
    "Better $R^2$ when centering the data."
   ]
  },
  {
   "cell_type": "code",
   "execution_count": 19,
   "id": "c70e517a",
   "metadata": {},
   "outputs": [
    {
     "data": {
      "image/png": "[encoded data removed]",
      "text/plain": [
       "<Figure size 432x288 with 1 Axes>"
      ]
     },
     "metadata": {
      "needs_background": "light"
     },
     "output_type": "display_data"
    }
   ],
   "source": [
    "X_centered = X.flatten()-X.mean()\n",
    "y_centered = y - y.mean()\n",
    "y_pred = reg.coef_*X_centered\n",
    "plt.scatter(X_centered, y_centered)\n",
    "plt.plot(X_centered.flatten(), y_pred, 'r')\n",
    "plt.xlim([-3, 3])\n",
    "plt.ylim([-3, 3])\n",
    "plt.axhline(y=0, color='k')\n",
    "plt.axvline(x=0, color='k')\n",
    "plt.grid()\n",
    "plt.show()"
   ]
  },
  {
   "cell_type": "code",
   "execution_count": 20,
   "id": "75b1bf83",
   "metadata": {},
   "outputs": [
    {
     "data": {
      "text/plain": [
       "0.7159013201761293"
      ]
     },
     "execution_count": 20,
     "metadata": {},
     "output_type": "execute_result"
    }
   ],
   "source": [
    "# R2\n",
    "RSS = ((y_centered - y_pred)**2).sum()\n",
    "TSS = ((y_centered - y_centered.mean())**2).sum()\n",
    "1 - RSS/TSS"
   ]
  },
  {
   "cell_type": "markdown",
   "id": "4c7857e7",
   "metadata": {},
   "source": [
    "Centered data without intercept <=> uncentered data with intercept\n",
    "\n",
    "**If data are not centered, we need to use intercept.**"
   ]
  },
  {
   "cell_type": "markdown",
   "id": "91fc6009",
   "metadata": {},
   "source": [
    "### Predictions"
   ]
  },
  {
   "cell_type": "code",
   "execution_count": 21,
   "id": "b6d053c7",
   "metadata": {},
   "outputs": [
    {
     "name": "stdout",
     "output_type": "stream",
     "text": [
      "[3.29439706 3.12104591 2.42787468 2.66025231 2.40743574 2.2100448\n",
      " 2.15548195 2.70688728 3.10653862 2.36010903]\n",
      "[3.29439706 3.12104591 2.42787468 2.66025231 2.40743574 2.2100448\n",
      " 2.15548195 2.70688728 3.10653862 2.36010903]\n"
     ]
    }
   ],
   "source": [
    "# Scikit learn\n",
    "print(reg.predict(X)[:10])\n",
    "# Manual\n",
    "print(reg.intercept_ + np.dot(X, reg.coef_)[:10])"
   ]
  },
  {
   "cell_type": "markdown",
   "id": "213b83d0",
   "metadata": {},
   "source": [
    "### Assumptions"
   ]
  },
  {
   "cell_type": "markdown",
   "id": "d85d9728",
   "metadata": {},
   "source": [
    "*Gauss-Markov theorem*:\n",
    "\n",
    "OLS estimator is BLUE (Best Linear Unbiased Estimator = unbiased and lowest variance) if:\n",
    "\n",
    "Errors need to:\n",
    "\n",
    "- be uncorrelated\n",
    "\n",
    "- have constant variance (homoscedasticity)\n",
    "\n",
    "- have an expectation value of zero"
   ]
  },
  {
   "cell_type": "markdown",
   "id": "8aeed730",
   "metadata": {},
   "source": [
    "$$\\epsilon = y - \\hat y$$"
   ]
  },
  {
   "cell_type": "code",
   "execution_count": 22,
   "id": "1c3312aa",
   "metadata": {},
   "outputs": [],
   "source": [
    "res = y - (theta[1] + X.T*theta[0])"
   ]
  },
  {
   "cell_type": "code",
   "execution_count": 23,
   "id": "ce4515af",
   "metadata": {
    "scrolled": false
   },
   "outputs": [
    {
     "data": {
      "image/png": "[encoded data removed]",
      "text/plain": [
       "<Figure size 432x288 with 1 Axes>"
      ]
     },
     "metadata": {
      "needs_background": "light"
     },
     "output_type": "display_data"
    }
   ],
   "source": [
    "plt.hist(res.flatten())\n",
    "plt.show()"
   ]
  },
  {
   "cell_type": "markdown",
   "id": "73af3053",
   "metadata": {},
   "source": [
    "##### Assumption 1: errors have constant variance (homoscedasticity)"
   ]
  },
  {
   "cell_type": "code",
   "execution_count": 24,
   "id": "5c01d103",
   "metadata": {},
   "outputs": [],
   "source": [
    "np.random.seed(2)\n",
    "df_data_heterosc = pd.DataFrame()\n",
    "df_data_heterosc['constant'] = np.ones(data_rotated.shape[0])\n",
    "df_data_heterosc['x'] = data_rotated[:,0]\n",
    "df_data_heterosc['y'] = data_rotated[:,1]\n",
    "df_data_heterosc = df_data_heterosc.sort_values(by='x').reset_index()\n",
    "# df_data_heterosc['y_2'] = df_data_heterosc\\\n",
    "#                     .apply(lambda x: (x['y']**6)/100**7 if x.name%2==0 else -(x['y']**6)/100**7, axis=1)\n",
    "\n",
    "df_data_heterosc['y_2'] = df_data_heterosc\\\n",
    "                    .apply(lambda x: x['y']+x.name**1.1/100*np.random.normal(0,1), axis=1)"
   ]
  },
  {
   "cell_type": "markdown",
   "id": "51e3ebc7",
   "metadata": {},
   "source": [
    "White’s Lagrange Multiplier Test for Heteroscedasticity: \n",
    "\n",
    "$$\\mathcal{H}_0: \\text{there is homoscedasticity}$$"
   ]
  },
  {
   "cell_type": "code",
   "execution_count": 25,
   "id": "d3789b0a",
   "metadata": {},
   "outputs": [
    {
     "data": {
      "image/png": "[encoded data removed]",
      "text/plain": [
       "<Figure size 432x288 with 1 Axes>"
      ]
     },
     "metadata": {
      "needs_background": "light"
     },
     "output_type": "display_data"
    }
   ],
   "source": [
    "plt.scatter(df_data_heterosc['x'], df_data_heterosc['y'])\n",
    "plt.show()"
   ]
  },
  {
   "cell_type": "code",
   "execution_count": 26,
   "id": "b8906c78",
   "metadata": {},
   "outputs": [
    {
     "data": {
      "text/plain": [
       "0.12850679550432825"
      ]
     },
     "execution_count": 26,
     "metadata": {},
     "output_type": "execute_result"
    }
   ],
   "source": [
    "model = sm.OLS(df_data_heterosc['y'], df_data_heterosc[['constant','x']])\n",
    "results = model.fit()\n",
    "het_white(results.resid, df_data_heterosc[['constant','x']])[1] # no heteroscedasticity"
   ]
  },
  {
   "cell_type": "code",
   "execution_count": 27,
   "id": "be7b1f18",
   "metadata": {
    "scrolled": true
   },
   "outputs": [
    {
     "data": {
      "image/png": "[encoded data removed]",
      "text/plain": [
       "<Figure size 432x288 with 1 Axes>"
      ]
     },
     "metadata": {
      "needs_background": "light"
     },
     "output_type": "display_data"
    }
   ],
   "source": [
    "plt.scatter(df_data_heterosc['x'], df_data_heterosc['y_2'])\n",
    "plt.show()"
   ]
  },
  {
   "cell_type": "code",
   "execution_count": 28,
   "id": "5d793d8e",
   "metadata": {},
   "outputs": [
    {
     "data": {
      "text/plain": [
       "2.9776629134087167e-07"
      ]
     },
     "execution_count": 28,
     "metadata": {},
     "output_type": "execute_result"
    }
   ],
   "source": [
    "model = sm.OLS(df_data_heterosc['y_2'], df_data_heterosc[['constant','x']])\n",
    "results = model.fit()\n",
    "het_white(results.resid, df_data_heterosc[['constant','x']])[1] # heteroscedasticity!"
   ]
  },
  {
   "cell_type": "markdown",
   "id": "078683ec",
   "metadata": {},
   "source": [
    "If heteroscedasticity, the estimator is not necessarily the best (Gauss-Markov conditions are not satistifed). Indeed, the <font color='red'>estimator does not have the lowest variance</font> anymore. In other words, the estimator becomes quite unstable.\n",
    "\n",
    "Below is an illustration of the estimator unstability when changing the data."
   ]
  },
  {
   "cell_type": "code",
   "execution_count": 29,
   "id": "cd218a74",
   "metadata": {},
   "outputs": [
    {
     "name": "stdout",
     "output_type": "stream",
     "text": [
      "run 0: coefficient=1.133651791040297\n",
      "run 1: coefficient=1.0049504400112035\n",
      "run 2: coefficient=0.8995029371979437\n"
     ]
    }
   ],
   "source": [
    "for i in range(3):\n",
    "    np.random.seed(i)\n",
    "    df_data_heterosc = pd.DataFrame()\n",
    "    df_data_heterosc['constant'] = np.ones(data_rotated.shape[0])\n",
    "    df_data_heterosc['x'] = data_rotated[:,0]\n",
    "    df_data_heterosc['y'] = data_rotated[:,1]\n",
    "    df_data_heterosc = df_data_heterosc.sort_values(by='x').reset_index()\n",
    "    df_data_heterosc['y_2'] = df_data_heterosc\\\n",
    "                        .apply(lambda x: x['y']+x.name**1.1/100*np.random.normal(0,1), axis=1)\n",
    "    model = sm.OLS(df_data_heterosc['y_2'], df_data_heterosc[['constant','x']])\n",
    "    results = model.fit()\n",
    "    het_white(results.resid, df_data_heterosc[['constant','x']])[1] # heteroscedasticity!\n",
    "    print('run {}: coefficient={}'.format(i,results.params[1]))"
   ]
  },
  {
   "cell_type": "markdown",
   "id": "faf3b0cb",
   "metadata": {},
   "source": [
    "Identify heteroscedasticity:\n",
    "- Plot independent variables against dependent variables and see whether there is a trend\n",
    "- Run heteroscedasticity test"
   ]
  },
  {
   "cell_type": "markdown",
   "id": "c9a25bbf",
   "metadata": {},
   "source": [
    "##### Assumption 2: no correlation between the error and the exploratory variables (exogeneity)"
   ]
  },
  {
   "cell_type": "markdown",
   "id": "3f6b6424",
   "metadata": {},
   "source": [
    "$$\\mathbb{E}[\\epsilon | X]=0$$\n",
    "\n",
    "This means that the errors do not depend on X. This assumption is needed to make sure there is no important variable missing that may also explain the relationship. \n",
    "\n",
    "Put it differently, Y has no effect on X (?)."
   ]
  },
  {
   "cell_type": "markdown",
   "id": "9e421b9e",
   "metadata": {},
   "source": [
    "Endogeneity: \n",
    "- important variable is omitted\n",
    "- omitted variable is correlated with one or several explanatory variables\n",
    "- omitted variable is correlated with the dependent variable (= contributes to explain the result)\n",
    "\n",
    "=> <font color='red'>estimator is biased</font>"
   ]
  },
  {
   "cell_type": "markdown",
   "id": "6f07bf4e",
   "metadata": {},
   "source": [
    "We consider the following true (linear) model that gives the price of a car:\n",
    "\n",
    "$$price = 20000-2000*Age-0.01*Kms$$\n",
    "\n",
    "Other interesting example: https://statisticsbyjim.com/regression/confounding-variables-bias/ (bone density explained by activity and weights)."
   ]
  },
  {
   "cell_type": "markdown",
   "id": "a3c93502",
   "metadata": {},
   "source": [
    "<img src='omitted-variable.png' width='300px'></img>"
   ]
  },
  {
   "cell_type": "markdown",
   "id": "48f9ff8f",
   "metadata": {},
   "source": [
    "The omitted variable is the Age."
   ]
  },
  {
   "cell_type": "code",
   "execution_count": 30,
   "id": "f0e2194d",
   "metadata": {},
   "outputs": [],
   "source": [
    "data_population = pd.DataFrame(data={\n",
    "    'price':[8000,10000,10500,12500,13000,15000,15500,17500],\n",
    "    'age':[5,4,4,3,3,2,2,1],\n",
    "    'kms':[200000,200000,150000,150000,100000,100000,50000,50000],\n",
    "    'rdm':[0,0,0,0,0,0,0,0]\n",
    "})"
   ]
  },
  {
   "cell_type": "code",
   "execution_count": 31,
   "id": "3551e95b",
   "metadata": {},
   "outputs": [
    {
     "data": {
      "image/png": "[encoded data removed]",
      "text/plain": [
       "<Figure size 432x288 with 1 Axes>"
      ]
     },
     "metadata": {
      "needs_background": "light"
     },
     "output_type": "display_data"
    }
   ],
   "source": [
    "plt.scatter(data_population['age'],data_population['price'])\n",
    "plt.title('correlation={}'.format(round(np.corrcoef(x=data_population['age'], y=data_population['price'])[0][1],2)))\n",
    "plt.show()"
   ]
  },
  {
   "cell_type": "code",
   "execution_count": 34,
   "id": "26b551c2",
   "metadata": {},
   "outputs": [],
   "source": [
    "X_population = data_population[['age','kms']]\n",
    "y_population = data_population['price']\n",
    "lr_true = LinearRegression().fit(X_population,y_population)\n",
    "error = y_population-\\\n",
    "    (lr_true.intercept_ +\\\n",
    "     lr_true.coef_[0]*X_population['age'] +\\\n",
    "     lr_true.coef_[1]*X_population['kms']) # \"true\" error"
   ]
  },
  {
   "cell_type": "code",
   "execution_count": 35,
   "id": "713e4dc1",
   "metadata": {},
   "outputs": [],
   "source": [
    "data_sample = data_population[data_population.index.isin([0,1,2,4,6])]\n",
    "X_sample = data_sample[['kms','age']]\n",
    "y_sample = data_sample['price']\n",
    "lr_sample = LinearRegression().fit(np.array(X_sample['kms']).reshape(-1, 1),y_sample)\n",
    "residual = y_sample-\\\n",
    "    (lr_sample.intercept_ +\\\n",
    "     lr_sample.coef_[0]*X_sample['kms'])"
   ]
  },
  {
   "cell_type": "code",
   "execution_count": 36,
   "id": "09eb10cb",
   "metadata": {},
   "outputs": [
    {
     "data": {
      "image/png": "[encoded data removed]",
      "text/plain": [
       "<Figure size 432x288 with 1 Axes>"
      ]
     },
     "metadata": {
      "needs_background": "light"
     },
     "output_type": "display_data"
    }
   ],
   "source": [
    "plt.scatter(X_population['kms'],error)\n",
    "plt.title('correlation={}'.format(round(np.corrcoef(x=X_population['kms'], y=error)[0][1],2)))\n",
    "plt.show()"
   ]
  },
  {
   "cell_type": "code",
   "execution_count": 50,
   "id": "498f3308",
   "metadata": {},
   "outputs": [
    {
     "data": {
      "image/png": "[encoded data removed]",
      "text/plain": [
       "<Figure size 432x288 with 1 Axes>"
      ]
     },
     "metadata": {
      "needs_background": "light"
     },
     "output_type": "display_data"
    }
   ],
   "source": [
    "plt.scatter(data_population['age'],data_population['kms'])\n",
    "plt.title('correlation={}'.format(round(np.corrcoef(x=data_population['age'], y=data_population['kms'])[0][1],2)))\n",
    "plt.show()"
   ]
  },
  {
   "cell_type": "code",
   "execution_count": 51,
   "id": "3a490f01",
   "metadata": {},
   "outputs": [
    {
     "data": {
      "image/png": "[encoded data removed]",
      "text/plain": [
       "<Figure size 432x288 with 1 Axes>"
      ]
     },
     "metadata": {
      "needs_background": "light"
     },
     "output_type": "display_data"
    }
   ],
   "source": [
    "plt.scatter(data_population['age'],data_population['price'])\n",
    "plt.title('correlation={}'.format(round(np.corrcoef(x=data_population['age'], y=data_population['price'])[0][1],2)))\n",
    "plt.show()"
   ]
  },
  {
   "cell_type": "markdown",
   "id": "d8fd61a3",
   "metadata": {},
   "source": [
    "The omitted variable is correlated to:\n",
    "- the independent variable\n",
    "- the dependent variable (=> it also explains the result)\n",
    "- the error (=> it is \"hidden\" in the error)\n",
    "\n",
    "=> endogeneity."
   ]
  },
  {
   "cell_type": "code",
   "execution_count": 37,
   "id": "fc1f8f48",
   "metadata": {},
   "outputs": [
    {
     "data": {
      "image/png": "[encoded data removed]",
      "text/plain": [
       "<Figure size 432x288 with 1 Axes>"
      ]
     },
     "metadata": {
      "needs_background": "light"
     },
     "output_type": "display_data"
    }
   ],
   "source": [
    "y_pred_true = lr_true.intercept_ + lr_true.coef_[0]*X_population['age'] + lr_true.coef_[1]*X_population['kms']\n",
    "plt.scatter(X_population['kms'], y_population)\n",
    "plt.plot(X_population['kms'], y_pred_true, 'r')\n",
    "plt.grid()\n",
    "plt.show()"
   ]
  },
  {
   "cell_type": "code",
   "execution_count": 38,
   "id": "090bd09e",
   "metadata": {},
   "outputs": [
    {
     "data": {
      "image/png": "[encoded data removed]",
      "text/plain": [
       "<Figure size 432x288 with 1 Axes>"
      ]
     },
     "metadata": {
      "needs_background": "light"
     },
     "output_type": "display_data"
    }
   ],
   "source": [
    "y_pred = lr_sample.intercept_ + lr_sample.coef_[0]*X_sample['kms']\n",
    "plt.scatter(X_population['kms'], y_population)\n",
    "plt.plot(X_sample['kms'], y_pred, 'r')\n",
    "plt.grid()\n",
    "plt.show()"
   ]
  },
  {
   "cell_type": "markdown",
   "id": "6461c2c7",
   "metadata": {},
   "source": [
    "The estimator is **biased**. Intuitively, if the true model is built on Age and Kms but we only consider Kms, obviously the estimation is biased since it uses **part** of the rules.\n",
    "\n",
    "Note: a biased estimator can have the effect of either underestimate the relationship **or** overestimate the relationship.\n",
    "\n",
    "To detect omitted variables and if all variables are available, try out several combinations of independent variables. If the coefficients change, there is an omitted variable:"
   ]
  },
  {
   "cell_type": "code",
   "execution_count": 39,
   "id": "ea5c0c8c",
   "metadata": {},
   "outputs": [
    {
     "name": "stdout",
     "output_type": "stream",
     "text": [
      "-0.04294117647058824\n",
      "-0.010000000000000002\n",
      "-0.010000000000000002\n"
     ]
    }
   ],
   "source": [
    "print(LinearRegression().fit(np.array(data_sample['kms']).reshape(-1,1), y_sample).coef_[0])\n",
    "print(LinearRegression().fit(data_sample[['kms','age']], y_sample).coef_[0])\n",
    "print(LinearRegression().fit(data_sample[['kms','age','rdm']], y_sample).coef_[0])"
   ]
  },
  {
   "cell_type": "markdown",
   "id": "6cba2295",
   "metadata": {},
   "source": [
    "We can see that when removing/adding Age, the coefficients strongly change => Age should be included in the model.\n",
    "\n",
    "However when adding the RDM it doesn't change => Rdm shouldn't be included in the model."
   ]
  },
  {
   "cell_type": "markdown",
   "id": "ef1aeed4",
   "metadata": {},
   "source": [
    "##### Assumption 3: the errors are uncorrelated"
   ]
  },
  {
   "cell_type": "markdown",
   "id": "ac976246",
   "metadata": {},
   "source": [
    "When errors are correlated, the variance is not minimal anymore.\n",
    "\n",
    "$$\\begin{align*}\n",
    "  Cov(\\widehat{\\theta}) &= \\mathbb{V}[(X^TX)^{-1}X^TY] \\\\\n",
    "            &= \\mathbb{V}[(X^TX)^{-1}X^T(X \\theta^* + \\epsilon)] \\\\\n",
    "\t   &= 0 + ((X^TX)^{-1}X^T)^T\\mathbb{V}[\\epsilon] (X^TX)^{-1}X^T \\\\\n",
    "\t   &> (X^TX)^{-1}\\sigma^2 ~~~~\\text{ since $X^TX$ is symmetric}\n",
    "\\end{align*}$$\n",
    "\n",
    "Reminder: $\\mathbb{V}[\\epsilon] = \\mathbb{E}[\\epsilon^T \\epsilon]$ when $\\mathbb{E}[\\epsilon]=0$"
   ]
  },
  {
   "cell_type": "markdown",
   "id": "2519e788",
   "metadata": {},
   "source": [
    "### Multivariate example "
   ]
  },
  {
   "cell_type": "code",
   "execution_count": 40,
   "id": "87c53954",
   "metadata": {},
   "outputs": [],
   "source": [
    "df = pd.read_csv('HPRICE3.raw', delim_whitespace=True, header=None)"
   ]
  },
  {
   "cell_type": "code",
   "execution_count": 41,
   "id": "d847c1ae",
   "metadata": {},
   "outputs": [
    {
     "data": {
      "text/plain": [
       "(321, 19)"
      ]
     },
     "execution_count": 41,
     "metadata": {},
     "output_type": "execute_result"
    }
   ],
   "source": [
    "df.shape"
   ]
  },
  {
   "cell_type": "code",
   "execution_count": 42,
   "id": "56271c66",
   "metadata": {},
   "outputs": [],
   "source": [
    "price = df[7]/100\n",
    "age = df[1]\n",
    "nbh = df[3]\n",
    "inst = df[5]\n",
    "rooms = df[8]\n",
    "area = df[9]\n",
    "land = df[10]\n",
    "baths = df[11]\n",
    "dist = df[12]\n",
    "y81 = df[15]"
   ]
  },
  {
   "cell_type": "code",
   "execution_count": 43,
   "id": "4a617f2f",
   "metadata": {},
   "outputs": [
    {
     "name": "stdout",
     "output_type": "stream",
     "text": [
      "-211.14276727814251\n",
      "[-2.28878493e+00 -1.98891522e+01 -5.40056344e-03  4.13147513e+01\n",
      "  2.17429764e-01  1.21874610e-03  1.30025473e+02  5.05836600e-03\n",
      "  3.58654274e+02]\n",
      "[-2.11142767e+02 -2.28878493e+00 -1.98891522e+01 -5.40056344e-03\n",
      "  4.13147513e+01  2.17429764e-01  1.21874610e-03  1.30025473e+02\n",
      "  5.05836600e-03  3.58654274e+02]\n"
     ]
    }
   ],
   "source": [
    "X_home = np.column_stack((age,nbh,inst,rooms,area,land,baths,dist,y81))\n",
    "y_home = price\n",
    "# Scikit learn\n",
    "reg_home = LinearRegression().fit(X_home, y_home)\n",
    "print(reg_home.intercept_)\n",
    "print(reg_home.coef_)\n",
    "\n",
    "# Manual\n",
    "const = np.ones(np.shape(price))\n",
    "X_home_const = np.column_stack((const,age,nbh,inst,rooms,area,land,baths,dist,y81))\n",
    "X_gram = np.linalg.inv(np.dot(X_home_const.T, X_home_const))\n",
    "theta = np.dot(X_gram, np.dot(X_home_const.T, y_home)) \n",
    "print(theta)"
   ]
  },
  {
   "cell_type": "code",
   "execution_count": 44,
   "id": "226f9ee0",
   "metadata": {},
   "outputs": [
    {
     "name": "stdout",
     "output_type": "stream",
     "text": [
      "                            OLS Regression Results                            \n",
      "==============================================================================\n",
      "Dep. Variable:                      7   R-squared:                       0.715\n",
      "Model:                            OLS   Adj. R-squared:                  0.707\n",
      "Method:                 Least Squares   F-statistic:                     86.73\n",
      "Date:                Thu, 01 Sep 2022   Prob (F-statistic):           2.14e-79\n",
      "Time:                        22:44:39   Log-Likelihood:                -2201.6\n",
      "No. Observations:                 321   AIC:                             4423.\n",
      "Df Residuals:                     311   BIC:                             4461.\n",
      "Df Model:                           9                                         \n",
      "Covariance Type:            nonrobust                                         \n",
      "==============================================================================\n",
      "                 coef    std err          t      P>|t|      [0.025      0.975]\n",
      "------------------------------------------------------------------------------\n",
      "const       -211.1428    105.234     -2.006      0.046    -418.204      -4.081\n",
      "x1            -2.2888      0.491     -4.659      0.000      -3.255      -1.322\n",
      "x2           -19.8892      6.470     -3.074      0.002     -32.620      -7.158\n",
      "x3            -0.0054      0.004     -1.331      0.184      -0.013       0.003\n",
      "x4            41.3148     19.323      2.138      0.033       3.294      79.335\n",
      "x5             0.2174      0.028      7.863      0.000       0.163       0.272\n",
      "x6             0.0012      0.000      3.239      0.001       0.000       0.002\n",
      "x7           130.0255     28.530      4.557      0.000      73.889     186.162\n",
      "x8             0.0051      0.004      1.280      0.201      -0.003       0.013\n",
      "x9           358.6543     27.666     12.964      0.000     304.218     413.091\n",
      "==============================================================================\n",
      "Omnibus:                       87.991   Durbin-Watson:                   1.596\n",
      "Prob(Omnibus):                  0.000   Jarque-Bera (JB):              581.142\n",
      "Skew:                           0.942   Prob(JB):                    6.41e-127\n",
      "Kurtosis:                       9.317   Cond. No.                     4.94e+05\n",
      "==============================================================================\n",
      "\n",
      "Notes:\n",
      "[1] Standard Errors assume that the covariance matrix of the errors is correctly specified.\n",
      "[2] The condition number is large, 4.94e+05. This might indicate that there are\n",
      "strong multicollinearity or other numerical problems.\n",
      "440.1909469667165\n"
     ]
    }
   ],
   "source": [
    "# Statsmodel\n",
    "model = sm.OLS(y_home, X_home_const)\n",
    "results = model.fit()\n",
    "print(results.summary())\n",
    "\n",
    "s=y81==0 # prix moyen des maisons en 78\n",
    "p0=np.mean(price[s])\n",
    "s=y81==1 # prix moyen des maisons en 81\n",
    "p1=np.mean(price[s])\n",
    "print(p1-p0)"
   ]
  },
  {
   "cell_type": "markdown",
   "id": "ba59d9d3",
   "metadata": {},
   "source": [
    "*Residuals*"
   ]
  },
  {
   "cell_type": "code",
   "execution_count": 45,
   "id": "6fe69d83",
   "metadata": {},
   "outputs": [
    {
     "data": {
      "text/plain": [
       "0      166.095540\n",
       "1     -255.639839\n",
       "2       77.930895\n",
       "3      304.295116\n",
       "4       35.210462\n",
       "          ...    \n",
       "316   -210.619723\n",
       "317      9.310803\n",
       "318     -2.880461\n",
       "319     53.206644\n",
       "320    639.064852\n",
       "Name: 7, Length: 321, dtype: float64"
      ]
     },
     "execution_count": 45,
     "metadata": {},
     "output_type": "execute_result"
    }
   ],
   "source": [
    "y_home-(reg_home.intercept_+np.dot(X_home, reg_home.coef_))"
   ]
  },
  {
   "cell_type": "code",
   "execution_count": 46,
   "id": "6011a800",
   "metadata": {},
   "outputs": [
    {
     "name": "stdout",
     "output_type": "stream",
     "text": [
      "                            OLS Regression Results                            \n",
      "==============================================================================\n",
      "Dep. Variable:                      y   R-squared:                       0.281\n",
      "Model:                            OLS   Adj. R-squared:                  0.261\n",
      "Method:                 Least Squares   F-statistic:                     13.53\n",
      "Date:                Thu, 01 Sep 2022   Prob (F-statistic):           2.57e-18\n",
      "Time:                        22:44:39   Log-Likelihood:                -4234.7\n",
      "No. Observations:                 321   AIC:                             8489.\n",
      "Df Residuals:                     311   BIC:                             8527.\n",
      "Df Model:                           9                                         \n",
      "Covariance Type:            nonrobust                                         \n",
      "==============================================================================\n",
      "                 coef    std err          t      P>|t|      [0.025      0.975]\n",
      "------------------------------------------------------------------------------\n",
      "const       2.307e+04   5.93e+04      0.389      0.697   -9.35e+04     1.4e+05\n",
      "x1          -615.5935    276.676     -2.225      0.027   -1159.986     -71.201\n",
      "x2         -3018.7279   3643.672     -0.828      0.408   -1.02e+04    4150.638\n",
      "x3            -3.0761      2.285     -1.346      0.179      -7.571       1.419\n",
      "x4         -7635.9441   1.09e+04     -0.702      0.483    -2.9e+04    1.38e+04\n",
      "x5            89.8939     15.573      5.772      0.000      59.252     120.536\n",
      "x6             1.5736      0.212      7.426      0.000       1.157       1.991\n",
      "x7         -2.721e+04   1.61e+04     -1.694      0.091   -5.88e+04    4401.122\n",
      "x8            -2.0748      2.225     -0.932      0.352      -6.454       2.304\n",
      "x9          7940.4165   1.56e+04      0.510      0.611   -2.27e+04    3.86e+04\n",
      "==============================================================================\n",
      "Omnibus:                      366.671   Durbin-Watson:                   1.916\n",
      "Prob(Omnibus):                  0.000   Jarque-Bera (JB):            22235.419\n",
      "Skew:                           4.972   Prob(JB):                         0.00\n",
      "Kurtosis:                      42.542   Cond. No.                     4.94e+05\n",
      "==============================================================================\n",
      "\n",
      "Notes:\n",
      "[1] Standard Errors assume that the covariance matrix of the errors is correctly specified.\n",
      "[2] The condition number is large, 4.94e+05. This might indicate that there are\n",
      "strong multicollinearity or other numerical problems.\n"
     ]
    }
   ],
   "source": [
    "# Using residuals as dependent variable may be useful to understand what drive the variance\n",
    "u = results.resid\n",
    "u2 = u**2\n",
    "model = sm.OLS(u2, X_home_const)\n",
    "results = model.fit()\n",
    "print(results.summary())"
   ]
  },
  {
   "cell_type": "code",
   "execution_count": null,
   "id": "90bb9f4d",
   "metadata": {},
   "outputs": [],
   "source": []
  },
  {
   "cell_type": "code",
   "execution_count": null,
   "id": "db0d9f1b",
   "metadata": {},
   "outputs": [],
   "source": []
  },
  {
   "cell_type": "code",
   "execution_count": null,
   "id": "a8b74290",
   "metadata": {},
   "outputs": [],
   "source": []
  },
  {
   "cell_type": "code",
   "execution_count": null,
   "id": "a3bf24a0",
   "metadata": {},
   "outputs": [],
   "source": []
  },
  {
   "cell_type": "code",
   "execution_count": null,
   "id": "38878224",
   "metadata": {},
   "outputs": [],
   "source": []
  },
  {
   "cell_type": "code",
   "execution_count": 47,
   "id": "a0afa596",
   "metadata": {},
   "outputs": [],
   "source": [
    "import statsmodels as sm_model\n",
    "import numpy as np\n",
    "import matplotlib.pyplot as plt"
   ]
  },
  {
   "cell_type": "markdown",
   "id": "cdc4b744",
   "metadata": {},
   "source": [
    "H0: m = a\n",
    "\n",
    "H1: m != a"
   ]
  },
  {
   "cell_type": "code",
   "execution_count": 48,
   "id": "64a5b6de",
   "metadata": {},
   "outputs": [
    {
     "data": {
      "image/png": "[encoded data removed]",
      "text/plain": [
       "<Figure size 720x360 with 1 Axes>"
      ]
     },
     "metadata": {
      "needs_background": "light"
     },
     "output_type": "display_data"
    }
   ],
   "source": [
    "# Generate data\n",
    "rnd = np.random.RandomState(3)\n",
    "n_size = 1000\n",
    "sample = [rnd.randint(100) for i in range(n_size)]\n",
    "real_life_value = np.mean(sample)\n",
    "pop_std = 30\n",
    "a = 51\n",
    "\n",
    "distr = [rnd.normal(a, pop_std/np.sqrt(n_size)) for i in range(n_size)]\n",
    "plt.figure(figsize=(10,5))\n",
    "plt.hist(distr, bins=20)\n",
    "plt.axvline(x=real_life_value, color='r')\n",
    "plt.title('Distribution of estimator')\n",
    "plt.show()"
   ]
  },
  {
   "cell_type": "code",
   "execution_count": 49,
   "id": "35918f06",
   "metadata": {},
   "outputs": [],
   "source": [
    "# sm_model.stats.weightstats.ztest(x1=sample, value=a)"
   ]
  },
  {
   "cell_type": "markdown",
   "id": "96f3e5a8",
   "metadata": {},
   "source": [
    "- Case when we don't know the population variance?\n",
    "- Case when we have a very small sample?\n",
    "- How to display power of the test?\n",
    "\n",
    "Example: \"most of French people are impolite (I met 5 of them, 3 were douchbags)\""
   ]
  }
 ],
 "metadata": {
  "kernelspec": {
   "display_name": "Python 3",
   "language": "python",
   "name": "python3"
  },
  "language_info": {
   "codemirror_mode": {
    "name": "ipython",
    "version": 3
   },
   "file_extension": ".py",
   "mimetype": "text/x-python",
   "name": "python",
   "nbconvert_exporter": "python",
   "pygments_lexer": "ipython3",
   "version": "3.8.8"
  }
 },
 "nbformat": 4,
 "nbformat_minor": 5
}
