{
 "cells": [
  {
   "cell_type": "code",
   "execution_count": 38,
   "id": "9915df3c",
   "metadata": {},
   "outputs": [],
   "source": [
    "import numpy as np\n",
    "\n",
    "from scipy.stats import chisquare, fisher_exact, binomtest, chi2_contingency\n",
    "\n",
    "import math"
   ]
  },
  {
   "cell_type": "markdown",
   "id": "84073ff9",
   "metadata": {},
   "source": [
    "# Check the statistical significance of a research article"
   ]
  },
  {
   "cell_type": "markdown",
   "id": "ae98eedc",
   "metadata": {},
   "source": [
    "<img src='cancer-research-data.png'>"
   ]
  },
  {
   "cell_type": "markdown",
   "id": "d77f12b7",
   "metadata": {},
   "source": [
    "Can we prove statistically that:\n",
    "\n",
    "1- the patients who refused are mostly male?\n",
    "\n",
    "2- the patients who refused are mostly sedentary?"
   ]
  },
  {
   "cell_type": "markdown",
   "id": "a5780688",
   "metadata": {},
   "source": [
    "Features = Male / Female / Sedentary / Active at home / Active outside"
   ]
  },
  {
   "cell_type": "markdown",
   "id": "cd502c7a",
   "metadata": {},
   "source": [
    "### Chi-2 test"
   ]
  },
  {
   "cell_type": "markdown",
   "id": "8e91c045",
   "metadata": {},
   "source": [
    "#### One sample goodness-of-fit test"
   ]
  },
  {
   "cell_type": "markdown",
   "id": "4448f3df",
   "metadata": {},
   "source": [
    "The expected distribution is the distribution that would be associated with perfect randomness.\n",
    "\n",
    "WARNING: minimum number of observations as explained below.\n",
    "\n",
    "\"This test is invalid when the observed or expected frequencies in each category are too small. A typical rule is that <font color='red'>all of the observed and expected frequencies should be at least 5</font>.\" Scipy\n",
    "\n",
    "\"Ces données ne sont pas adaptées pour une analyse par un test du chi2, parce que les valeurs attendues (théoriques) dans la table sont inférieures à 10, et dans une table de contingence 2 × 2, le nombre de degrés de liberté est toujours égal à 1.\" Wiki"
   ]
  },
  {
   "cell_type": "code",
   "execution_count": 14,
   "id": "263f77f4",
   "metadata": {},
   "outputs": [
    {
     "data": {
      "text/plain": [
       "0.17611982574413293"
      ]
     },
     "execution_count": 14,
     "metadata": {},
     "output_type": "execute_result"
    }
   ],
   "source": [
    "# men\n",
    "chisquare([21, 14], f_exp=[17, 18]).pvalue"
   ]
  },
  {
   "cell_type": "markdown",
   "id": "8e81502e",
   "metadata": {},
   "source": [
    "#### Several samples (independence)"
   ]
  },
  {
   "cell_type": "markdown",
   "id": "985e30a5",
   "metadata": {},
   "source": [
    "Not so adapted...?\n",
    "\n",
    "$\\mathcal{H}_0$ : samples have the same distribution (<=> samples are independent??)"
   ]
  },
  {
   "cell_type": "code",
   "execution_count": 52,
   "id": "317189ae",
   "metadata": {},
   "outputs": [],
   "source": [
    "# # test\n",
    "# obs = np.array([[10, 12, 9], [30, 35, 29], [100, 120, 90]])\n",
    "# chi2_contingency(obs)[1]"
   ]
  },
  {
   "cell_type": "code",
   "execution_count": 44,
   "id": "81f51499",
   "metadata": {},
   "outputs": [
    {
     "data": {
      "text/plain": [
       "0.20681615502735093"
      ]
     },
     "execution_count": 44,
     "metadata": {},
     "output_type": "execute_result"
    }
   ],
   "source": [
    "# men vs women\n",
    "obs = np.array([[21, 14], [4,8]])\n",
    "chi2_contingency(obs)[1]"
   ]
  },
  {
   "cell_type": "markdown",
   "id": "e9f183d1",
   "metadata": {},
   "source": [
    "### Fisher exact test"
   ]
  },
  {
   "cell_type": "markdown",
   "id": "5431160e",
   "metadata": {},
   "source": [
    "Warning: *scipy* provides the implementation only for 2x2 contingency table."
   ]
  },
  {
   "cell_type": "code",
   "execution_count": 15,
   "id": "ab922869",
   "metadata": {},
   "outputs": [
    {
     "data": {
      "text/plain": [
       "0.18001356428360688"
      ]
     },
     "execution_count": 15,
     "metadata": {},
     "output_type": "execute_result"
    }
   ],
   "source": [
    "# men & women\n",
    "table = [[14,8],[21,4]]\n",
    "\n",
    "res = fisher_exact(table, alternative='two-sided')\n",
    "res[1]"
   ]
  },
  {
   "cell_type": "code",
   "execution_count": 23,
   "id": "80d2dd66",
   "metadata": {},
   "outputs": [
    {
     "data": {
      "text/plain": [
       "0.6114708603145236"
      ]
     },
     "execution_count": 23,
     "metadata": {},
     "output_type": "execute_result"
    }
   ],
   "source": [
    "# sedentary: we binarize with 2 categories\n",
    "# - sedentary\n",
    "# - non sedentary (active at home + active outside)\n",
    "table = [[1,21],[3,22]]\n",
    "\n",
    "res = fisher_exact(table, alternative='two-sided')\n",
    "res[1]"
   ]
  },
  {
   "cell_type": "markdown",
   "id": "eeae7fac",
   "metadata": {},
   "source": [
    "### Binomial test"
   ]
  },
  {
   "cell_type": "markdown",
   "id": "b9dec927",
   "metadata": {},
   "source": [
    "This test is very simple and focuses on one feature only."
   ]
  },
  {
   "cell_type": "code",
   "execution_count": 25,
   "id": "7841897c",
   "metadata": {},
   "outputs": [
    {
     "name": "stdout",
     "output_type": "stream",
     "text": [
      "p (observed) = 0.6\n",
      "s1 = 0.08773262449540198\n",
      "s2 = 0.15525232953950763\n",
      "pval (manual) = 0.24\n",
      "pval (scipy) = 0.31\n",
      "CI for the proba = [0.33,0.67] (we dont reject if inside)\n",
      "CI for the number of successes = [12,23] (we dont reject if inside)\n"
     ]
    }
   ],
   "source": [
    "# men\n",
    "\n",
    "n = 35\n",
    "k = 21 # number of successes\n",
    "p = .5 # proba to have a success\n",
    "\n",
    "print('p (observed) = {}'.format(k/35))\n",
    "\n",
    "k_exp = int(n*p)\n",
    "if k<k_exp:\n",
    "    k1 = k\n",
    "    k2 = int(p*n+np.abs(p*n-k))\n",
    "else:\n",
    "    diff = np.abs(k-k_exp)\n",
    "    k1 = k_exp-diff\n",
    "    k2 = k_exp+diff\n",
    "\n",
    "s1 = 0\n",
    "for i in range(0, k1+1):\n",
    "    s1 += math.factorial(n)/(math.factorial(n-i)*math.factorial(i))*(p**i)*(1-p)**(n-i)\n",
    "print('s1 = {}'.format(s1))\n",
    "\n",
    "s2 = 0\n",
    "for i in range(k2, n+1):\n",
    "    s2 += math.factorial(n)/(math.factorial(n-i)*math.factorial(i))*(p**i)*(1-p)**(n-i)\n",
    "print('s2 = {}'.format(s2))\n",
    "print('pval (manual) = {}'.format(round(s1+s2,2)))\n",
    "\n",
    "result = binomtest(k, n=n, p=p, alternative='two-sided')\n",
    "print('pval (scipy) = {}'.format(round(result.pvalue,2)))\n",
    "\n",
    "CI_low = p-1.96*np.sqrt((p*(1-p))/n)\n",
    "CI_high = p+1.96*np.sqrt((p*(1-p))/n)\n",
    "\n",
    "print('CI for the proba = [{},{}] (we dont reject if inside)'.format(round(CI_low,2),\n",
    "                                                       round(CI_high,2)))\n",
    "print('CI for the number of successes = [{},{}] (we dont reject if inside)'.format(round(CI_low*n),\n",
    "                                                       round(CI_high*n)))"
   ]
  },
  {
   "cell_type": "code",
   "execution_count": 26,
   "id": "c3c1f827",
   "metadata": {},
   "outputs": [
    {
     "name": "stdout",
     "output_type": "stream",
     "text": [
      "p (observed) = 0.08571428571428572\n",
      "s1 = 0.3125\n",
      "s2 = 0.3125\n",
      "pval (manual) = 0.62\n",
      "pval (scipy) = 0.62\n",
      "CI for the proba = [0.01,0.99] (we dont reject if inside)\n",
      "CI for the number of successes = [0,4] (we dont reject if inside)\n"
     ]
    }
   ],
   "source": [
    "# sedentary\n",
    "\n",
    "n = 4\n",
    "k = 3 # number of successes\n",
    "p = .5 # proba to have a success\n",
    "\n",
    "print('p (observed) = {}'.format(k/35))\n",
    "\n",
    "k_exp = int(n*p)\n",
    "if k<k_exp:\n",
    "    k1 = k\n",
    "    k2 = int(p*n+np.abs(p*n-k))\n",
    "else:\n",
    "    diff = np.abs(k-k_exp)\n",
    "    k1 = k_exp-diff\n",
    "    k2 = k_exp+diff\n",
    "\n",
    "s1 = 0\n",
    "for i in range(0, k1+1):\n",
    "    s1 += math.factorial(n)/(math.factorial(n-i)*math.factorial(i))*(p**i)*(1-p)**(n-i)\n",
    "print('s1 = {}'.format(s1))\n",
    "\n",
    "s2 = 0\n",
    "for i in range(k2, n+1):\n",
    "    s2 += math.factorial(n)/(math.factorial(n-i)*math.factorial(i))*(p**i)*(1-p)**(n-i)\n",
    "print('s2 = {}'.format(s2))\n",
    "print('pval (manual) = {}'.format(round(s1+s2,2)))\n",
    "\n",
    "result = binomtest(k, n=n, p=p, alternative='two-sided')\n",
    "print('pval (scipy) = {}'.format(round(result.pvalue,2)))\n",
    "\n",
    "CI_low = p-1.96*np.sqrt((p*(1-p))/n)\n",
    "CI_high = p+1.96*np.sqrt((p*(1-p))/n)\n",
    "\n",
    "print('CI for the proba = [{},{}] (we dont reject if inside)'.format(round(CI_low,2),\n",
    "                                                       round(CI_high,2)))\n",
    "print('CI for the number of successes = [{},{}] (we dont reject if inside)'.format(round(CI_low*n),\n",
    "                                                       round(CI_high*n)))"
   ]
  }
 ],
 "metadata": {
  "kernelspec": {
   "display_name": "Python 3 (ipykernel)",
   "language": "python",
   "name": "python3"
  },
  "language_info": {
   "codemirror_mode": {
    "name": "ipython",
    "version": 3
   },
   "file_extension": ".py",
   "mimetype": "text/x-python",
   "name": "python",
   "nbconvert_exporter": "python",
   "pygments_lexer": "ipython3",
   "version": "3.8.8"
  }
 },
 "nbformat": 4,
 "nbformat_minor": 5
}
