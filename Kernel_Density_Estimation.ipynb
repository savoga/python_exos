{
 "cells": [
  {
   "cell_type": "code",
   "execution_count": 66,
   "id": "embedded-weekend",
   "metadata": {},
   "outputs": [],
   "source": [
    "import numpy as np\n",
    "import pandas as pd\n",
    "import plotly.graph_objects as go\n",
    "import matplotlib.pyplot as plt\n",
    "import plotly.figure_factory as ff\n",
    "from sklearn.metrics.pairwise import rbf_kernel"
   ]
  },
  {
   "cell_type": "code",
   "execution_count": 173,
   "id": "deadly-frame",
   "metadata": {},
   "outputs": [],
   "source": [
    "np.random.seed(2)\n",
    "# data = np.random.randint(0,10,10)\n",
    "# data\n",
    "# data = [1,1,2,2,2,2,3,3,3,4,4,4,4,4]\n",
    "data = [1, 3, 3]"
   ]
  },
  {
   "cell_type": "code",
   "execution_count": 174,
   "id": "extended-pursuit",
   "metadata": {},
   "outputs": [
    {
     "data": {
      "application/vnd.plotly.v1+json": {
       "config": {
        "plotlyServerURL": "https://plot.ly"
       },
       "data": [
        {
         "histnorm": "probability density",
         "nbinsx": 3,
         "type": "histogram",
         "x": [
          1,
          3,
          3
         ]
        }
       ],
       "layout": {
        "template": {
         "data": {
          "bar": [
           {
            "error_x": {
             "color": "#2a3f5f"
            },
            "error_y": {
             "color": "#2a3f5f"
            },
            "marker": {
             "line": {
              "color": "#E5ECF6",
              "width": 0.5
             }
            },
            "type": "bar"
           }
          ],
          "barpolar": [
           {
            "marker": {
             "line": {
              "color": "#E5ECF6",
              "width": 0.5
             }
            },
            "type": "barpolar"
           }
          ],
          "carpet": [
           {
            "aaxis": {
             "endlinecolor": "#2a3f5f",
             "gridcolor": "white",
             "linecolor": "white",
             "minorgridcolor": "white",
             "startlinecolor": "#2a3f5f"
            },
            "baxis": {
             "endlinecolor": "#2a3f5f",
             "gridcolor": "white",
             "linecolor": "white",
             "minorgridcolor": "white",
             "startlinecolor": "#2a3f5f"
            },
            "type": "carpet"
           }
          ],
          "choropleth": [
           {
            "colorbar": {
             "outlinewidth": 0,
             "ticks": ""
            },
            "type": "choropleth"
           }
          ],
          "contour": [
           {
            "colorbar": {
             "outlinewidth": 0,
             "ticks": ""
            },
            "colorscale": [
             [
              0,
              "#0d0887"
             ],
             [
              0.1111111111111111,
              "#46039f"
             ],
             [
              0.2222222222222222,
              "#7201a8"
             ],
             [
              0.3333333333333333,
              "#9c179e"
             ],
             [
              0.4444444444444444,
              "#bd3786"
             ],
             [
              0.5555555555555556,
              "#d8576b"
             ],
             [
              0.6666666666666666,
              "#ed7953"
             ],
             [
              0.7777777777777778,
              "#fb9f3a"
             ],
             [
              0.8888888888888888,
              "#fdca26"
             ],
             [
              1,
              "#f0f921"
             ]
            ],
            "type": "contour"
           }
          ],
          "contourcarpet": [
           {
            "colorbar": {
             "outlinewidth": 0,
             "ticks": ""
            },
            "type": "contourcarpet"
           }
          ],
          "heatmap": [
           {
            "colorbar": {
             "outlinewidth": 0,
             "ticks": ""
            },
            "colorscale": [
             [
              0,
              "#0d0887"
             ],
             [
              0.1111111111111111,
              "#46039f"
             ],
             [
              0.2222222222222222,
              "#7201a8"
             ],
             [
              0.3333333333333333,
              "#9c179e"
             ],
             [
              0.4444444444444444,
              "#bd3786"
             ],
             [
              0.5555555555555556,
              "#d8576b"
             ],
             [
              0.6666666666666666,
              "#ed7953"
             ],
             [
              0.7777777777777778,
              "#fb9f3a"
             ],
             [
              0.8888888888888888,
              "#fdca26"
             ],
             [
              1,
              "#f0f921"
             ]
            ],
            "type": "heatmap"
           }
          ],
          "heatmapgl": [
           {
            "colorbar": {
             "outlinewidth": 0,
             "ticks": ""
            },
            "colorscale": [
             [
              0,
              "#0d0887"
             ],
             [
              0.1111111111111111,
              "#46039f"
             ],
             [
              0.2222222222222222,
              "#7201a8"
             ],
             [
              0.3333333333333333,
              "#9c179e"
             ],
             [
              0.4444444444444444,
              "#bd3786"
             ],
             [
              0.5555555555555556,
              "#d8576b"
             ],
             [
              0.6666666666666666,
              "#ed7953"
             ],
             [
              0.7777777777777778,
              "#fb9f3a"
             ],
             [
              0.8888888888888888,
              "#fdca26"
             ],
             [
              1,
              "#f0f921"
             ]
            ],
            "type": "heatmapgl"
           }
          ],
          "histogram": [
           {
            "marker": {
             "colorbar": {
              "outlinewidth": 0,
              "ticks": ""
             }
            },
            "type": "histogram"
           }
          ],
          "histogram2d": [
           {
            "colorbar": {
             "outlinewidth": 0,
             "ticks": ""
            },
            "colorscale": [
             [
              0,
              "#0d0887"
             ],
             [
              0.1111111111111111,
              "#46039f"
             ],
             [
              0.2222222222222222,
              "#7201a8"
             ],
             [
              0.3333333333333333,
              "#9c179e"
             ],
             [
              0.4444444444444444,
              "#bd3786"
             ],
             [
              0.5555555555555556,
              "#d8576b"
             ],
             [
              0.6666666666666666,
              "#ed7953"
             ],
             [
              0.7777777777777778,
              "#fb9f3a"
             ],
             [
              0.8888888888888888,
              "#fdca26"
             ],
             [
              1,
              "#f0f921"
             ]
            ],
            "type": "histogram2d"
           }
          ],
          "histogram2dcontour": [
           {
            "colorbar": {
             "outlinewidth": 0,
             "ticks": ""
            },
            "colorscale": [
             [
              0,
              "#0d0887"
             ],
             [
              0.1111111111111111,
              "#46039f"
             ],
             [
              0.2222222222222222,
              "#7201a8"
             ],
             [
              0.3333333333333333,
              "#9c179e"
             ],
             [
              0.4444444444444444,
              "#bd3786"
             ],
             [
              0.5555555555555556,
              "#d8576b"
             ],
             [
              0.6666666666666666,
              "#ed7953"
             ],
             [
              0.7777777777777778,
              "#fb9f3a"
             ],
             [
              0.8888888888888888,
              "#fdca26"
             ],
             [
              1,
              "#f0f921"
             ]
            ],
            "type": "histogram2dcontour"
           }
          ],
          "mesh3d": [
           {
            "colorbar": {
             "outlinewidth": 0,
             "ticks": ""
            },
            "type": "mesh3d"
           }
          ],
          "parcoords": [
           {
            "line": {
             "colorbar": {
              "outlinewidth": 0,
              "ticks": ""
             }
            },
            "type": "parcoords"
           }
          ],
          "pie": [
           {
            "automargin": true,
            "type": "pie"
           }
          ],
          "scatter": [
           {
            "marker": {
             "colorbar": {
              "outlinewidth": 0,
              "ticks": ""
             }
            },
            "type": "scatter"
           }
          ],
          "scatter3d": [
           {
            "line": {
             "colorbar": {
              "outlinewidth": 0,
              "ticks": ""
             }
            },
            "marker": {
             "colorbar": {
              "outlinewidth": 0,
              "ticks": ""
             }
            },
            "type": "scatter3d"
           }
          ],
          "scattercarpet": [
           {
            "marker": {
             "colorbar": {
              "outlinewidth": 0,
              "ticks": ""
             }
            },
            "type": "scattercarpet"
           }
          ],
          "scattergeo": [
           {
            "marker": {
             "colorbar": {
              "outlinewidth": 0,
              "ticks": ""
             }
            },
            "type": "scattergeo"
           }
          ],
          "scattergl": [
           {
            "marker": {
             "colorbar": {
              "outlinewidth": 0,
              "ticks": ""
             }
            },
            "type": "scattergl"
           }
          ],
          "scattermapbox": [
           {
            "marker": {
             "colorbar": {
              "outlinewidth": 0,
              "ticks": ""
             }
            },
            "type": "scattermapbox"
           }
          ],
          "scatterpolar": [
           {
            "marker": {
             "colorbar": {
              "outlinewidth": 0,
              "ticks": ""
             }
            },
            "type": "scatterpolar"
           }
          ],
          "scatterpolargl": [
           {
            "marker": {
             "colorbar": {
              "outlinewidth": 0,
              "ticks": ""
             }
            },
            "type": "scatterpolargl"
           }
          ],
          "scatterternary": [
           {
            "marker": {
             "colorbar": {
              "outlinewidth": 0,
              "ticks": ""
             }
            },
            "type": "scatterternary"
           }
          ],
          "surface": [
           {
            "colorbar": {
             "outlinewidth": 0,
             "ticks": ""
            },
            "colorscale": [
             [
              0,
              "#0d0887"
             ],
             [
              0.1111111111111111,
              "#46039f"
             ],
             [
              0.2222222222222222,
              "#7201a8"
             ],
             [
              0.3333333333333333,
              "#9c179e"
             ],
             [
              0.4444444444444444,
              "#bd3786"
             ],
             [
              0.5555555555555556,
              "#d8576b"
             ],
             [
              0.6666666666666666,
              "#ed7953"
             ],
             [
              0.7777777777777778,
              "#fb9f3a"
             ],
             [
              0.8888888888888888,
              "#fdca26"
             ],
             [
              1,
              "#f0f921"
             ]
            ],
            "type": "surface"
           }
          ],
          "table": [
           {
            "cells": {
             "fill": {
              "color": "#EBF0F8"
             },
             "line": {
              "color": "white"
             }
            },
            "header": {
             "fill": {
              "color": "#C8D4E3"
             },
             "line": {
              "color": "white"
             }
            },
            "type": "table"
           }
          ]
         },
         "layout": {
          "annotationdefaults": {
           "arrowcolor": "#2a3f5f",
           "arrowhead": 0,
           "arrowwidth": 1
          },
          "coloraxis": {
           "colorbar": {
            "outlinewidth": 0,
            "ticks": ""
           }
          },
          "colorscale": {
           "diverging": [
            [
             0,
             "#8e0152"
            ],
            [
             0.1,
             "#c51b7d"
            ],
            [
             0.2,
             "#de77ae"
            ],
            [
             0.3,
             "#f1b6da"
            ],
            [
             0.4,
             "#fde0ef"
            ],
            [
             0.5,
             "#f7f7f7"
            ],
            [
             0.6,
             "#e6f5d0"
            ],
            [
             0.7,
             "#b8e186"
            ],
            [
             0.8,
             "#7fbc41"
            ],
            [
             0.9,
             "#4d9221"
            ],
            [
             1,
             "#276419"
            ]
           ],
           "sequential": [
            [
             0,
             "#0d0887"
            ],
            [
             0.1111111111111111,
             "#46039f"
            ],
            [
             0.2222222222222222,
             "#7201a8"
            ],
            [
             0.3333333333333333,
             "#9c179e"
            ],
            [
             0.4444444444444444,
             "#bd3786"
            ],
            [
             0.5555555555555556,
             "#d8576b"
            ],
            [
             0.6666666666666666,
             "#ed7953"
            ],
            [
             0.7777777777777778,
             "#fb9f3a"
            ],
            [
             0.8888888888888888,
             "#fdca26"
            ],
            [
             1,
             "#f0f921"
            ]
           ],
           "sequentialminus": [
            [
             0,
             "#0d0887"
            ],
            [
             0.1111111111111111,
             "#46039f"
            ],
            [
             0.2222222222222222,
             "#7201a8"
            ],
            [
             0.3333333333333333,
             "#9c179e"
            ],
            [
             0.4444444444444444,
             "#bd3786"
            ],
            [
             0.5555555555555556,
             "#d8576b"
            ],
            [
             0.6666666666666666,
             "#ed7953"
            ],
            [
             0.7777777777777778,
             "#fb9f3a"
            ],
            [
             0.8888888888888888,
             "#fdca26"
            ],
            [
             1,
             "#f0f921"
            ]
           ]
          },
          "colorway": [
           "#636efa",
           "#EF553B",
           "#00cc96",
           "#ab63fa",
           "#FFA15A",
           "#19d3f3",
           "#FF6692",
           "#B6E880",
           "#FF97FF",
           "#FECB52"
          ],
          "font": {
           "color": "#2a3f5f"
          },
          "geo": {
           "bgcolor": "white",
           "lakecolor": "white",
           "landcolor": "#E5ECF6",
           "showlakes": true,
           "showland": true,
           "subunitcolor": "white"
          },
          "hoverlabel": {
           "align": "left"
          },
          "hovermode": "closest",
          "mapbox": {
           "style": "light"
          },
          "paper_bgcolor": "white",
          "plot_bgcolor": "#E5ECF6",
          "polar": {
           "angularaxis": {
            "gridcolor": "white",
            "linecolor": "white",
            "ticks": ""
           },
           "bgcolor": "#E5ECF6",
           "radialaxis": {
            "gridcolor": "white",
            "linecolor": "white",
            "ticks": ""
           }
          },
          "scene": {
           "xaxis": {
            "backgroundcolor": "#E5ECF6",
            "gridcolor": "white",
            "gridwidth": 2,
            "linecolor": "white",
            "showbackground": true,
            "ticks": "",
            "zerolinecolor": "white"
           },
           "yaxis": {
            "backgroundcolor": "#E5ECF6",
            "gridcolor": "white",
            "gridwidth": 2,
            "linecolor": "white",
            "showbackground": true,
            "ticks": "",
            "zerolinecolor": "white"
           },
           "zaxis": {
            "backgroundcolor": "#E5ECF6",
            "gridcolor": "white",
            "gridwidth": 2,
            "linecolor": "white",
            "showbackground": true,
            "ticks": "",
            "zerolinecolor": "white"
           }
          },
          "shapedefaults": {
           "line": {
            "color": "#2a3f5f"
           }
          },
          "ternary": {
           "aaxis": {
            "gridcolor": "white",
            "linecolor": "white",
            "ticks": ""
           },
           "baxis": {
            "gridcolor": "white",
            "linecolor": "white",
            "ticks": ""
           },
           "bgcolor": "#E5ECF6",
           "caxis": {
            "gridcolor": "white",
            "linecolor": "white",
            "ticks": ""
           }
          },
          "title": {
           "x": 0.05
          },
          "xaxis": {
           "automargin": true,
           "gridcolor": "white",
           "linecolor": "white",
           "ticks": "",
           "title": {
            "standoff": 15
           },
           "zerolinecolor": "white",
           "zerolinewidth": 2
          },
          "yaxis": {
           "automargin": true,
           "gridcolor": "white",
           "linecolor": "white",
           "ticks": "",
           "title": {
            "standoff": 15
           },
           "zerolinecolor": "white",
           "zerolinewidth": 2
          }
         }
        }
       }
      },
      "text/html": [
       "<div>\n",
       "        \n",
       "        \n",
       "            <div id=\"cc081bd6-5722-45ab-9f7a-f0d63a42089c\" class=\"plotly-graph-div\" style=\"height:525px; width:100%;\"></div>\n",
       "            <script type=\"text/javascript\">\n",
       "                require([\"plotly\"], function(Plotly) {\n",
       "                    window.PLOTLYENV=window.PLOTLYENV || {};\n",
       "                    \n",
       "                if (document.getElementById(\"cc081bd6-5722-45ab-9f7a-f0d63a42089c\")) {\n",
       "                    Plotly.newPlot(\n",
       "                        'cc081bd6-5722-45ab-9f7a-f0d63a42089c',\n",
       "                        [{\"histnorm\": \"probability density\", \"nbinsx\": 3, \"type\": \"histogram\", \"x\": [1, 3, 3]}],\n",
       "                        {\"template\": {\"data\": {\"bar\": [{\"error_x\": {\"color\": \"#2a3f5f\"}, \"error_y\": {\"color\": \"#2a3f5f\"}, \"marker\": {\"line\": {\"color\": \"#E5ECF6\", \"width\": 0.5}}, \"type\": \"bar\"}], \"barpolar\": [{\"marker\": {\"line\": {\"color\": \"#E5ECF6\", \"width\": 0.5}}, \"type\": \"barpolar\"}], \"carpet\": [{\"aaxis\": {\"endlinecolor\": \"#2a3f5f\", \"gridcolor\": \"white\", \"linecolor\": \"white\", \"minorgridcolor\": \"white\", \"startlinecolor\": \"#2a3f5f\"}, \"baxis\": {\"endlinecolor\": \"#2a3f5f\", \"gridcolor\": \"white\", \"linecolor\": \"white\", \"minorgridcolor\": \"white\", \"startlinecolor\": \"#2a3f5f\"}, \"type\": \"carpet\"}], \"choropleth\": [{\"colorbar\": {\"outlinewidth\": 0, \"ticks\": \"\"}, \"type\": \"choropleth\"}], \"contour\": [{\"colorbar\": {\"outlinewidth\": 0, \"ticks\": \"\"}, \"colorscale\": [[0.0, \"#0d0887\"], [0.1111111111111111, \"#46039f\"], [0.2222222222222222, \"#7201a8\"], [0.3333333333333333, \"#9c179e\"], [0.4444444444444444, \"#bd3786\"], [0.5555555555555556, \"#d8576b\"], [0.6666666666666666, \"#ed7953\"], [0.7777777777777778, \"#fb9f3a\"], [0.8888888888888888, \"#fdca26\"], [1.0, \"#f0f921\"]], \"type\": \"contour\"}], \"contourcarpet\": [{\"colorbar\": {\"outlinewidth\": 0, \"ticks\": \"\"}, \"type\": \"contourcarpet\"}], \"heatmap\": [{\"colorbar\": {\"outlinewidth\": 0, \"ticks\": \"\"}, \"colorscale\": [[0.0, \"#0d0887\"], [0.1111111111111111, \"#46039f\"], [0.2222222222222222, \"#7201a8\"], [0.3333333333333333, \"#9c179e\"], [0.4444444444444444, \"#bd3786\"], [0.5555555555555556, \"#d8576b\"], [0.6666666666666666, \"#ed7953\"], [0.7777777777777778, \"#fb9f3a\"], [0.8888888888888888, \"#fdca26\"], [1.0, \"#f0f921\"]], \"type\": \"heatmap\"}], \"heatmapgl\": [{\"colorbar\": {\"outlinewidth\": 0, \"ticks\": \"\"}, \"colorscale\": [[0.0, \"#0d0887\"], [0.1111111111111111, \"#46039f\"], [0.2222222222222222, \"#7201a8\"], [0.3333333333333333, \"#9c179e\"], [0.4444444444444444, \"#bd3786\"], [0.5555555555555556, \"#d8576b\"], [0.6666666666666666, \"#ed7953\"], [0.7777777777777778, \"#fb9f3a\"], [0.8888888888888888, \"#fdca26\"], [1.0, \"#f0f921\"]], \"type\": \"heatmapgl\"}], \"histogram\": [{\"marker\": {\"colorbar\": {\"outlinewidth\": 0, \"ticks\": \"\"}}, \"type\": \"histogram\"}], \"histogram2d\": [{\"colorbar\": {\"outlinewidth\": 0, \"ticks\": \"\"}, \"colorscale\": [[0.0, \"#0d0887\"], [0.1111111111111111, \"#46039f\"], [0.2222222222222222, \"#7201a8\"], [0.3333333333333333, \"#9c179e\"], [0.4444444444444444, \"#bd3786\"], [0.5555555555555556, \"#d8576b\"], [0.6666666666666666, \"#ed7953\"], [0.7777777777777778, \"#fb9f3a\"], [0.8888888888888888, \"#fdca26\"], [1.0, \"#f0f921\"]], \"type\": \"histogram2d\"}], \"histogram2dcontour\": [{\"colorbar\": {\"outlinewidth\": 0, \"ticks\": \"\"}, \"colorscale\": [[0.0, \"#0d0887\"], [0.1111111111111111, \"#46039f\"], [0.2222222222222222, \"#7201a8\"], [0.3333333333333333, \"#9c179e\"], [0.4444444444444444, \"#bd3786\"], [0.5555555555555556, \"#d8576b\"], [0.6666666666666666, \"#ed7953\"], [0.7777777777777778, \"#fb9f3a\"], [0.8888888888888888, \"#fdca26\"], [1.0, \"#f0f921\"]], \"type\": \"histogram2dcontour\"}], \"mesh3d\": [{\"colorbar\": {\"outlinewidth\": 0, \"ticks\": \"\"}, \"type\": \"mesh3d\"}], \"parcoords\": [{\"line\": {\"colorbar\": {\"outlinewidth\": 0, \"ticks\": \"\"}}, \"type\": \"parcoords\"}], \"pie\": [{\"automargin\": true, \"type\": \"pie\"}], \"scatter\": [{\"marker\": {\"colorbar\": {\"outlinewidth\": 0, \"ticks\": \"\"}}, \"type\": \"scatter\"}], \"scatter3d\": [{\"line\": {\"colorbar\": {\"outlinewidth\": 0, \"ticks\": \"\"}}, \"marker\": {\"colorbar\": {\"outlinewidth\": 0, \"ticks\": \"\"}}, \"type\": \"scatter3d\"}], \"scattercarpet\": [{\"marker\": {\"colorbar\": {\"outlinewidth\": 0, \"ticks\": \"\"}}, \"type\": \"scattercarpet\"}], \"scattergeo\": [{\"marker\": {\"colorbar\": {\"outlinewidth\": 0, \"ticks\": \"\"}}, \"type\": \"scattergeo\"}], \"scattergl\": [{\"marker\": {\"colorbar\": {\"outlinewidth\": 0, \"ticks\": \"\"}}, \"type\": \"scattergl\"}], \"scattermapbox\": [{\"marker\": {\"colorbar\": {\"outlinewidth\": 0, \"ticks\": \"\"}}, \"type\": \"scattermapbox\"}], \"scatterpolar\": [{\"marker\": {\"colorbar\": {\"outlinewidth\": 0, \"ticks\": \"\"}}, \"type\": \"scatterpolar\"}], \"scatterpolargl\": [{\"marker\": {\"colorbar\": {\"outlinewidth\": 0, \"ticks\": \"\"}}, \"type\": \"scatterpolargl\"}], \"scatterternary\": [{\"marker\": {\"colorbar\": {\"outlinewidth\": 0, \"ticks\": \"\"}}, \"type\": \"scatterternary\"}], \"surface\": [{\"colorbar\": {\"outlinewidth\": 0, \"ticks\": \"\"}, \"colorscale\": [[0.0, \"#0d0887\"], [0.1111111111111111, \"#46039f\"], [0.2222222222222222, \"#7201a8\"], [0.3333333333333333, \"#9c179e\"], [0.4444444444444444, \"#bd3786\"], [0.5555555555555556, \"#d8576b\"], [0.6666666666666666, \"#ed7953\"], [0.7777777777777778, \"#fb9f3a\"], [0.8888888888888888, \"#fdca26\"], [1.0, \"#f0f921\"]], \"type\": \"surface\"}], \"table\": [{\"cells\": {\"fill\": {\"color\": \"#EBF0F8\"}, \"line\": {\"color\": \"white\"}}, \"header\": {\"fill\": {\"color\": \"#C8D4E3\"}, \"line\": {\"color\": \"white\"}}, \"type\": \"table\"}]}, \"layout\": {\"annotationdefaults\": {\"arrowcolor\": \"#2a3f5f\", \"arrowhead\": 0, \"arrowwidth\": 1}, \"coloraxis\": {\"colorbar\": {\"outlinewidth\": 0, \"ticks\": \"\"}}, \"colorscale\": {\"diverging\": [[0, \"#8e0152\"], [0.1, \"#c51b7d\"], [0.2, \"#de77ae\"], [0.3, \"#f1b6da\"], [0.4, \"#fde0ef\"], [0.5, \"#f7f7f7\"], [0.6, \"#e6f5d0\"], [0.7, \"#b8e186\"], [0.8, \"#7fbc41\"], [0.9, \"#4d9221\"], [1, \"#276419\"]], \"sequential\": [[0.0, \"#0d0887\"], [0.1111111111111111, \"#46039f\"], [0.2222222222222222, \"#7201a8\"], [0.3333333333333333, \"#9c179e\"], [0.4444444444444444, \"#bd3786\"], [0.5555555555555556, \"#d8576b\"], [0.6666666666666666, \"#ed7953\"], [0.7777777777777778, \"#fb9f3a\"], [0.8888888888888888, \"#fdca26\"], [1.0, \"#f0f921\"]], \"sequentialminus\": [[0.0, \"#0d0887\"], [0.1111111111111111, \"#46039f\"], [0.2222222222222222, \"#7201a8\"], [0.3333333333333333, \"#9c179e\"], [0.4444444444444444, \"#bd3786\"], [0.5555555555555556, \"#d8576b\"], [0.6666666666666666, \"#ed7953\"], [0.7777777777777778, \"#fb9f3a\"], [0.8888888888888888, \"#fdca26\"], [1.0, \"#f0f921\"]]}, \"colorway\": [\"#636efa\", \"#EF553B\", \"#00cc96\", \"#ab63fa\", \"#FFA15A\", \"#19d3f3\", \"#FF6692\", \"#B6E880\", \"#FF97FF\", \"#FECB52\"], \"font\": {\"color\": \"#2a3f5f\"}, \"geo\": {\"bgcolor\": \"white\", \"lakecolor\": \"white\", \"landcolor\": \"#E5ECF6\", \"showlakes\": true, \"showland\": true, \"subunitcolor\": \"white\"}, \"hoverlabel\": {\"align\": \"left\"}, \"hovermode\": \"closest\", \"mapbox\": {\"style\": \"light\"}, \"paper_bgcolor\": \"white\", \"plot_bgcolor\": \"#E5ECF6\", \"polar\": {\"angularaxis\": {\"gridcolor\": \"white\", \"linecolor\": \"white\", \"ticks\": \"\"}, \"bgcolor\": \"#E5ECF6\", \"radialaxis\": {\"gridcolor\": \"white\", \"linecolor\": \"white\", \"ticks\": \"\"}}, \"scene\": {\"xaxis\": {\"backgroundcolor\": \"#E5ECF6\", \"gridcolor\": \"white\", \"gridwidth\": 2, \"linecolor\": \"white\", \"showbackground\": true, \"ticks\": \"\", \"zerolinecolor\": \"white\"}, \"yaxis\": {\"backgroundcolor\": \"#E5ECF6\", \"gridcolor\": \"white\", \"gridwidth\": 2, \"linecolor\": \"white\", \"showbackground\": true, \"ticks\": \"\", \"zerolinecolor\": \"white\"}, \"zaxis\": {\"backgroundcolor\": \"#E5ECF6\", \"gridcolor\": \"white\", \"gridwidth\": 2, \"linecolor\": \"white\", \"showbackground\": true, \"ticks\": \"\", \"zerolinecolor\": \"white\"}}, \"shapedefaults\": {\"line\": {\"color\": \"#2a3f5f\"}}, \"ternary\": {\"aaxis\": {\"gridcolor\": \"white\", \"linecolor\": \"white\", \"ticks\": \"\"}, \"baxis\": {\"gridcolor\": \"white\", \"linecolor\": \"white\", \"ticks\": \"\"}, \"bgcolor\": \"#E5ECF6\", \"caxis\": {\"gridcolor\": \"white\", \"linecolor\": \"white\", \"ticks\": \"\"}}, \"title\": {\"x\": 0.05}, \"xaxis\": {\"automargin\": true, \"gridcolor\": \"white\", \"linecolor\": \"white\", \"ticks\": \"\", \"title\": {\"standoff\": 15}, \"zerolinecolor\": \"white\", \"zerolinewidth\": 2}, \"yaxis\": {\"automargin\": true, \"gridcolor\": \"white\", \"linecolor\": \"white\", \"ticks\": \"\", \"title\": {\"standoff\": 15}, \"zerolinecolor\": \"white\", \"zerolinewidth\": 2}}}},\n",
       "                        {\"responsive\": true}\n",
       "                    ).then(function(){\n",
       "                            \n",
       "var gd = document.getElementById('cc081bd6-5722-45ab-9f7a-f0d63a42089c');\n",
       "var x = new MutationObserver(function (mutations, observer) {{\n",
       "        var display = window.getComputedStyle(gd).display;\n",
       "        if (!display || display === 'none') {{\n",
       "            console.log([gd, 'removed!']);\n",
       "            Plotly.purge(gd);\n",
       "            observer.disconnect();\n",
       "        }}\n",
       "}});\n",
       "\n",
       "// Listen for the removal of the full notebook cells\n",
       "var notebookContainer = gd.closest('#notebook-container');\n",
       "if (notebookContainer) {{\n",
       "    x.observe(notebookContainer, {childList: true});\n",
       "}}\n",
       "\n",
       "// Listen for the clearing of the current output cell\n",
       "var outputEl = gd.closest('.output');\n",
       "if (outputEl) {{\n",
       "    x.observe(outputEl, {childList: true});\n",
       "}}\n",
       "\n",
       "                        })\n",
       "                };\n",
       "                });\n",
       "            </script>\n",
       "        </div>"
      ]
     },
     "metadata": {},
     "output_type": "display_data"
    }
   ],
   "source": [
    "fig = go.Figure()\n",
    "fig.add_trace(go.Histogram(x=data, nbinsx=3, histnorm=\"probability density\"))"
   ]
  },
  {
   "cell_type": "code",
   "execution_count": 176,
   "id": "confidential-shield",
   "metadata": {},
   "outputs": [],
   "source": [
    "data_2 = [1, 3, 3, 4]"
   ]
  },
  {
   "cell_type": "code",
   "execution_count": 179,
   "id": "parliamentary-processor",
   "metadata": {
    "scrolled": false
   },
   "outputs": [
    {
     "data": {
      "application/vnd.plotly.v1+json": {
       "config": {
        "plotlyServerURL": "https://plot.ly"
       },
       "data": [
        {
         "autobinx": false,
         "histnorm": "probability density",
         "legendgroup": "Random numbers",
         "marker": {
          "color": "rgb(31, 119, 180)"
         },
         "name": "Random numbers",
         "opacity": 0.7,
         "type": "histogram",
         "x": [
          1,
          3,
          3,
          4
         ],
         "xaxis": "x",
         "xbins": {
          "end": 4,
          "size": 1,
          "start": 1
         },
         "yaxis": "y"
        },
        {
         "legendgroup": "Random numbers",
         "marker": {
          "color": "rgb(31, 119, 180)"
         },
         "mode": "lines",
         "name": "Random numbers",
         "showlegend": false,
         "type": "scatter",
         "x": [
          1,
          1.006,
          1.012,
          1.018,
          1.024,
          1.03,
          1.036,
          1.042,
          1.048,
          1.054,
          1.06,
          1.066,
          1.072,
          1.078,
          1.084,
          1.09,
          1.096,
          1.102,
          1.108,
          1.114,
          1.12,
          1.126,
          1.1320000000000001,
          1.138,
          1.144,
          1.15,
          1.156,
          1.162,
          1.168,
          1.174,
          1.18,
          1.186,
          1.192,
          1.198,
          1.204,
          1.21,
          1.216,
          1.222,
          1.228,
          1.234,
          1.24,
          1.246,
          1.252,
          1.258,
          1.264,
          1.27,
          1.276,
          1.282,
          1.288,
          1.294,
          1.3,
          1.306,
          1.312,
          1.318,
          1.324,
          1.33,
          1.336,
          1.342,
          1.3479999999999999,
          1.354,
          1.3599999999999999,
          1.366,
          1.3719999999999999,
          1.3780000000000001,
          1.384,
          1.3900000000000001,
          1.396,
          1.4020000000000001,
          1.408,
          1.414,
          1.42,
          1.426,
          1.432,
          1.438,
          1.444,
          1.45,
          1.456,
          1.462,
          1.468,
          1.474,
          1.48,
          1.486,
          1.492,
          1.498,
          1.504,
          1.51,
          1.516,
          1.522,
          1.528,
          1.534,
          1.54,
          1.546,
          1.552,
          1.558,
          1.564,
          1.5699999999999998,
          1.576,
          1.5819999999999999,
          1.588,
          1.5939999999999999,
          1.6,
          1.6059999999999999,
          1.612,
          1.6179999999999999,
          1.624,
          1.63,
          1.6360000000000001,
          1.642,
          1.6480000000000001,
          1.654,
          1.6600000000000001,
          1.666,
          1.6720000000000002,
          1.678,
          1.6840000000000002,
          1.69,
          1.696,
          1.702,
          1.708,
          1.714,
          1.72,
          1.726,
          1.732,
          1.738,
          1.744,
          1.75,
          1.756,
          1.762,
          1.768,
          1.774,
          1.78,
          1.786,
          1.792,
          1.798,
          1.804,
          1.81,
          1.8159999999999998,
          1.822,
          1.8279999999999998,
          1.834,
          1.8399999999999999,
          1.846,
          1.8519999999999999,
          1.858,
          1.8639999999999999,
          1.87,
          1.876,
          1.8820000000000001,
          1.888,
          1.8940000000000001,
          1.9,
          1.9060000000000001,
          1.912,
          1.9180000000000001,
          1.924,
          1.9300000000000002,
          1.936,
          1.942,
          1.948,
          1.954,
          1.96,
          1.966,
          1.972,
          1.978,
          1.984,
          1.99,
          1.996,
          2.002,
          2.008,
          2.0140000000000002,
          2.02,
          2.026,
          2.032,
          2.0380000000000003,
          2.044,
          2.05,
          2.056,
          2.0620000000000003,
          2.068,
          2.074,
          2.08,
          2.0860000000000003,
          2.092,
          2.098,
          2.104,
          2.1100000000000003,
          2.116,
          2.122,
          2.128,
          2.134,
          2.1399999999999997,
          2.146,
          2.152,
          2.158,
          2.1639999999999997,
          2.17,
          2.176,
          2.182,
          2.1879999999999997,
          2.194,
          2.2,
          2.206,
          2.2119999999999997,
          2.218,
          2.224,
          2.23,
          2.2359999999999998,
          2.242,
          2.248,
          2.254,
          2.26,
          2.266,
          2.2720000000000002,
          2.278,
          2.284,
          2.29,
          2.2960000000000003,
          2.302,
          2.308,
          2.314,
          2.3200000000000003,
          2.326,
          2.332,
          2.338,
          2.3440000000000003,
          2.35,
          2.356,
          2.362,
          2.3680000000000003,
          2.374,
          2.38,
          2.386,
          2.392,
          2.3979999999999997,
          2.404,
          2.41,
          2.416,
          2.4219999999999997,
          2.428,
          2.434,
          2.44,
          2.4459999999999997,
          2.452,
          2.458,
          2.464,
          2.4699999999999998,
          2.476,
          2.482,
          2.488,
          2.4939999999999998,
          2.5,
          2.5060000000000002,
          2.512,
          2.518,
          2.524,
          2.5300000000000002,
          2.536,
          2.542,
          2.548,
          2.5540000000000003,
          2.56,
          2.566,
          2.572,
          2.5780000000000003,
          2.584,
          2.59,
          2.596,
          2.6020000000000003,
          2.608,
          2.614,
          2.62,
          2.626,
          2.6319999999999997,
          2.638,
          2.644,
          2.65,
          2.6559999999999997,
          2.662,
          2.668,
          2.674,
          2.6799999999999997,
          2.686,
          2.692,
          2.698,
          2.7039999999999997,
          2.71,
          2.716,
          2.722,
          2.7279999999999998,
          2.734,
          2.74,
          2.746,
          2.752,
          2.758,
          2.7640000000000002,
          2.77,
          2.776,
          2.782,
          2.7880000000000003,
          2.794,
          2.8,
          2.806,
          2.8120000000000003,
          2.818,
          2.824,
          2.83,
          2.8360000000000003,
          2.842,
          2.848,
          2.854,
          2.8600000000000003,
          2.866,
          2.872,
          2.878,
          2.884,
          2.8899999999999997,
          2.896,
          2.902,
          2.908,
          2.9139999999999997,
          2.92,
          2.926,
          2.932,
          2.9379999999999997,
          2.944,
          2.95,
          2.956,
          2.9619999999999997,
          2.968,
          2.974,
          2.98,
          2.9859999999999998,
          2.992,
          2.998,
          3.004,
          3.01,
          3.016,
          3.022,
          3.028,
          3.034,
          3.04,
          3.046,
          3.052,
          3.058,
          3.064,
          3.07,
          3.076,
          3.082,
          3.088,
          3.094,
          3.1,
          3.106,
          3.112,
          3.118,
          3.124,
          3.13,
          3.136,
          3.142,
          3.148,
          3.154,
          3.16,
          3.166,
          3.172,
          3.178,
          3.184,
          3.19,
          3.196,
          3.202,
          3.208,
          3.214,
          3.22,
          3.226,
          3.232,
          3.238,
          3.244,
          3.25,
          3.256,
          3.262,
          3.268,
          3.274,
          3.28,
          3.286,
          3.292,
          3.298,
          3.304,
          3.31,
          3.316,
          3.322,
          3.328,
          3.334,
          3.34,
          3.346,
          3.352,
          3.358,
          3.364,
          3.37,
          3.376,
          3.382,
          3.388,
          3.394,
          3.4,
          3.406,
          3.412,
          3.418,
          3.424,
          3.43,
          3.436,
          3.442,
          3.448,
          3.454,
          3.46,
          3.466,
          3.472,
          3.478,
          3.484,
          3.49,
          3.496,
          3.502,
          3.508,
          3.514,
          3.52,
          3.526,
          3.532,
          3.538,
          3.544,
          3.55,
          3.556,
          3.562,
          3.568,
          3.574,
          3.58,
          3.586,
          3.592,
          3.598,
          3.604,
          3.61,
          3.616,
          3.622,
          3.628,
          3.634,
          3.64,
          3.646,
          3.652,
          3.658,
          3.664,
          3.67,
          3.676,
          3.682,
          3.688,
          3.694,
          3.7,
          3.706,
          3.712,
          3.718,
          3.724,
          3.73,
          3.736,
          3.742,
          3.748,
          3.754,
          3.76,
          3.766,
          3.772,
          3.778,
          3.784,
          3.79,
          3.796,
          3.802,
          3.808,
          3.814,
          3.82,
          3.826,
          3.832,
          3.838,
          3.844,
          3.85,
          3.856,
          3.862,
          3.868,
          3.874,
          3.88,
          3.886,
          3.892,
          3.898,
          3.904,
          3.91,
          3.916,
          3.922,
          3.928,
          3.934,
          3.94,
          3.946,
          3.952,
          3.958,
          3.964,
          3.97,
          3.976,
          3.982,
          3.988,
          3.994
         ],
         "xaxis": "x",
         "y": [
          0.12852219116236255,
          0.1288425588643063,
          0.12916218926611878,
          0.12948110390680684,
          0.12979932470953987,
          0.1301168739770195,
          0.13043377438671877,
          0.13075004898599127,
          0.13106572118705126,
          0.131380814761825,
          0.13169535383667502,
          0.1320093628869972,
          0.13232286673169197,
          0.1326358905275111,
          0.13294845976327987,
          0.13326060025399697,
          0.1335723381348123,
          0.13388369985488388,
          0.1341947121711156,
          0.13450540214177623,
          0.1348157971200018,
          0.13512592474718135,
          0.13543581294622908,
          0.13574548991474253,
          0.13605498411804948,
          0.13636432428214446,
          0.13667353938651614,
          0.13698265865686762,
          0.13729171155773112,
          0.1376007277849779,
          0.13790973725822644,
          0.138218770113149,
          0.13852785669367962,
          0.1388370275441243,
          0.13914631340117578,
          0.13945574518583448,
          0.13976535399523757,
          0.1400751710943977,
          0.14038522790785402,
          0.14069555601123676,
          0.1410061871227479,
          0.14131715309455925,
          0.14162848590413113,
          0.14194021764545242,
          0.14225238052020542,
          0.1425650068288562,
          0.1428781289616745,
          0.14319177938968344,
          0.1435059906555427,
          0.14382079536436676,
          0.14413622617448085,
          0.14445231578811676,
          0.14476909694205076,
          0.14508660239818633,
          0.1454048649340839,
          0.1457239173334402,
          0.14604379237651918,
          0.14636452283053797,
          0.14668614144000924,
          0.1470086809170435,
          0.14733217393161294,
          0.1476566531017805,
          0.14798215098389553,
          0.1483087000627597,
          0.14863633274176505,
          0.1489650813330075,
          0.1492949780473776,
          0.14962605498463225,
          0.14995834412344916,
          0.15029187731146737,
          0.15062668625531608,
          0.15096280251063526,
          0.15130025747208958,
          0.15163908236337986,
          0.1519793082272536,
          0.15232096591551805,
          0.15266408607905843,
          0.15300869915786383,
          0.15335483537106426,
          0.1537025247069808,
          0.15405179691319218,
          0.15440268148662073,
          0.15475520766364007,
          0.15510940441020768,
          0.15546530041202475,
          0.15582292406472703,
          0.1561823034641085,
          0.15654346639638106,
          0.15690644032847342,
          0.15727125239837111,
          0.15763792940550173,
          0.15800649780116666,
          0.1583769836790236,
          0.1587494127656214,
          0.15912381041099083,
          0.15950020157929373,
          0.1598786108395333,
          0.16025906235632836,
          0.16064157988075425,
          0.16102618674125302,
          0.16141290583461607,
          0.16180175961704127,
          0.16219277009526775,
          0.16258595881779056,
          0.16298134686615878,
          0.16337895484635842,
          0.16377880288028362,
          0.1641809105972986,
          0.16458529712589293,
          0.16499198108543203,
          0.16540098057800695,
          0.16581231318038375,
          0.1662259959360574,
          0.16664204534741062,
          0.16706047736798124,
          0.16748130739484005,
          0.1679045502610819,
          0.1683302202284317,
          0.1687583309799685,
          0.1691888956129692,
          0.1696219266318747,
          0.17005743594138029,
          0.1704954348396531,
          0.17093593401167764,
          0.17137894352273308,
          0.17182447281200297,
          0.17227253068632029,
          0.17272312531404987,
          0.1731762642191094,
          0.173631954275132,
          0.17409020169977163,
          0.1745510120491532,
          0.17501439021246956,
          0.17548034040672716,
          0.1759488661716416,
          0.1764199703646854,
          0.17689365515628955,
          0.1773699220252,
          0.17784877175399133,
          0.1783302044247388,
          0.17881421941485032,
          0.17930081539305964,
          0.1797899903155828,
          0.18028174142243827,
          0.18077606523393286,
          0.18127295754731437,
          0.18177241343359238,
          0.18227442723452772,
          0.18277899255979319,
          0.1832861022843047,
          0.18379574854572545,
          0.1843079227421436,
          0.1848226155299239,
          0.18533981682173503,
          0.1858595157847527,
          0.18638170083904,
          0.1869063596561049,
          0.18743347915763686,
          0.18796304551442158,
          0.1884950441454358,
          0.18902945971712198,
          0.18956627614284383,
          0.19010547658252241,
          0.19064704344245398,
          0.19119095837530953,
          0.19173720228031604,
          0.19228575530362013,
          0.19283659683883425,
          0.19338970552776508,
          0.19394505926132427,
          0.19450263518062277,
          0.19506240967824634,
          0.19562435839971457,
          0.19618845624512143,
          0.1967546773709586,
          0.19732299519211993,
          0.19789338238408802,
          0.19846581088530146,
          0.1990402518997035,
          0.19961667589947027,
          0.20019505262791937,
          0.20077535110259703,
          0.20135753961854483,
          0.20194158575174345,
          0.2025274563627342,
          0.20311511760041645,
          0.20370453490602122,
          0.20429567301725934,
          0.2048884959726433,
          0.20548296711598182,
          0.20607904910104657,
          0.20667670389640977,
          0.20727589279045047,
          0.20787657639653054,
          0.20847871465833698,
          0.2090822668553906,
          0.20968719160871926,
          0.2102934468866941,
          0.21090099001102833,
          0.21150977766293588,
          0.21211976588944895,
          0.2127309101098932,
          0.21334316512251889,
          0.2139564851112858,
          0.21457082365280017,
          0.21518613372340387,
          0.21580236770641126,
          0.21641947739949338,
          0.2170374140222082,
          0.21765612822367347,
          0.21827557009038184,
          0.21889568915415492,
          0.21951643440023538,
          0.22013775427551402,
          0.22075959669689113,
          0.22138190905976846,
          0.22200463824667027,
          0.22262773063599195,
          0.2232511321108731,
          0.22387478806819328,
          0.22449864342768736,
          0.22512264264117962,
          0.2257467297019331,
          0.22637084815411174,
          0.22699494110235374,
          0.227618951221453,
          0.22824282076614674,
          0.22886649158100592,
          0.22948990511042683,
          0.23011300240872093,
          0.23073572415030075,
          0.23135801063995795,
          0.23197980182323277,
          0.2326010372968711,
          0.2332216563193666,
          0.23384159782158523,
          0.23446080041746983,
          0.23507920241482183,
          0.23569674182615707,
          0.23631335637963297,
          0.23692898353004535,
          0.23754356046989025,
          0.2381570241404901,
          0.23876931124317866,
          0.2393803582505455,
          0.23999010141773366,
          0.24059847679379,
          0.2412054202330643,
          0.24181086740665456,
          0.24241475381389552,
          0.243017014793888,
          0.2436175855370648,
          0.2442164010967924,
          0.24481339640100347,
          0.24540850626385877,
          0.24600166539743448,
          0.24659280842343306,
          0.24718186988491375,
          0.24776878425804072,
          0.24835348596384516,
          0.2489359093799987,
          0.24951598885259618,
          0.25009365870794287,
          0.25066885326434496,
          0.2512415068439004,
          0.2518115537842857,
          0.2523789284505378,
          0.2529435652468262,
          0.25350539862821464,
          0.2540643631124077,
          0.2546203932914798,
          0.2551734238435848,
          0.2557233895446427,
          0.25627022528000004,
          0.2568138660560625,
          0.257354247011896,
          0.2578913034307942,
          0.2584249707518089,
          0.2589551845812414,
          0.2594818807040915,
          0.2600049950954625,
          0.2605244639319178,
          0.26104022360278856,
          0.2615522107214279,
          0.26206036213641076,
          0.2625646149426752,
          0.26306490649260406,
          0.2635611744070437,
          0.2640533565862572,
          0.26454139122081066,
          0.26502521680238794,
          0.2655047721345345,
          0.2659799963433251,
          0.26645082888795507,
          0.2669172095712511,
          0.2673790785501011,
          0.26783637634579965,
          0.2682890438543064,
          0.26873702235641717,
          0.26918025352784325,
          0.26961867944919854,
          0.27005224261589167,
          0.2704808859479206,
          0.27090455279956904,
          0.27132318696900143,
          0.27173673270775484,
          0.27214513473012614,
          0.27254833822245256,
          0.2729462888522835,
          0.2733389327774419,
          0.27372621665497343,
          0.2741080876499818,
          0.27448449344434844,
          0.27485538224533484,
          0.27522070279406613,
          0.27558040437389403,
          0.2759344368186378,
          0.27628275052070184,
          0.2766252964390681,
          0.27696202610716214,
          0.27729289164059173,
          0.2776178457447556,
          0.2779368417223224,
          0.2782498334805782,
          0.27855677553864017,
          0.2788576230345371,
          0.27915233173215415,
          0.27944085802804197,
          0.2797231589580875,
          0.2799991922040476,
          0.28026891609994237,
          0.28053228963830884,
          0.28078927247631363,
          0.2810398249417231,
          0.2812839080387312,
          0.28152148345364414,
          0.2817525135604201,
          0.2819769614260645,
          0.2821947908158801,
          0.2824059661985704,
          0.2826104527511969,
          0.2828082163639891,
          0.28299922364500696,
          0.2831834419246551,
          0.28336083926004946,
          0.28353138443923404,
          0.28369504698525017,
          0.28385179716005493,
          0.2840016059682916,
          0.2841444451609095,
          0.28428028723863463,
          0.2844091054552904,
          0.2845308738209681,
          0.2846455671050485,
          0.28475316083907226,
          0.28485363131946184,
          0.28494695561009287,
          0.2850331115447165,
          0.2851120777292323,
          0.28518383354381227,
          0.28524835914487534,
          0.28530563546691445,
          0.28535564422417453,
          0.285398367912183,
          0.2854337898091329,
          0.2854618939771195,
          0.28548266526322924,
          0.2854960893004841,
          0.28550215250863986,
          0.28550084209483945,
          0.2854921460541228,
          0.2854760531697923,
          0.28545255301363603,
          0.2854216359460088,
          0.28538329311577126,
          0.2853375164600896,
          0.28528429870409416,
          0.28522363336039985,
          0.28515551472848844,
          0.28507993789395375,
          0.2849968987276102,
          0.2849063938844668,
          0.28480842080256613,
          0.28470297770169073,
          0.28459006358193684,
          0.28446967822215713,
          0.28434182217827364,
          0.28420649678146115,
          0.28406370413620374,
          0.2839134471182238,
          0.2837557293722861,
          0.28359055530987776,
          0.2834179301067649,
          0.2832378597004278,
          0.28305035078737584,
          0.28285541082034266,
          0.2826530480053644,
          0.2824432712987407,
          0.282226090403881,
          0.28200151576803734,
          0.28176955857892405,
          0.2815302307612272,
          0.28128354497300456,
          0.28102951460197706,
          0.280768153761714,
          0.28049947728771296,
          0.2802235007333765,
          0.27994024036588605,
          0.27964971316197584,
          0.27935193680360726,
          0.27904692967354594,
          0.278734710850843,
          0.2784153001062212,
          0.278088717897369,
          0.2777549853641431,
          0.2774141243236807,
          0.27706615726542444,
          0.2767111073460605,
          0.27634899838437205,
          0.2759798548560085,
          0.2756037018881746,
          0.2752205652542384,
          0.274830471368261,
          0.2744334472794499,
          0.2740295206665371,
          0.2736187198320832,
          0.2732010736967108,
          0.2727766117932666,
          0.2723453642609156,
          0.2719073618391683,
          0.2714626358618427,
          0.27101121825096264,
          0.2705531415105941,
          0.27008843872062205,
          0.2696171435304673,
          0.26913929015274785,
          0.2686549133568836,
          0.26816404846264846,
          0.2676667313336699,
          0.26716299837087804,
          0.2666528865059062,
          0.26613643319444424,
          0.26561367640954636,
          0.265084654634895,
          0.2645494068580222,
          0.2640079725634909,
          0.2634603917260364,
          0.2629067048036712,
          0.26234695273075237,
          0.26178117691101693,
          0.261209419210582,
          0.2606317219509154,
          0.2600481279017758,
          0.25945868027412516,
          0.2588634227130142,
          0.25826239929044287,
          0.2576556544981976,
          0.2570432332406659,
          0.2564251808276309,
          0.2558015429670462,
          0.255172365757794,
          0.2545376956824259,
          0.2538975795998898,
          0.2532520647382431,
          0.25260119868735426,
          0.25194502939159336,
          0.2512836051425142,
          0.2506169745715281,
          0.24994518664257187,
          0.24926829064477007,
          0.24858633618509474,
          0.24789937318102084,
          0.2472074518531831,
          0.24651062271803106,
          0.24580893658048675,
          0.24510244452660465,
          0.24439119791623626,
          0.24367524837569884,
          0.24295464779045223,
          0.242229448297782,
          0.24149970227949208,
          0.24076546235460744,
          0.24002678137208802,
          0.23928371240355456,
          0.2385363087360288,
          0.2377846238646873,
          0.23702871148563198,
          0.2362686254886759,
          0.2355044199501492,
          0.23473614912572133,
          0.2339638674432451,
          0.23318762949562094,
          0.232407490033683,
          0.2316235039591079,
          0.23083572631734905,
          0.2300442122905927,
          0.2292490171907428,
          0.22845019645243086,
          0.22764780562605388,
          0.22684190037084007
         ],
         "yaxis": "y"
        }
       ],
       "layout": {
        "barmode": "overlay",
        "hovermode": "closest",
        "legend": {
         "traceorder": "reversed"
        },
        "template": {
         "data": {
          "bar": [
           {
            "error_x": {
             "color": "#2a3f5f"
            },
            "error_y": {
             "color": "#2a3f5f"
            },
            "marker": {
             "line": {
              "color": "#E5ECF6",
              "width": 0.5
             }
            },
            "type": "bar"
           }
          ],
          "barpolar": [
           {
            "marker": {
             "line": {
              "color": "#E5ECF6",
              "width": 0.5
             }
            },
            "type": "barpolar"
           }
          ],
          "carpet": [
           {
            "aaxis": {
             "endlinecolor": "#2a3f5f",
             "gridcolor": "white",
             "linecolor": "white",
             "minorgridcolor": "white",
             "startlinecolor": "#2a3f5f"
            },
            "baxis": {
             "endlinecolor": "#2a3f5f",
             "gridcolor": "white",
             "linecolor": "white",
             "minorgridcolor": "white",
             "startlinecolor": "#2a3f5f"
            },
            "type": "carpet"
           }
          ],
          "choropleth": [
           {
            "colorbar": {
             "outlinewidth": 0,
             "ticks": ""
            },
            "type": "choropleth"
           }
          ],
          "contour": [
           {
            "colorbar": {
             "outlinewidth": 0,
             "ticks": ""
            },
            "colorscale": [
             [
              0,
              "#0d0887"
             ],
             [
              0.1111111111111111,
              "#46039f"
             ],
             [
              0.2222222222222222,
              "#7201a8"
             ],
             [
              0.3333333333333333,
              "#9c179e"
             ],
             [
              0.4444444444444444,
              "#bd3786"
             ],
             [
              0.5555555555555556,
              "#d8576b"
             ],
             [
              0.6666666666666666,
              "#ed7953"
             ],
             [
              0.7777777777777778,
              "#fb9f3a"
             ],
             [
              0.8888888888888888,
              "#fdca26"
             ],
             [
              1,
              "#f0f921"
             ]
            ],
            "type": "contour"
           }
          ],
          "contourcarpet": [
           {
            "colorbar": {
             "outlinewidth": 0,
             "ticks": ""
            },
            "type": "contourcarpet"
           }
          ],
          "heatmap": [
           {
            "colorbar": {
             "outlinewidth": 0,
             "ticks": ""
            },
            "colorscale": [
             [
              0,
              "#0d0887"
             ],
             [
              0.1111111111111111,
              "#46039f"
             ],
             [
              0.2222222222222222,
              "#7201a8"
             ],
             [
              0.3333333333333333,
              "#9c179e"
             ],
             [
              0.4444444444444444,
              "#bd3786"
             ],
             [
              0.5555555555555556,
              "#d8576b"
             ],
             [
              0.6666666666666666,
              "#ed7953"
             ],
             [
              0.7777777777777778,
              "#fb9f3a"
             ],
             [
              0.8888888888888888,
              "#fdca26"
             ],
             [
              1,
              "#f0f921"
             ]
            ],
            "type": "heatmap"
           }
          ],
          "heatmapgl": [
           {
            "colorbar": {
             "outlinewidth": 0,
             "ticks": ""
            },
            "colorscale": [
             [
              0,
              "#0d0887"
             ],
             [
              0.1111111111111111,
              "#46039f"
             ],
             [
              0.2222222222222222,
              "#7201a8"
             ],
             [
              0.3333333333333333,
              "#9c179e"
             ],
             [
              0.4444444444444444,
              "#bd3786"
             ],
             [
              0.5555555555555556,
              "#d8576b"
             ],
             [
              0.6666666666666666,
              "#ed7953"
             ],
             [
              0.7777777777777778,
              "#fb9f3a"
             ],
             [
              0.8888888888888888,
              "#fdca26"
             ],
             [
              1,
              "#f0f921"
             ]
            ],
            "type": "heatmapgl"
           }
          ],
          "histogram": [
           {
            "marker": {
             "colorbar": {
              "outlinewidth": 0,
              "ticks": ""
             }
            },
            "type": "histogram"
           }
          ],
          "histogram2d": [
           {
            "colorbar": {
             "outlinewidth": 0,
             "ticks": ""
            },
            "colorscale": [
             [
              0,
              "#0d0887"
             ],
             [
              0.1111111111111111,
              "#46039f"
             ],
             [
              0.2222222222222222,
              "#7201a8"
             ],
             [
              0.3333333333333333,
              "#9c179e"
             ],
             [
              0.4444444444444444,
              "#bd3786"
             ],
             [
              0.5555555555555556,
              "#d8576b"
             ],
             [
              0.6666666666666666,
              "#ed7953"
             ],
             [
              0.7777777777777778,
              "#fb9f3a"
             ],
             [
              0.8888888888888888,
              "#fdca26"
             ],
             [
              1,
              "#f0f921"
             ]
            ],
            "type": "histogram2d"
           }
          ],
          "histogram2dcontour": [
           {
            "colorbar": {
             "outlinewidth": 0,
             "ticks": ""
            },
            "colorscale": [
             [
              0,
              "#0d0887"
             ],
             [
              0.1111111111111111,
              "#46039f"
             ],
             [
              0.2222222222222222,
              "#7201a8"
             ],
             [
              0.3333333333333333,
              "#9c179e"
             ],
             [
              0.4444444444444444,
              "#bd3786"
             ],
             [
              0.5555555555555556,
              "#d8576b"
             ],
             [
              0.6666666666666666,
              "#ed7953"
             ],
             [
              0.7777777777777778,
              "#fb9f3a"
             ],
             [
              0.8888888888888888,
              "#fdca26"
             ],
             [
              1,
              "#f0f921"
             ]
            ],
            "type": "histogram2dcontour"
           }
          ],
          "mesh3d": [
           {
            "colorbar": {
             "outlinewidth": 0,
             "ticks": ""
            },
            "type": "mesh3d"
           }
          ],
          "parcoords": [
           {
            "line": {
             "colorbar": {
              "outlinewidth": 0,
              "ticks": ""
             }
            },
            "type": "parcoords"
           }
          ],
          "pie": [
           {
            "automargin": true,
            "type": "pie"
           }
          ],
          "scatter": [
           {
            "marker": {
             "colorbar": {
              "outlinewidth": 0,
              "ticks": ""
             }
            },
            "type": "scatter"
           }
          ],
          "scatter3d": [
           {
            "line": {
             "colorbar": {
              "outlinewidth": 0,
              "ticks": ""
             }
            },
            "marker": {
             "colorbar": {
              "outlinewidth": 0,
              "ticks": ""
             }
            },
            "type": "scatter3d"
           }
          ],
          "scattercarpet": [
           {
            "marker": {
             "colorbar": {
              "outlinewidth": 0,
              "ticks": ""
             }
            },
            "type": "scattercarpet"
           }
          ],
          "scattergeo": [
           {
            "marker": {
             "colorbar": {
              "outlinewidth": 0,
              "ticks": ""
             }
            },
            "type": "scattergeo"
           }
          ],
          "scattergl": [
           {
            "marker": {
             "colorbar": {
              "outlinewidth": 0,
              "ticks": ""
             }
            },
            "type": "scattergl"
           }
          ],
          "scattermapbox": [
           {
            "marker": {
             "colorbar": {
              "outlinewidth": 0,
              "ticks": ""
             }
            },
            "type": "scattermapbox"
           }
          ],
          "scatterpolar": [
           {
            "marker": {
             "colorbar": {
              "outlinewidth": 0,
              "ticks": ""
             }
            },
            "type": "scatterpolar"
           }
          ],
          "scatterpolargl": [
           {
            "marker": {
             "colorbar": {
              "outlinewidth": 0,
              "ticks": ""
             }
            },
            "type": "scatterpolargl"
           }
          ],
          "scatterternary": [
           {
            "marker": {
             "colorbar": {
              "outlinewidth": 0,
              "ticks": ""
             }
            },
            "type": "scatterternary"
           }
          ],
          "surface": [
           {
            "colorbar": {
             "outlinewidth": 0,
             "ticks": ""
            },
            "colorscale": [
             [
              0,
              "#0d0887"
             ],
             [
              0.1111111111111111,
              "#46039f"
             ],
             [
              0.2222222222222222,
              "#7201a8"
             ],
             [
              0.3333333333333333,
              "#9c179e"
             ],
             [
              0.4444444444444444,
              "#bd3786"
             ],
             [
              0.5555555555555556,
              "#d8576b"
             ],
             [
              0.6666666666666666,
              "#ed7953"
             ],
             [
              0.7777777777777778,
              "#fb9f3a"
             ],
             [
              0.8888888888888888,
              "#fdca26"
             ],
             [
              1,
              "#f0f921"
             ]
            ],
            "type": "surface"
           }
          ],
          "table": [
           {
            "cells": {
             "fill": {
              "color": "#EBF0F8"
             },
             "line": {
              "color": "white"
             }
            },
            "header": {
             "fill": {
              "color": "#C8D4E3"
             },
             "line": {
              "color": "white"
             }
            },
            "type": "table"
           }
          ]
         },
         "layout": {
          "annotationdefaults": {
           "arrowcolor": "#2a3f5f",
           "arrowhead": 0,
           "arrowwidth": 1
          },
          "coloraxis": {
           "colorbar": {
            "outlinewidth": 0,
            "ticks": ""
           }
          },
          "colorscale": {
           "diverging": [
            [
             0,
             "#8e0152"
            ],
            [
             0.1,
             "#c51b7d"
            ],
            [
             0.2,
             "#de77ae"
            ],
            [
             0.3,
             "#f1b6da"
            ],
            [
             0.4,
             "#fde0ef"
            ],
            [
             0.5,
             "#f7f7f7"
            ],
            [
             0.6,
             "#e6f5d0"
            ],
            [
             0.7,
             "#b8e186"
            ],
            [
             0.8,
             "#7fbc41"
            ],
            [
             0.9,
             "#4d9221"
            ],
            [
             1,
             "#276419"
            ]
           ],
           "sequential": [
            [
             0,
             "#0d0887"
            ],
            [
             0.1111111111111111,
             "#46039f"
            ],
            [
             0.2222222222222222,
             "#7201a8"
            ],
            [
             0.3333333333333333,
             "#9c179e"
            ],
            [
             0.4444444444444444,
             "#bd3786"
            ],
            [
             0.5555555555555556,
             "#d8576b"
            ],
            [
             0.6666666666666666,
             "#ed7953"
            ],
            [
             0.7777777777777778,
             "#fb9f3a"
            ],
            [
             0.8888888888888888,
             "#fdca26"
            ],
            [
             1,
             "#f0f921"
            ]
           ],
           "sequentialminus": [
            [
             0,
             "#0d0887"
            ],
            [
             0.1111111111111111,
             "#46039f"
            ],
            [
             0.2222222222222222,
             "#7201a8"
            ],
            [
             0.3333333333333333,
             "#9c179e"
            ],
            [
             0.4444444444444444,
             "#bd3786"
            ],
            [
             0.5555555555555556,
             "#d8576b"
            ],
            [
             0.6666666666666666,
             "#ed7953"
            ],
            [
             0.7777777777777778,
             "#fb9f3a"
            ],
            [
             0.8888888888888888,
             "#fdca26"
            ],
            [
             1,
             "#f0f921"
            ]
           ]
          },
          "colorway": [
           "#636efa",
           "#EF553B",
           "#00cc96",
           "#ab63fa",
           "#FFA15A",
           "#19d3f3",
           "#FF6692",
           "#B6E880",
           "#FF97FF",
           "#FECB52"
          ],
          "font": {
           "color": "#2a3f5f"
          },
          "geo": {
           "bgcolor": "white",
           "lakecolor": "white",
           "landcolor": "#E5ECF6",
           "showlakes": true,
           "showland": true,
           "subunitcolor": "white"
          },
          "hoverlabel": {
           "align": "left"
          },
          "hovermode": "closest",
          "mapbox": {
           "style": "light"
          },
          "paper_bgcolor": "white",
          "plot_bgcolor": "#E5ECF6",
          "polar": {
           "angularaxis": {
            "gridcolor": "white",
            "linecolor": "white",
            "ticks": ""
           },
           "bgcolor": "#E5ECF6",
           "radialaxis": {
            "gridcolor": "white",
            "linecolor": "white",
            "ticks": ""
           }
          },
          "scene": {
           "xaxis": {
            "backgroundcolor": "#E5ECF6",
            "gridcolor": "white",
            "gridwidth": 2,
            "linecolor": "white",
            "showbackground": true,
            "ticks": "",
            "zerolinecolor": "white"
           },
           "yaxis": {
            "backgroundcolor": "#E5ECF6",
            "gridcolor": "white",
            "gridwidth": 2,
            "linecolor": "white",
            "showbackground": true,
            "ticks": "",
            "zerolinecolor": "white"
           },
           "zaxis": {
            "backgroundcolor": "#E5ECF6",
            "gridcolor": "white",
            "gridwidth": 2,
            "linecolor": "white",
            "showbackground": true,
            "ticks": "",
            "zerolinecolor": "white"
           }
          },
          "shapedefaults": {
           "line": {
            "color": "#2a3f5f"
           }
          },
          "ternary": {
           "aaxis": {
            "gridcolor": "white",
            "linecolor": "white",
            "ticks": ""
           },
           "baxis": {
            "gridcolor": "white",
            "linecolor": "white",
            "ticks": ""
           },
           "bgcolor": "#E5ECF6",
           "caxis": {
            "gridcolor": "white",
            "linecolor": "white",
            "ticks": ""
           }
          },
          "title": {
           "x": 0.05
          },
          "xaxis": {
           "automargin": true,
           "gridcolor": "white",
           "linecolor": "white",
           "ticks": "",
           "title": {
            "standoff": 15
           },
           "zerolinecolor": "white",
           "zerolinewidth": 2
          },
          "yaxis": {
           "automargin": true,
           "gridcolor": "white",
           "linecolor": "white",
           "ticks": "",
           "title": {
            "standoff": 15
           },
           "zerolinecolor": "white",
           "zerolinewidth": 2
          }
         }
        },
        "xaxis": {
         "anchor": "y2",
         "domain": [
          0,
          1
         ],
         "zeroline": false
        },
        "yaxis": {
         "anchor": "free",
         "domain": [
          0,
          1
         ],
         "position": 0
        }
       }
      },
      "text/html": [
       "<div>\n",
       "        \n",
       "        \n",
       "            <div id=\"37732f59-09a6-40d9-aeea-aec0bd0534fe\" class=\"plotly-graph-div\" style=\"height:525px; width:100%;\"></div>\n",
       "            <script type=\"text/javascript\">\n",
       "                require([\"plotly\"], function(Plotly) {\n",
       "                    window.PLOTLYENV=window.PLOTLYENV || {};\n",
       "                    \n",
       "                if (document.getElementById(\"37732f59-09a6-40d9-aeea-aec0bd0534fe\")) {\n",
       "                    Plotly.newPlot(\n",
       "                        '37732f59-09a6-40d9-aeea-aec0bd0534fe',\n",
       "                        [{\"autobinx\": false, \"histnorm\": \"probability density\", \"legendgroup\": \"Random numbers\", \"marker\": {\"color\": \"rgb(31, 119, 180)\"}, \"name\": \"Random numbers\", \"opacity\": 0.7, \"type\": \"histogram\", \"x\": [1, 3, 3, 4], \"xaxis\": \"x\", \"xbins\": {\"end\": 4.0, \"size\": 1, \"start\": 1.0}, \"yaxis\": \"y\"}, {\"legendgroup\": \"Random numbers\", \"marker\": {\"color\": \"rgb(31, 119, 180)\"}, \"mode\": \"lines\", \"name\": \"Random numbers\", \"showlegend\": false, \"type\": \"scatter\", \"x\": [1.0, 1.006, 1.012, 1.018, 1.024, 1.03, 1.036, 1.042, 1.048, 1.054, 1.06, 1.066, 1.072, 1.078, 1.084, 1.09, 1.096, 1.102, 1.108, 1.114, 1.12, 1.126, 1.1320000000000001, 1.138, 1.144, 1.15, 1.156, 1.162, 1.168, 1.174, 1.18, 1.186, 1.192, 1.198, 1.204, 1.21, 1.216, 1.222, 1.228, 1.234, 1.24, 1.246, 1.252, 1.258, 1.264, 1.27, 1.276, 1.282, 1.288, 1.294, 1.3, 1.306, 1.312, 1.318, 1.324, 1.33, 1.336, 1.342, 1.3479999999999999, 1.354, 1.3599999999999999, 1.366, 1.3719999999999999, 1.3780000000000001, 1.384, 1.3900000000000001, 1.396, 1.4020000000000001, 1.408, 1.414, 1.42, 1.426, 1.432, 1.438, 1.444, 1.45, 1.456, 1.462, 1.468, 1.474, 1.48, 1.486, 1.492, 1.498, 1.504, 1.51, 1.516, 1.522, 1.528, 1.534, 1.54, 1.546, 1.552, 1.558, 1.564, 1.5699999999999998, 1.576, 1.5819999999999999, 1.588, 1.5939999999999999, 1.6, 1.6059999999999999, 1.612, 1.6179999999999999, 1.624, 1.63, 1.6360000000000001, 1.642, 1.6480000000000001, 1.654, 1.6600000000000001, 1.666, 1.6720000000000002, 1.678, 1.6840000000000002, 1.69, 1.696, 1.702, 1.708, 1.714, 1.72, 1.726, 1.732, 1.738, 1.744, 1.75, 1.756, 1.762, 1.768, 1.774, 1.78, 1.786, 1.792, 1.798, 1.804, 1.81, 1.8159999999999998, 1.822, 1.8279999999999998, 1.834, 1.8399999999999999, 1.846, 1.8519999999999999, 1.858, 1.8639999999999999, 1.87, 1.876, 1.8820000000000001, 1.888, 1.8940000000000001, 1.9, 1.9060000000000001, 1.912, 1.9180000000000001, 1.924, 1.9300000000000002, 1.936, 1.942, 1.948, 1.954, 1.96, 1.966, 1.972, 1.978, 1.984, 1.99, 1.996, 2.002, 2.008, 2.0140000000000002, 2.02, 2.026, 2.032, 2.0380000000000003, 2.044, 2.05, 2.056, 2.0620000000000003, 2.068, 2.074, 2.08, 2.0860000000000003, 2.092, 2.098, 2.104, 2.1100000000000003, 2.116, 2.122, 2.128, 2.134, 2.1399999999999997, 2.146, 2.152, 2.158, 2.1639999999999997, 2.17, 2.176, 2.182, 2.1879999999999997, 2.194, 2.2, 2.206, 2.2119999999999997, 2.218, 2.224, 2.23, 2.2359999999999998, 2.242, 2.248, 2.254, 2.26, 2.266, 2.2720000000000002, 2.278, 2.284, 2.29, 2.2960000000000003, 2.302, 2.308, 2.314, 2.3200000000000003, 2.326, 2.332, 2.338, 2.3440000000000003, 2.35, 2.356, 2.362, 2.3680000000000003, 2.374, 2.38, 2.386, 2.392, 2.3979999999999997, 2.404, 2.41, 2.416, 2.4219999999999997, 2.428, 2.434, 2.44, 2.4459999999999997, 2.452, 2.458, 2.464, 2.4699999999999998, 2.476, 2.482, 2.488, 2.4939999999999998, 2.5, 2.5060000000000002, 2.512, 2.518, 2.524, 2.5300000000000002, 2.536, 2.542, 2.548, 2.5540000000000003, 2.56, 2.566, 2.572, 2.5780000000000003, 2.584, 2.59, 2.596, 2.6020000000000003, 2.608, 2.614, 2.62, 2.626, 2.6319999999999997, 2.638, 2.644, 2.65, 2.6559999999999997, 2.662, 2.668, 2.674, 2.6799999999999997, 2.686, 2.692, 2.698, 2.7039999999999997, 2.71, 2.716, 2.722, 2.7279999999999998, 2.734, 2.74, 2.746, 2.752, 2.758, 2.7640000000000002, 2.77, 2.776, 2.782, 2.7880000000000003, 2.794, 2.8, 2.806, 2.8120000000000003, 2.818, 2.824, 2.83, 2.8360000000000003, 2.842, 2.848, 2.854, 2.8600000000000003, 2.866, 2.872, 2.878, 2.884, 2.8899999999999997, 2.896, 2.902, 2.908, 2.9139999999999997, 2.92, 2.926, 2.932, 2.9379999999999997, 2.944, 2.95, 2.956, 2.9619999999999997, 2.968, 2.974, 2.98, 2.9859999999999998, 2.992, 2.998, 3.004, 3.01, 3.016, 3.022, 3.028, 3.034, 3.04, 3.046, 3.052, 3.058, 3.064, 3.07, 3.076, 3.082, 3.088, 3.094, 3.1, 3.106, 3.112, 3.118, 3.124, 3.13, 3.136, 3.142, 3.148, 3.154, 3.16, 3.166, 3.172, 3.178, 3.184, 3.19, 3.196, 3.202, 3.208, 3.214, 3.22, 3.226, 3.232, 3.238, 3.244, 3.25, 3.256, 3.262, 3.268, 3.274, 3.28, 3.286, 3.292, 3.298, 3.304, 3.31, 3.316, 3.322, 3.328, 3.334, 3.34, 3.346, 3.352, 3.358, 3.364, 3.37, 3.376, 3.382, 3.388, 3.394, 3.4, 3.406, 3.412, 3.418, 3.424, 3.43, 3.436, 3.442, 3.448, 3.454, 3.46, 3.466, 3.472, 3.478, 3.484, 3.49, 3.496, 3.502, 3.508, 3.514, 3.52, 3.526, 3.532, 3.538, 3.544, 3.55, 3.556, 3.562, 3.568, 3.574, 3.58, 3.586, 3.592, 3.598, 3.604, 3.61, 3.616, 3.622, 3.628, 3.634, 3.64, 3.646, 3.652, 3.658, 3.664, 3.67, 3.676, 3.682, 3.688, 3.694, 3.7, 3.706, 3.712, 3.718, 3.724, 3.73, 3.736, 3.742, 3.748, 3.754, 3.76, 3.766, 3.772, 3.778, 3.784, 3.79, 3.796, 3.802, 3.808, 3.814, 3.82, 3.826, 3.832, 3.838, 3.844, 3.85, 3.856, 3.862, 3.868, 3.874, 3.88, 3.886, 3.892, 3.898, 3.904, 3.91, 3.916, 3.922, 3.928, 3.934, 3.94, 3.946, 3.952, 3.958, 3.964, 3.97, 3.976, 3.982, 3.988, 3.994], \"xaxis\": \"x\", \"y\": [0.12852219116236255, 0.1288425588643063, 0.12916218926611878, 0.12948110390680684, 0.12979932470953987, 0.1301168739770195, 0.13043377438671877, 0.13075004898599127, 0.13106572118705126, 0.131380814761825, 0.13169535383667502, 0.1320093628869972, 0.13232286673169197, 0.1326358905275111, 0.13294845976327987, 0.13326060025399697, 0.1335723381348123, 0.13388369985488388, 0.1341947121711156, 0.13450540214177623, 0.1348157971200018, 0.13512592474718135, 0.13543581294622908, 0.13574548991474253, 0.13605498411804948, 0.13636432428214446, 0.13667353938651614, 0.13698265865686762, 0.13729171155773112, 0.1376007277849779, 0.13790973725822644, 0.138218770113149, 0.13852785669367962, 0.1388370275441243, 0.13914631340117578, 0.13945574518583448, 0.13976535399523757, 0.1400751710943977, 0.14038522790785402, 0.14069555601123676, 0.1410061871227479, 0.14131715309455925, 0.14162848590413113, 0.14194021764545242, 0.14225238052020542, 0.1425650068288562, 0.1428781289616745, 0.14319177938968344, 0.1435059906555427, 0.14382079536436676, 0.14413622617448085, 0.14445231578811676, 0.14476909694205076, 0.14508660239818633, 0.1454048649340839, 0.1457239173334402, 0.14604379237651918, 0.14636452283053797, 0.14668614144000924, 0.1470086809170435, 0.14733217393161294, 0.1476566531017805, 0.14798215098389553, 0.1483087000627597, 0.14863633274176505, 0.1489650813330075, 0.1492949780473776, 0.14962605498463225, 0.14995834412344916, 0.15029187731146737, 0.15062668625531608, 0.15096280251063526, 0.15130025747208958, 0.15163908236337986, 0.1519793082272536, 0.15232096591551805, 0.15266408607905843, 0.15300869915786383, 0.15335483537106426, 0.1537025247069808, 0.15405179691319218, 0.15440268148662073, 0.15475520766364007, 0.15510940441020768, 0.15546530041202475, 0.15582292406472703, 0.1561823034641085, 0.15654346639638106, 0.15690644032847342, 0.15727125239837111, 0.15763792940550173, 0.15800649780116666, 0.1583769836790236, 0.1587494127656214, 0.15912381041099083, 0.15950020157929373, 0.1598786108395333, 0.16025906235632836, 0.16064157988075425, 0.16102618674125302, 0.16141290583461607, 0.16180175961704127, 0.16219277009526775, 0.16258595881779056, 0.16298134686615878, 0.16337895484635842, 0.16377880288028362, 0.1641809105972986, 0.16458529712589293, 0.16499198108543203, 0.16540098057800695, 0.16581231318038375, 0.1662259959360574, 0.16664204534741062, 0.16706047736798124, 0.16748130739484005, 0.1679045502610819, 0.1683302202284317, 0.1687583309799685, 0.1691888956129692, 0.1696219266318747, 0.17005743594138029, 0.1704954348396531, 0.17093593401167764, 0.17137894352273308, 0.17182447281200297, 0.17227253068632029, 0.17272312531404987, 0.1731762642191094, 0.173631954275132, 0.17409020169977163, 0.1745510120491532, 0.17501439021246956, 0.17548034040672716, 0.1759488661716416, 0.1764199703646854, 0.17689365515628955, 0.1773699220252, 0.17784877175399133, 0.1783302044247388, 0.17881421941485032, 0.17930081539305964, 0.1797899903155828, 0.18028174142243827, 0.18077606523393286, 0.18127295754731437, 0.18177241343359238, 0.18227442723452772, 0.18277899255979319, 0.1832861022843047, 0.18379574854572545, 0.1843079227421436, 0.1848226155299239, 0.18533981682173503, 0.1858595157847527, 0.18638170083904, 0.1869063596561049, 0.18743347915763686, 0.18796304551442158, 0.1884950441454358, 0.18902945971712198, 0.18956627614284383, 0.19010547658252241, 0.19064704344245398, 0.19119095837530953, 0.19173720228031604, 0.19228575530362013, 0.19283659683883425, 0.19338970552776508, 0.19394505926132427, 0.19450263518062277, 0.19506240967824634, 0.19562435839971457, 0.19618845624512143, 0.1967546773709586, 0.19732299519211993, 0.19789338238408802, 0.19846581088530146, 0.1990402518997035, 0.19961667589947027, 0.20019505262791937, 0.20077535110259703, 0.20135753961854483, 0.20194158575174345, 0.2025274563627342, 0.20311511760041645, 0.20370453490602122, 0.20429567301725934, 0.2048884959726433, 0.20548296711598182, 0.20607904910104657, 0.20667670389640977, 0.20727589279045047, 0.20787657639653054, 0.20847871465833698, 0.2090822668553906, 0.20968719160871926, 0.2102934468866941, 0.21090099001102833, 0.21150977766293588, 0.21211976588944895, 0.2127309101098932, 0.21334316512251889, 0.2139564851112858, 0.21457082365280017, 0.21518613372340387, 0.21580236770641126, 0.21641947739949338, 0.2170374140222082, 0.21765612822367347, 0.21827557009038184, 0.21889568915415492, 0.21951643440023538, 0.22013775427551402, 0.22075959669689113, 0.22138190905976846, 0.22200463824667027, 0.22262773063599195, 0.2232511321108731, 0.22387478806819328, 0.22449864342768736, 0.22512264264117962, 0.2257467297019331, 0.22637084815411174, 0.22699494110235374, 0.227618951221453, 0.22824282076614674, 0.22886649158100592, 0.22948990511042683, 0.23011300240872093, 0.23073572415030075, 0.23135801063995795, 0.23197980182323277, 0.2326010372968711, 0.2332216563193666, 0.23384159782158523, 0.23446080041746983, 0.23507920241482183, 0.23569674182615707, 0.23631335637963297, 0.23692898353004535, 0.23754356046989025, 0.2381570241404901, 0.23876931124317866, 0.2393803582505455, 0.23999010141773366, 0.24059847679379, 0.2412054202330643, 0.24181086740665456, 0.24241475381389552, 0.243017014793888, 0.2436175855370648, 0.2442164010967924, 0.24481339640100347, 0.24540850626385877, 0.24600166539743448, 0.24659280842343306, 0.24718186988491375, 0.24776878425804072, 0.24835348596384516, 0.2489359093799987, 0.24951598885259618, 0.25009365870794287, 0.25066885326434496, 0.2512415068439004, 0.2518115537842857, 0.2523789284505378, 0.2529435652468262, 0.25350539862821464, 0.2540643631124077, 0.2546203932914798, 0.2551734238435848, 0.2557233895446427, 0.25627022528000004, 0.2568138660560625, 0.257354247011896, 0.2578913034307942, 0.2584249707518089, 0.2589551845812414, 0.2594818807040915, 0.2600049950954625, 0.2605244639319178, 0.26104022360278856, 0.2615522107214279, 0.26206036213641076, 0.2625646149426752, 0.26306490649260406, 0.2635611744070437, 0.2640533565862572, 0.26454139122081066, 0.26502521680238794, 0.2655047721345345, 0.2659799963433251, 0.26645082888795507, 0.2669172095712511, 0.2673790785501011, 0.26783637634579965, 0.2682890438543064, 0.26873702235641717, 0.26918025352784325, 0.26961867944919854, 0.27005224261589167, 0.2704808859479206, 0.27090455279956904, 0.27132318696900143, 0.27173673270775484, 0.27214513473012614, 0.27254833822245256, 0.2729462888522835, 0.2733389327774419, 0.27372621665497343, 0.2741080876499818, 0.27448449344434844, 0.27485538224533484, 0.27522070279406613, 0.27558040437389403, 0.2759344368186378, 0.27628275052070184, 0.2766252964390681, 0.27696202610716214, 0.27729289164059173, 0.2776178457447556, 0.2779368417223224, 0.2782498334805782, 0.27855677553864017, 0.2788576230345371, 0.27915233173215415, 0.27944085802804197, 0.2797231589580875, 0.2799991922040476, 0.28026891609994237, 0.28053228963830884, 0.28078927247631363, 0.2810398249417231, 0.2812839080387312, 0.28152148345364414, 0.2817525135604201, 0.2819769614260645, 0.2821947908158801, 0.2824059661985704, 0.2826104527511969, 0.2828082163639891, 0.28299922364500696, 0.2831834419246551, 0.28336083926004946, 0.28353138443923404, 0.28369504698525017, 0.28385179716005493, 0.2840016059682916, 0.2841444451609095, 0.28428028723863463, 0.2844091054552904, 0.2845308738209681, 0.2846455671050485, 0.28475316083907226, 0.28485363131946184, 0.28494695561009287, 0.2850331115447165, 0.2851120777292323, 0.28518383354381227, 0.28524835914487534, 0.28530563546691445, 0.28535564422417453, 0.285398367912183, 0.2854337898091329, 0.2854618939771195, 0.28548266526322924, 0.2854960893004841, 0.28550215250863986, 0.28550084209483945, 0.2854921460541228, 0.2854760531697923, 0.28545255301363603, 0.2854216359460088, 0.28538329311577126, 0.2853375164600896, 0.28528429870409416, 0.28522363336039985, 0.28515551472848844, 0.28507993789395375, 0.2849968987276102, 0.2849063938844668, 0.28480842080256613, 0.28470297770169073, 0.28459006358193684, 0.28446967822215713, 0.28434182217827364, 0.28420649678146115, 0.28406370413620374, 0.2839134471182238, 0.2837557293722861, 0.28359055530987776, 0.2834179301067649, 0.2832378597004278, 0.28305035078737584, 0.28285541082034266, 0.2826530480053644, 0.2824432712987407, 0.282226090403881, 0.28200151576803734, 0.28176955857892405, 0.2815302307612272, 0.28128354497300456, 0.28102951460197706, 0.280768153761714, 0.28049947728771296, 0.2802235007333765, 0.27994024036588605, 0.27964971316197584, 0.27935193680360726, 0.27904692967354594, 0.278734710850843, 0.2784153001062212, 0.278088717897369, 0.2777549853641431, 0.2774141243236807, 0.27706615726542444, 0.2767111073460605, 0.27634899838437205, 0.2759798548560085, 0.2756037018881746, 0.2752205652542384, 0.274830471368261, 0.2744334472794499, 0.2740295206665371, 0.2736187198320832, 0.2732010736967108, 0.2727766117932666, 0.2723453642609156, 0.2719073618391683, 0.2714626358618427, 0.27101121825096264, 0.2705531415105941, 0.27008843872062205, 0.2696171435304673, 0.26913929015274785, 0.2686549133568836, 0.26816404846264846, 0.2676667313336699, 0.26716299837087804, 0.2666528865059062, 0.26613643319444424, 0.26561367640954636, 0.265084654634895, 0.2645494068580222, 0.2640079725634909, 0.2634603917260364, 0.2629067048036712, 0.26234695273075237, 0.26178117691101693, 0.261209419210582, 0.2606317219509154, 0.2600481279017758, 0.25945868027412516, 0.2588634227130142, 0.25826239929044287, 0.2576556544981976, 0.2570432332406659, 0.2564251808276309, 0.2558015429670462, 0.255172365757794, 0.2545376956824259, 0.2538975795998898, 0.2532520647382431, 0.25260119868735426, 0.25194502939159336, 0.2512836051425142, 0.2506169745715281, 0.24994518664257187, 0.24926829064477007, 0.24858633618509474, 0.24789937318102084, 0.2472074518531831, 0.24651062271803106, 0.24580893658048675, 0.24510244452660465, 0.24439119791623626, 0.24367524837569884, 0.24295464779045223, 0.242229448297782, 0.24149970227949208, 0.24076546235460744, 0.24002678137208802, 0.23928371240355456, 0.2385363087360288, 0.2377846238646873, 0.23702871148563198, 0.2362686254886759, 0.2355044199501492, 0.23473614912572133, 0.2339638674432451, 0.23318762949562094, 0.232407490033683, 0.2316235039591079, 0.23083572631734905, 0.2300442122905927, 0.2292490171907428, 0.22845019645243086, 0.22764780562605388, 0.22684190037084007], \"yaxis\": \"y\"}],\n",
       "                        {\"barmode\": \"overlay\", \"hovermode\": \"closest\", \"legend\": {\"traceorder\": \"reversed\"}, \"template\": {\"data\": {\"bar\": [{\"error_x\": {\"color\": \"#2a3f5f\"}, \"error_y\": {\"color\": \"#2a3f5f\"}, \"marker\": {\"line\": {\"color\": \"#E5ECF6\", \"width\": 0.5}}, \"type\": \"bar\"}], \"barpolar\": [{\"marker\": {\"line\": {\"color\": \"#E5ECF6\", \"width\": 0.5}}, \"type\": \"barpolar\"}], \"carpet\": [{\"aaxis\": {\"endlinecolor\": \"#2a3f5f\", \"gridcolor\": \"white\", \"linecolor\": \"white\", \"minorgridcolor\": \"white\", \"startlinecolor\": \"#2a3f5f\"}, \"baxis\": {\"endlinecolor\": \"#2a3f5f\", \"gridcolor\": \"white\", \"linecolor\": \"white\", \"minorgridcolor\": \"white\", \"startlinecolor\": \"#2a3f5f\"}, \"type\": \"carpet\"}], \"choropleth\": [{\"colorbar\": {\"outlinewidth\": 0, \"ticks\": \"\"}, \"type\": \"choropleth\"}], \"contour\": [{\"colorbar\": {\"outlinewidth\": 0, \"ticks\": \"\"}, \"colorscale\": [[0.0, \"#0d0887\"], [0.1111111111111111, \"#46039f\"], [0.2222222222222222, \"#7201a8\"], [0.3333333333333333, \"#9c179e\"], [0.4444444444444444, \"#bd3786\"], [0.5555555555555556, \"#d8576b\"], [0.6666666666666666, \"#ed7953\"], [0.7777777777777778, \"#fb9f3a\"], [0.8888888888888888, \"#fdca26\"], [1.0, \"#f0f921\"]], \"type\": \"contour\"}], \"contourcarpet\": [{\"colorbar\": {\"outlinewidth\": 0, \"ticks\": \"\"}, \"type\": \"contourcarpet\"}], \"heatmap\": [{\"colorbar\": {\"outlinewidth\": 0, \"ticks\": \"\"}, \"colorscale\": [[0.0, \"#0d0887\"], [0.1111111111111111, \"#46039f\"], [0.2222222222222222, \"#7201a8\"], [0.3333333333333333, \"#9c179e\"], [0.4444444444444444, \"#bd3786\"], [0.5555555555555556, \"#d8576b\"], [0.6666666666666666, \"#ed7953\"], [0.7777777777777778, \"#fb9f3a\"], [0.8888888888888888, \"#fdca26\"], [1.0, \"#f0f921\"]], \"type\": \"heatmap\"}], \"heatmapgl\": [{\"colorbar\": {\"outlinewidth\": 0, \"ticks\": \"\"}, \"colorscale\": [[0.0, \"#0d0887\"], [0.1111111111111111, \"#46039f\"], [0.2222222222222222, \"#7201a8\"], [0.3333333333333333, \"#9c179e\"], [0.4444444444444444, \"#bd3786\"], [0.5555555555555556, \"#d8576b\"], [0.6666666666666666, \"#ed7953\"], [0.7777777777777778, \"#fb9f3a\"], [0.8888888888888888, \"#fdca26\"], [1.0, \"#f0f921\"]], \"type\": \"heatmapgl\"}], \"histogram\": [{\"marker\": {\"colorbar\": {\"outlinewidth\": 0, \"ticks\": \"\"}}, \"type\": \"histogram\"}], \"histogram2d\": [{\"colorbar\": {\"outlinewidth\": 0, \"ticks\": \"\"}, \"colorscale\": [[0.0, \"#0d0887\"], [0.1111111111111111, \"#46039f\"], [0.2222222222222222, \"#7201a8\"], [0.3333333333333333, \"#9c179e\"], [0.4444444444444444, \"#bd3786\"], [0.5555555555555556, \"#d8576b\"], [0.6666666666666666, \"#ed7953\"], [0.7777777777777778, \"#fb9f3a\"], [0.8888888888888888, \"#fdca26\"], [1.0, \"#f0f921\"]], \"type\": \"histogram2d\"}], \"histogram2dcontour\": [{\"colorbar\": {\"outlinewidth\": 0, \"ticks\": \"\"}, \"colorscale\": [[0.0, \"#0d0887\"], [0.1111111111111111, \"#46039f\"], [0.2222222222222222, \"#7201a8\"], [0.3333333333333333, \"#9c179e\"], [0.4444444444444444, \"#bd3786\"], [0.5555555555555556, \"#d8576b\"], [0.6666666666666666, \"#ed7953\"], [0.7777777777777778, \"#fb9f3a\"], [0.8888888888888888, \"#fdca26\"], [1.0, \"#f0f921\"]], \"type\": \"histogram2dcontour\"}], \"mesh3d\": [{\"colorbar\": {\"outlinewidth\": 0, \"ticks\": \"\"}, \"type\": \"mesh3d\"}], \"parcoords\": [{\"line\": {\"colorbar\": {\"outlinewidth\": 0, \"ticks\": \"\"}}, \"type\": \"parcoords\"}], \"pie\": [{\"automargin\": true, \"type\": \"pie\"}], \"scatter\": [{\"marker\": {\"colorbar\": {\"outlinewidth\": 0, \"ticks\": \"\"}}, \"type\": \"scatter\"}], \"scatter3d\": [{\"line\": {\"colorbar\": {\"outlinewidth\": 0, \"ticks\": \"\"}}, \"marker\": {\"colorbar\": {\"outlinewidth\": 0, \"ticks\": \"\"}}, \"type\": \"scatter3d\"}], \"scattercarpet\": [{\"marker\": {\"colorbar\": {\"outlinewidth\": 0, \"ticks\": \"\"}}, \"type\": \"scattercarpet\"}], \"scattergeo\": [{\"marker\": {\"colorbar\": {\"outlinewidth\": 0, \"ticks\": \"\"}}, \"type\": \"scattergeo\"}], \"scattergl\": [{\"marker\": {\"colorbar\": {\"outlinewidth\": 0, \"ticks\": \"\"}}, \"type\": \"scattergl\"}], \"scattermapbox\": [{\"marker\": {\"colorbar\": {\"outlinewidth\": 0, \"ticks\": \"\"}}, \"type\": \"scattermapbox\"}], \"scatterpolar\": [{\"marker\": {\"colorbar\": {\"outlinewidth\": 0, \"ticks\": \"\"}}, \"type\": \"scatterpolar\"}], \"scatterpolargl\": [{\"marker\": {\"colorbar\": {\"outlinewidth\": 0, \"ticks\": \"\"}}, \"type\": \"scatterpolargl\"}], \"scatterternary\": [{\"marker\": {\"colorbar\": {\"outlinewidth\": 0, \"ticks\": \"\"}}, \"type\": \"scatterternary\"}], \"surface\": [{\"colorbar\": {\"outlinewidth\": 0, \"ticks\": \"\"}, \"colorscale\": [[0.0, \"#0d0887\"], [0.1111111111111111, \"#46039f\"], [0.2222222222222222, \"#7201a8\"], [0.3333333333333333, \"#9c179e\"], [0.4444444444444444, \"#bd3786\"], [0.5555555555555556, \"#d8576b\"], [0.6666666666666666, \"#ed7953\"], [0.7777777777777778, \"#fb9f3a\"], [0.8888888888888888, \"#fdca26\"], [1.0, \"#f0f921\"]], \"type\": \"surface\"}], \"table\": [{\"cells\": {\"fill\": {\"color\": \"#EBF0F8\"}, \"line\": {\"color\": \"white\"}}, \"header\": {\"fill\": {\"color\": \"#C8D4E3\"}, \"line\": {\"color\": \"white\"}}, \"type\": \"table\"}]}, \"layout\": {\"annotationdefaults\": {\"arrowcolor\": \"#2a3f5f\", \"arrowhead\": 0, \"arrowwidth\": 1}, \"coloraxis\": {\"colorbar\": {\"outlinewidth\": 0, \"ticks\": \"\"}}, \"colorscale\": {\"diverging\": [[0, \"#8e0152\"], [0.1, \"#c51b7d\"], [0.2, \"#de77ae\"], [0.3, \"#f1b6da\"], [0.4, \"#fde0ef\"], [0.5, \"#f7f7f7\"], [0.6, \"#e6f5d0\"], [0.7, \"#b8e186\"], [0.8, \"#7fbc41\"], [0.9, \"#4d9221\"], [1, \"#276419\"]], \"sequential\": [[0.0, \"#0d0887\"], [0.1111111111111111, \"#46039f\"], [0.2222222222222222, \"#7201a8\"], [0.3333333333333333, \"#9c179e\"], [0.4444444444444444, \"#bd3786\"], [0.5555555555555556, \"#d8576b\"], [0.6666666666666666, \"#ed7953\"], [0.7777777777777778, \"#fb9f3a\"], [0.8888888888888888, \"#fdca26\"], [1.0, \"#f0f921\"]], \"sequentialminus\": [[0.0, \"#0d0887\"], [0.1111111111111111, \"#46039f\"], [0.2222222222222222, \"#7201a8\"], [0.3333333333333333, \"#9c179e\"], [0.4444444444444444, \"#bd3786\"], [0.5555555555555556, \"#d8576b\"], [0.6666666666666666, \"#ed7953\"], [0.7777777777777778, \"#fb9f3a\"], [0.8888888888888888, \"#fdca26\"], [1.0, \"#f0f921\"]]}, \"colorway\": [\"#636efa\", \"#EF553B\", \"#00cc96\", \"#ab63fa\", \"#FFA15A\", \"#19d3f3\", \"#FF6692\", \"#B6E880\", \"#FF97FF\", \"#FECB52\"], \"font\": {\"color\": \"#2a3f5f\"}, \"geo\": {\"bgcolor\": \"white\", \"lakecolor\": \"white\", \"landcolor\": \"#E5ECF6\", \"showlakes\": true, \"showland\": true, \"subunitcolor\": \"white\"}, \"hoverlabel\": {\"align\": \"left\"}, \"hovermode\": \"closest\", \"mapbox\": {\"style\": \"light\"}, \"paper_bgcolor\": \"white\", \"plot_bgcolor\": \"#E5ECF6\", \"polar\": {\"angularaxis\": {\"gridcolor\": \"white\", \"linecolor\": \"white\", \"ticks\": \"\"}, \"bgcolor\": \"#E5ECF6\", \"radialaxis\": {\"gridcolor\": \"white\", \"linecolor\": \"white\", \"ticks\": \"\"}}, \"scene\": {\"xaxis\": {\"backgroundcolor\": \"#E5ECF6\", \"gridcolor\": \"white\", \"gridwidth\": 2, \"linecolor\": \"white\", \"showbackground\": true, \"ticks\": \"\", \"zerolinecolor\": \"white\"}, \"yaxis\": {\"backgroundcolor\": \"#E5ECF6\", \"gridcolor\": \"white\", \"gridwidth\": 2, \"linecolor\": \"white\", \"showbackground\": true, \"ticks\": \"\", \"zerolinecolor\": \"white\"}, \"zaxis\": {\"backgroundcolor\": \"#E5ECF6\", \"gridcolor\": \"white\", \"gridwidth\": 2, \"linecolor\": \"white\", \"showbackground\": true, \"ticks\": \"\", \"zerolinecolor\": \"white\"}}, \"shapedefaults\": {\"line\": {\"color\": \"#2a3f5f\"}}, \"ternary\": {\"aaxis\": {\"gridcolor\": \"white\", \"linecolor\": \"white\", \"ticks\": \"\"}, \"baxis\": {\"gridcolor\": \"white\", \"linecolor\": \"white\", \"ticks\": \"\"}, \"bgcolor\": \"#E5ECF6\", \"caxis\": {\"gridcolor\": \"white\", \"linecolor\": \"white\", \"ticks\": \"\"}}, \"title\": {\"x\": 0.05}, \"xaxis\": {\"automargin\": true, \"gridcolor\": \"white\", \"linecolor\": \"white\", \"ticks\": \"\", \"title\": {\"standoff\": 15}, \"zerolinecolor\": \"white\", \"zerolinewidth\": 2}, \"yaxis\": {\"automargin\": true, \"gridcolor\": \"white\", \"linecolor\": \"white\", \"ticks\": \"\", \"title\": {\"standoff\": 15}, \"zerolinecolor\": \"white\", \"zerolinewidth\": 2}}}, \"xaxis\": {\"anchor\": \"y2\", \"domain\": [0.0, 1.0], \"zeroline\": false}, \"yaxis\": {\"anchor\": \"free\", \"domain\": [0.0, 1], \"position\": 0.0}},\n",
       "                        {\"responsive\": true}\n",
       "                    ).then(function(){\n",
       "                            \n",
       "var gd = document.getElementById('37732f59-09a6-40d9-aeea-aec0bd0534fe');\n",
       "var x = new MutationObserver(function (mutations, observer) {{\n",
       "        var display = window.getComputedStyle(gd).display;\n",
       "        if (!display || display === 'none') {{\n",
       "            console.log([gd, 'removed!']);\n",
       "            Plotly.purge(gd);\n",
       "            observer.disconnect();\n",
       "        }}\n",
       "}});\n",
       "\n",
       "// Listen for the removal of the full notebook cells\n",
       "var notebookContainer = gd.closest('#notebook-container');\n",
       "if (notebookContainer) {{\n",
       "    x.observe(notebookContainer, {childList: true});\n",
       "}}\n",
       "\n",
       "// Listen for the clearing of the current output cell\n",
       "var outputEl = gd.closest('.output');\n",
       "if (outputEl) {{\n",
       "    x.observe(outputEl, {childList: true});\n",
       "}}\n",
       "\n",
       "                        })\n",
       "                };\n",
       "                });\n",
       "            </script>\n",
       "        </div>"
      ]
     },
     "metadata": {},
     "output_type": "display_data"
    }
   ],
   "source": [
    "group_labels = ['Random numbers']\n",
    "fig = ff.create_distplot([data_2], \n",
    "                         group_labels, \n",
    "                         show_hist=True, \n",
    "                         histnorm='probability density', \n",
    "                         show_rug=False,\n",
    "                         curve_type='kde',\n",
    "                         bin_size=1)\n",
    "fig.show()"
   ]
  },
  {
   "cell_type": "markdown",
   "id": "another-walter",
   "metadata": {},
   "source": [
    "$$\\frac{1}{nh} \\sum_{i=1}^n K \\Big( \\frac{x-x_i}{h} \\Big)$$\n",
    "\n",
    "$$\\text{Gaussian kernel } K(x,y) = \\frac{1}{\\sqrt{2\\pi}\\sigma} \\exp \\bigg( {-\\frac{||x-y||_2}{2 \\sigma^2}} \\bigg)$$\n",
    "\n",
    "Note: a Gaussian kernel is a form of RBF kernel"
   ]
  },
  {
   "cell_type": "code",
   "execution_count": 203,
   "id": "union-affiliate",
   "metadata": {},
   "outputs": [],
   "source": [
    "def gaussian_kernel(x_i, x):\n",
    "    return 1/np.sqrt(2*np.pi)*np.exp(-0.5*((x-x_i)**2))"
   ]
  },
  {
   "cell_type": "code",
   "execution_count": 217,
   "id": "bored-lawrence",
   "metadata": {},
   "outputs": [],
   "source": [
    "a = []\n",
    "x = np.linspace(-2,4,20)\n",
    "x_1 = 1\n",
    "for x_i in x:\n",
    "    gauss = gaussian_kernel(x_i, x_1)\n",
    "    a.append(gauss)"
   ]
  },
  {
   "cell_type": "code",
   "execution_count": 221,
   "id": "floppy-argument",
   "metadata": {},
   "outputs": [
    {
     "data": {
      "application/vnd.plotly.v1+json": {
       "config": {
        "plotlyServerURL": "https://plot.ly"
       },
       "data": [
        {
         "histnorm": "density",
         "name": "histo",
         "nbinsx": 3,
         "type": "histogram",
         "x": [
          1,
          3,
          3
         ]
        },
        {
         "name": "kernel",
         "type": "scatter",
         "x": [
          -2,
          -1.6842105263157894,
          -1.368421052631579,
          -1.0526315789473686,
          -0.736842105263158,
          -0.42105263157894735,
          -0.10526315789473695,
          0.21052631578947345,
          0.5263157894736841,
          0.8421052631578947,
          1.1578947368421053,
          1.4736842105263155,
          1.789473684210526,
          2.1052631578947363,
          2.421052631578947,
          2.7368421052631575,
          3.052631578947368,
          3.3684210526315788,
          3.6842105263157894,
          4
         ],
         "y": [
          0.0044318484119380075,
          0.010873446008403894,
          0.02414573124668899,
          0.04852933916733301,
          0.088279374545606,
          0.14534663197630085,
          0.21659157163219744,
          0.29212517641082686,
          0.35660487643045413,
          0.39400018223225697,
          0.39400018223225697,
          0.35660487643045424,
          0.29212517641082697,
          0.21659157163219764,
          0.14534663197630093,
          0.08827937454560608,
          0.048529339167333055,
          0.02414573124668899,
          0.010873446008403894,
          0.0044318484119380075
         ]
        }
       ],
       "layout": {
        "template": {
         "data": {
          "bar": [
           {
            "error_x": {
             "color": "#2a3f5f"
            },
            "error_y": {
             "color": "#2a3f5f"
            },
            "marker": {
             "line": {
              "color": "#E5ECF6",
              "width": 0.5
             }
            },
            "type": "bar"
           }
          ],
          "barpolar": [
           {
            "marker": {
             "line": {
              "color": "#E5ECF6",
              "width": 0.5
             }
            },
            "type": "barpolar"
           }
          ],
          "carpet": [
           {
            "aaxis": {
             "endlinecolor": "#2a3f5f",
             "gridcolor": "white",
             "linecolor": "white",
             "minorgridcolor": "white",
             "startlinecolor": "#2a3f5f"
            },
            "baxis": {
             "endlinecolor": "#2a3f5f",
             "gridcolor": "white",
             "linecolor": "white",
             "minorgridcolor": "white",
             "startlinecolor": "#2a3f5f"
            },
            "type": "carpet"
           }
          ],
          "choropleth": [
           {
            "colorbar": {
             "outlinewidth": 0,
             "ticks": ""
            },
            "type": "choropleth"
           }
          ],
          "contour": [
           {
            "colorbar": {
             "outlinewidth": 0,
             "ticks": ""
            },
            "colorscale": [
             [
              0,
              "#0d0887"
             ],
             [
              0.1111111111111111,
              "#46039f"
             ],
             [
              0.2222222222222222,
              "#7201a8"
             ],
             [
              0.3333333333333333,
              "#9c179e"
             ],
             [
              0.4444444444444444,
              "#bd3786"
             ],
             [
              0.5555555555555556,
              "#d8576b"
             ],
             [
              0.6666666666666666,
              "#ed7953"
             ],
             [
              0.7777777777777778,
              "#fb9f3a"
             ],
             [
              0.8888888888888888,
              "#fdca26"
             ],
             [
              1,
              "#f0f921"
             ]
            ],
            "type": "contour"
           }
          ],
          "contourcarpet": [
           {
            "colorbar": {
             "outlinewidth": 0,
             "ticks": ""
            },
            "type": "contourcarpet"
           }
          ],
          "heatmap": [
           {
            "colorbar": {
             "outlinewidth": 0,
             "ticks": ""
            },
            "colorscale": [
             [
              0,
              "#0d0887"
             ],
             [
              0.1111111111111111,
              "#46039f"
             ],
             [
              0.2222222222222222,
              "#7201a8"
             ],
             [
              0.3333333333333333,
              "#9c179e"
             ],
             [
              0.4444444444444444,
              "#bd3786"
             ],
             [
              0.5555555555555556,
              "#d8576b"
             ],
             [
              0.6666666666666666,
              "#ed7953"
             ],
             [
              0.7777777777777778,
              "#fb9f3a"
             ],
             [
              0.8888888888888888,
              "#fdca26"
             ],
             [
              1,
              "#f0f921"
             ]
            ],
            "type": "heatmap"
           }
          ],
          "heatmapgl": [
           {
            "colorbar": {
             "outlinewidth": 0,
             "ticks": ""
            },
            "colorscale": [
             [
              0,
              "#0d0887"
             ],
             [
              0.1111111111111111,
              "#46039f"
             ],
             [
              0.2222222222222222,
              "#7201a8"
             ],
             [
              0.3333333333333333,
              "#9c179e"
             ],
             [
              0.4444444444444444,
              "#bd3786"
             ],
             [
              0.5555555555555556,
              "#d8576b"
             ],
             [
              0.6666666666666666,
              "#ed7953"
             ],
             [
              0.7777777777777778,
              "#fb9f3a"
             ],
             [
              0.8888888888888888,
              "#fdca26"
             ],
             [
              1,
              "#f0f921"
             ]
            ],
            "type": "heatmapgl"
           }
          ],
          "histogram": [
           {
            "marker": {
             "colorbar": {
              "outlinewidth": 0,
              "ticks": ""
             }
            },
            "type": "histogram"
           }
          ],
          "histogram2d": [
           {
            "colorbar": {
             "outlinewidth": 0,
             "ticks": ""
            },
            "colorscale": [
             [
              0,
              "#0d0887"
             ],
             [
              0.1111111111111111,
              "#46039f"
             ],
             [
              0.2222222222222222,
              "#7201a8"
             ],
             [
              0.3333333333333333,
              "#9c179e"
             ],
             [
              0.4444444444444444,
              "#bd3786"
             ],
             [
              0.5555555555555556,
              "#d8576b"
             ],
             [
              0.6666666666666666,
              "#ed7953"
             ],
             [
              0.7777777777777778,
              "#fb9f3a"
             ],
             [
              0.8888888888888888,
              "#fdca26"
             ],
             [
              1,
              "#f0f921"
             ]
            ],
            "type": "histogram2d"
           }
          ],
          "histogram2dcontour": [
           {
            "colorbar": {
             "outlinewidth": 0,
             "ticks": ""
            },
            "colorscale": [
             [
              0,
              "#0d0887"
             ],
             [
              0.1111111111111111,
              "#46039f"
             ],
             [
              0.2222222222222222,
              "#7201a8"
             ],
             [
              0.3333333333333333,
              "#9c179e"
             ],
             [
              0.4444444444444444,
              "#bd3786"
             ],
             [
              0.5555555555555556,
              "#d8576b"
             ],
             [
              0.6666666666666666,
              "#ed7953"
             ],
             [
              0.7777777777777778,
              "#fb9f3a"
             ],
             [
              0.8888888888888888,
              "#fdca26"
             ],
             [
              1,
              "#f0f921"
             ]
            ],
            "type": "histogram2dcontour"
           }
          ],
          "mesh3d": [
           {
            "colorbar": {
             "outlinewidth": 0,
             "ticks": ""
            },
            "type": "mesh3d"
           }
          ],
          "parcoords": [
           {
            "line": {
             "colorbar": {
              "outlinewidth": 0,
              "ticks": ""
             }
            },
            "type": "parcoords"
           }
          ],
          "pie": [
           {
            "automargin": true,
            "type": "pie"
           }
          ],
          "scatter": [
           {
            "marker": {
             "colorbar": {
              "outlinewidth": 0,
              "ticks": ""
             }
            },
            "type": "scatter"
           }
          ],
          "scatter3d": [
           {
            "line": {
             "colorbar": {
              "outlinewidth": 0,
              "ticks": ""
             }
            },
            "marker": {
             "colorbar": {
              "outlinewidth": 0,
              "ticks": ""
             }
            },
            "type": "scatter3d"
           }
          ],
          "scattercarpet": [
           {
            "marker": {
             "colorbar": {
              "outlinewidth": 0,
              "ticks": ""
             }
            },
            "type": "scattercarpet"
           }
          ],
          "scattergeo": [
           {
            "marker": {
             "colorbar": {
              "outlinewidth": 0,
              "ticks": ""
             }
            },
            "type": "scattergeo"
           }
          ],
          "scattergl": [
           {
            "marker": {
             "colorbar": {
              "outlinewidth": 0,
              "ticks": ""
             }
            },
            "type": "scattergl"
           }
          ],
          "scattermapbox": [
           {
            "marker": {
             "colorbar": {
              "outlinewidth": 0,
              "ticks": ""
             }
            },
            "type": "scattermapbox"
           }
          ],
          "scatterpolar": [
           {
            "marker": {
             "colorbar": {
              "outlinewidth": 0,
              "ticks": ""
             }
            },
            "type": "scatterpolar"
           }
          ],
          "scatterpolargl": [
           {
            "marker": {
             "colorbar": {
              "outlinewidth": 0,
              "ticks": ""
             }
            },
            "type": "scatterpolargl"
           }
          ],
          "scatterternary": [
           {
            "marker": {
             "colorbar": {
              "outlinewidth": 0,
              "ticks": ""
             }
            },
            "type": "scatterternary"
           }
          ],
          "surface": [
           {
            "colorbar": {
             "outlinewidth": 0,
             "ticks": ""
            },
            "colorscale": [
             [
              0,
              "#0d0887"
             ],
             [
              0.1111111111111111,
              "#46039f"
             ],
             [
              0.2222222222222222,
              "#7201a8"
             ],
             [
              0.3333333333333333,
              "#9c179e"
             ],
             [
              0.4444444444444444,
              "#bd3786"
             ],
             [
              0.5555555555555556,
              "#d8576b"
             ],
             [
              0.6666666666666666,
              "#ed7953"
             ],
             [
              0.7777777777777778,
              "#fb9f3a"
             ],
             [
              0.8888888888888888,
              "#fdca26"
             ],
             [
              1,
              "#f0f921"
             ]
            ],
            "type": "surface"
           }
          ],
          "table": [
           {
            "cells": {
             "fill": {
              "color": "#EBF0F8"
             },
             "line": {
              "color": "white"
             }
            },
            "header": {
             "fill": {
              "color": "#C8D4E3"
             },
             "line": {
              "color": "white"
             }
            },
            "type": "table"
           }
          ]
         },
         "layout": {
          "annotationdefaults": {
           "arrowcolor": "#2a3f5f",
           "arrowhead": 0,
           "arrowwidth": 1
          },
          "coloraxis": {
           "colorbar": {
            "outlinewidth": 0,
            "ticks": ""
           }
          },
          "colorscale": {
           "diverging": [
            [
             0,
             "#8e0152"
            ],
            [
             0.1,
             "#c51b7d"
            ],
            [
             0.2,
             "#de77ae"
            ],
            [
             0.3,
             "#f1b6da"
            ],
            [
             0.4,
             "#fde0ef"
            ],
            [
             0.5,
             "#f7f7f7"
            ],
            [
             0.6,
             "#e6f5d0"
            ],
            [
             0.7,
             "#b8e186"
            ],
            [
             0.8,
             "#7fbc41"
            ],
            [
             0.9,
             "#4d9221"
            ],
            [
             1,
             "#276419"
            ]
           ],
           "sequential": [
            [
             0,
             "#0d0887"
            ],
            [
             0.1111111111111111,
             "#46039f"
            ],
            [
             0.2222222222222222,
             "#7201a8"
            ],
            [
             0.3333333333333333,
             "#9c179e"
            ],
            [
             0.4444444444444444,
             "#bd3786"
            ],
            [
             0.5555555555555556,
             "#d8576b"
            ],
            [
             0.6666666666666666,
             "#ed7953"
            ],
            [
             0.7777777777777778,
             "#fb9f3a"
            ],
            [
             0.8888888888888888,
             "#fdca26"
            ],
            [
             1,
             "#f0f921"
            ]
           ],
           "sequentialminus": [
            [
             0,
             "#0d0887"
            ],
            [
             0.1111111111111111,
             "#46039f"
            ],
            [
             0.2222222222222222,
             "#7201a8"
            ],
            [
             0.3333333333333333,
             "#9c179e"
            ],
            [
             0.4444444444444444,
             "#bd3786"
            ],
            [
             0.5555555555555556,
             "#d8576b"
            ],
            [
             0.6666666666666666,
             "#ed7953"
            ],
            [
             0.7777777777777778,
             "#fb9f3a"
            ],
            [
             0.8888888888888888,
             "#fdca26"
            ],
            [
             1,
             "#f0f921"
            ]
           ]
          },
          "colorway": [
           "#636efa",
           "#EF553B",
           "#00cc96",
           "#ab63fa",
           "#FFA15A",
           "#19d3f3",
           "#FF6692",
           "#B6E880",
           "#FF97FF",
           "#FECB52"
          ],
          "font": {
           "color": "#2a3f5f"
          },
          "geo": {
           "bgcolor": "white",
           "lakecolor": "white",
           "landcolor": "#E5ECF6",
           "showlakes": true,
           "showland": true,
           "subunitcolor": "white"
          },
          "hoverlabel": {
           "align": "left"
          },
          "hovermode": "closest",
          "mapbox": {
           "style": "light"
          },
          "paper_bgcolor": "white",
          "plot_bgcolor": "#E5ECF6",
          "polar": {
           "angularaxis": {
            "gridcolor": "white",
            "linecolor": "white",
            "ticks": ""
           },
           "bgcolor": "#E5ECF6",
           "radialaxis": {
            "gridcolor": "white",
            "linecolor": "white",
            "ticks": ""
           }
          },
          "scene": {
           "xaxis": {
            "backgroundcolor": "#E5ECF6",
            "gridcolor": "white",
            "gridwidth": 2,
            "linecolor": "white",
            "showbackground": true,
            "ticks": "",
            "zerolinecolor": "white"
           },
           "yaxis": {
            "backgroundcolor": "#E5ECF6",
            "gridcolor": "white",
            "gridwidth": 2,
            "linecolor": "white",
            "showbackground": true,
            "ticks": "",
            "zerolinecolor": "white"
           },
           "zaxis": {
            "backgroundcolor": "#E5ECF6",
            "gridcolor": "white",
            "gridwidth": 2,
            "linecolor": "white",
            "showbackground": true,
            "ticks": "",
            "zerolinecolor": "white"
           }
          },
          "shapedefaults": {
           "line": {
            "color": "#2a3f5f"
           }
          },
          "ternary": {
           "aaxis": {
            "gridcolor": "white",
            "linecolor": "white",
            "ticks": ""
           },
           "baxis": {
            "gridcolor": "white",
            "linecolor": "white",
            "ticks": ""
           },
           "bgcolor": "#E5ECF6",
           "caxis": {
            "gridcolor": "white",
            "linecolor": "white",
            "ticks": ""
           }
          },
          "title": {
           "x": 0.05
          },
          "xaxis": {
           "automargin": true,
           "gridcolor": "white",
           "linecolor": "white",
           "ticks": "",
           "title": {
            "standoff": 15
           },
           "zerolinecolor": "white",
           "zerolinewidth": 2
          },
          "yaxis": {
           "automargin": true,
           "gridcolor": "white",
           "linecolor": "white",
           "ticks": "",
           "title": {
            "standoff": 15
           },
           "zerolinecolor": "white",
           "zerolinewidth": 2
          }
         }
        }
       }
      },
      "text/html": [
       "<div>\n",
       "        \n",
       "        \n",
       "            <div id=\"58d0e224-d3a7-4fe0-b005-c643f518eb68\" class=\"plotly-graph-div\" style=\"height:525px; width:100%;\"></div>\n",
       "            <script type=\"text/javascript\">\n",
       "                require([\"plotly\"], function(Plotly) {\n",
       "                    window.PLOTLYENV=window.PLOTLYENV || {};\n",
       "                    \n",
       "                if (document.getElementById(\"58d0e224-d3a7-4fe0-b005-c643f518eb68\")) {\n",
       "                    Plotly.newPlot(\n",
       "                        '58d0e224-d3a7-4fe0-b005-c643f518eb68',\n",
       "                        [{\"histnorm\": \"density\", \"name\": \"histo\", \"nbinsx\": 3, \"type\": \"histogram\", \"x\": [1, 3, 3]}, {\"name\": \"kernel\", \"type\": \"scatter\", \"x\": [-2.0, -1.6842105263157894, -1.368421052631579, -1.0526315789473686, -0.736842105263158, -0.42105263157894735, -0.10526315789473695, 0.21052631578947345, 0.5263157894736841, 0.8421052631578947, 1.1578947368421053, 1.4736842105263155, 1.789473684210526, 2.1052631578947363, 2.421052631578947, 2.7368421052631575, 3.052631578947368, 3.3684210526315788, 3.6842105263157894, 4.0], \"y\": [0.0044318484119380075, 0.010873446008403894, 0.02414573124668899, 0.04852933916733301, 0.088279374545606, 0.14534663197630085, 0.21659157163219744, 0.29212517641082686, 0.35660487643045413, 0.39400018223225697, 0.39400018223225697, 0.35660487643045424, 0.29212517641082697, 0.21659157163219764, 0.14534663197630093, 0.08827937454560608, 0.048529339167333055, 0.02414573124668899, 0.010873446008403894, 0.0044318484119380075]}],\n",
       "                        {\"template\": {\"data\": {\"bar\": [{\"error_x\": {\"color\": \"#2a3f5f\"}, \"error_y\": {\"color\": \"#2a3f5f\"}, \"marker\": {\"line\": {\"color\": \"#E5ECF6\", \"width\": 0.5}}, \"type\": \"bar\"}], \"barpolar\": [{\"marker\": {\"line\": {\"color\": \"#E5ECF6\", \"width\": 0.5}}, \"type\": \"barpolar\"}], \"carpet\": [{\"aaxis\": {\"endlinecolor\": \"#2a3f5f\", \"gridcolor\": \"white\", \"linecolor\": \"white\", \"minorgridcolor\": \"white\", \"startlinecolor\": \"#2a3f5f\"}, \"baxis\": {\"endlinecolor\": \"#2a3f5f\", \"gridcolor\": \"white\", \"linecolor\": \"white\", \"minorgridcolor\": \"white\", \"startlinecolor\": \"#2a3f5f\"}, \"type\": \"carpet\"}], \"choropleth\": [{\"colorbar\": {\"outlinewidth\": 0, \"ticks\": \"\"}, \"type\": \"choropleth\"}], \"contour\": [{\"colorbar\": {\"outlinewidth\": 0, \"ticks\": \"\"}, \"colorscale\": [[0.0, \"#0d0887\"], [0.1111111111111111, \"#46039f\"], [0.2222222222222222, \"#7201a8\"], [0.3333333333333333, \"#9c179e\"], [0.4444444444444444, \"#bd3786\"], [0.5555555555555556, \"#d8576b\"], [0.6666666666666666, \"#ed7953\"], [0.7777777777777778, \"#fb9f3a\"], [0.8888888888888888, \"#fdca26\"], [1.0, \"#f0f921\"]], \"type\": \"contour\"}], \"contourcarpet\": [{\"colorbar\": {\"outlinewidth\": 0, \"ticks\": \"\"}, \"type\": \"contourcarpet\"}], \"heatmap\": [{\"colorbar\": {\"outlinewidth\": 0, \"ticks\": \"\"}, \"colorscale\": [[0.0, \"#0d0887\"], [0.1111111111111111, \"#46039f\"], [0.2222222222222222, \"#7201a8\"], [0.3333333333333333, \"#9c179e\"], [0.4444444444444444, \"#bd3786\"], [0.5555555555555556, \"#d8576b\"], [0.6666666666666666, \"#ed7953\"], [0.7777777777777778, \"#fb9f3a\"], [0.8888888888888888, \"#fdca26\"], [1.0, \"#f0f921\"]], \"type\": \"heatmap\"}], \"heatmapgl\": [{\"colorbar\": {\"outlinewidth\": 0, \"ticks\": \"\"}, \"colorscale\": [[0.0, \"#0d0887\"], [0.1111111111111111, \"#46039f\"], [0.2222222222222222, \"#7201a8\"], [0.3333333333333333, \"#9c179e\"], [0.4444444444444444, \"#bd3786\"], [0.5555555555555556, \"#d8576b\"], [0.6666666666666666, \"#ed7953\"], [0.7777777777777778, \"#fb9f3a\"], [0.8888888888888888, \"#fdca26\"], [1.0, \"#f0f921\"]], \"type\": \"heatmapgl\"}], \"histogram\": [{\"marker\": {\"colorbar\": {\"outlinewidth\": 0, \"ticks\": \"\"}}, \"type\": \"histogram\"}], \"histogram2d\": [{\"colorbar\": {\"outlinewidth\": 0, \"ticks\": \"\"}, \"colorscale\": [[0.0, \"#0d0887\"], [0.1111111111111111, \"#46039f\"], [0.2222222222222222, \"#7201a8\"], [0.3333333333333333, \"#9c179e\"], [0.4444444444444444, \"#bd3786\"], [0.5555555555555556, \"#d8576b\"], [0.6666666666666666, \"#ed7953\"], [0.7777777777777778, \"#fb9f3a\"], [0.8888888888888888, \"#fdca26\"], [1.0, \"#f0f921\"]], \"type\": \"histogram2d\"}], \"histogram2dcontour\": [{\"colorbar\": {\"outlinewidth\": 0, \"ticks\": \"\"}, \"colorscale\": [[0.0, \"#0d0887\"], [0.1111111111111111, \"#46039f\"], [0.2222222222222222, \"#7201a8\"], [0.3333333333333333, \"#9c179e\"], [0.4444444444444444, \"#bd3786\"], [0.5555555555555556, \"#d8576b\"], [0.6666666666666666, \"#ed7953\"], [0.7777777777777778, \"#fb9f3a\"], [0.8888888888888888, \"#fdca26\"], [1.0, \"#f0f921\"]], \"type\": \"histogram2dcontour\"}], \"mesh3d\": [{\"colorbar\": {\"outlinewidth\": 0, \"ticks\": \"\"}, \"type\": \"mesh3d\"}], \"parcoords\": [{\"line\": {\"colorbar\": {\"outlinewidth\": 0, \"ticks\": \"\"}}, \"type\": \"parcoords\"}], \"pie\": [{\"automargin\": true, \"type\": \"pie\"}], \"scatter\": [{\"marker\": {\"colorbar\": {\"outlinewidth\": 0, \"ticks\": \"\"}}, \"type\": \"scatter\"}], \"scatter3d\": [{\"line\": {\"colorbar\": {\"outlinewidth\": 0, \"ticks\": \"\"}}, \"marker\": {\"colorbar\": {\"outlinewidth\": 0, \"ticks\": \"\"}}, \"type\": \"scatter3d\"}], \"scattercarpet\": [{\"marker\": {\"colorbar\": {\"outlinewidth\": 0, \"ticks\": \"\"}}, \"type\": \"scattercarpet\"}], \"scattergeo\": [{\"marker\": {\"colorbar\": {\"outlinewidth\": 0, \"ticks\": \"\"}}, \"type\": \"scattergeo\"}], \"scattergl\": [{\"marker\": {\"colorbar\": {\"outlinewidth\": 0, \"ticks\": \"\"}}, \"type\": \"scattergl\"}], \"scattermapbox\": [{\"marker\": {\"colorbar\": {\"outlinewidth\": 0, \"ticks\": \"\"}}, \"type\": \"scattermapbox\"}], \"scatterpolar\": [{\"marker\": {\"colorbar\": {\"outlinewidth\": 0, \"ticks\": \"\"}}, \"type\": \"scatterpolar\"}], \"scatterpolargl\": [{\"marker\": {\"colorbar\": {\"outlinewidth\": 0, \"ticks\": \"\"}}, \"type\": \"scatterpolargl\"}], \"scatterternary\": [{\"marker\": {\"colorbar\": {\"outlinewidth\": 0, \"ticks\": \"\"}}, \"type\": \"scatterternary\"}], \"surface\": [{\"colorbar\": {\"outlinewidth\": 0, \"ticks\": \"\"}, \"colorscale\": [[0.0, \"#0d0887\"], [0.1111111111111111, \"#46039f\"], [0.2222222222222222, \"#7201a8\"], [0.3333333333333333, \"#9c179e\"], [0.4444444444444444, \"#bd3786\"], [0.5555555555555556, \"#d8576b\"], [0.6666666666666666, \"#ed7953\"], [0.7777777777777778, \"#fb9f3a\"], [0.8888888888888888, \"#fdca26\"], [1.0, \"#f0f921\"]], \"type\": \"surface\"}], \"table\": [{\"cells\": {\"fill\": {\"color\": \"#EBF0F8\"}, \"line\": {\"color\": \"white\"}}, \"header\": {\"fill\": {\"color\": \"#C8D4E3\"}, \"line\": {\"color\": \"white\"}}, \"type\": \"table\"}]}, \"layout\": {\"annotationdefaults\": {\"arrowcolor\": \"#2a3f5f\", \"arrowhead\": 0, \"arrowwidth\": 1}, \"coloraxis\": {\"colorbar\": {\"outlinewidth\": 0, \"ticks\": \"\"}}, \"colorscale\": {\"diverging\": [[0, \"#8e0152\"], [0.1, \"#c51b7d\"], [0.2, \"#de77ae\"], [0.3, \"#f1b6da\"], [0.4, \"#fde0ef\"], [0.5, \"#f7f7f7\"], [0.6, \"#e6f5d0\"], [0.7, \"#b8e186\"], [0.8, \"#7fbc41\"], [0.9, \"#4d9221\"], [1, \"#276419\"]], \"sequential\": [[0.0, \"#0d0887\"], [0.1111111111111111, \"#46039f\"], [0.2222222222222222, \"#7201a8\"], [0.3333333333333333, \"#9c179e\"], [0.4444444444444444, \"#bd3786\"], [0.5555555555555556, \"#d8576b\"], [0.6666666666666666, \"#ed7953\"], [0.7777777777777778, \"#fb9f3a\"], [0.8888888888888888, \"#fdca26\"], [1.0, \"#f0f921\"]], \"sequentialminus\": [[0.0, \"#0d0887\"], [0.1111111111111111, \"#46039f\"], [0.2222222222222222, \"#7201a8\"], [0.3333333333333333, \"#9c179e\"], [0.4444444444444444, \"#bd3786\"], [0.5555555555555556, \"#d8576b\"], [0.6666666666666666, \"#ed7953\"], [0.7777777777777778, \"#fb9f3a\"], [0.8888888888888888, \"#fdca26\"], [1.0, \"#f0f921\"]]}, \"colorway\": [\"#636efa\", \"#EF553B\", \"#00cc96\", \"#ab63fa\", \"#FFA15A\", \"#19d3f3\", \"#FF6692\", \"#B6E880\", \"#FF97FF\", \"#FECB52\"], \"font\": {\"color\": \"#2a3f5f\"}, \"geo\": {\"bgcolor\": \"white\", \"lakecolor\": \"white\", \"landcolor\": \"#E5ECF6\", \"showlakes\": true, \"showland\": true, \"subunitcolor\": \"white\"}, \"hoverlabel\": {\"align\": \"left\"}, \"hovermode\": \"closest\", \"mapbox\": {\"style\": \"light\"}, \"paper_bgcolor\": \"white\", \"plot_bgcolor\": \"#E5ECF6\", \"polar\": {\"angularaxis\": {\"gridcolor\": \"white\", \"linecolor\": \"white\", \"ticks\": \"\"}, \"bgcolor\": \"#E5ECF6\", \"radialaxis\": {\"gridcolor\": \"white\", \"linecolor\": \"white\", \"ticks\": \"\"}}, \"scene\": {\"xaxis\": {\"backgroundcolor\": \"#E5ECF6\", \"gridcolor\": \"white\", \"gridwidth\": 2, \"linecolor\": \"white\", \"showbackground\": true, \"ticks\": \"\", \"zerolinecolor\": \"white\"}, \"yaxis\": {\"backgroundcolor\": \"#E5ECF6\", \"gridcolor\": \"white\", \"gridwidth\": 2, \"linecolor\": \"white\", \"showbackground\": true, \"ticks\": \"\", \"zerolinecolor\": \"white\"}, \"zaxis\": {\"backgroundcolor\": \"#E5ECF6\", \"gridcolor\": \"white\", \"gridwidth\": 2, \"linecolor\": \"white\", \"showbackground\": true, \"ticks\": \"\", \"zerolinecolor\": \"white\"}}, \"shapedefaults\": {\"line\": {\"color\": \"#2a3f5f\"}}, \"ternary\": {\"aaxis\": {\"gridcolor\": \"white\", \"linecolor\": \"white\", \"ticks\": \"\"}, \"baxis\": {\"gridcolor\": \"white\", \"linecolor\": \"white\", \"ticks\": \"\"}, \"bgcolor\": \"#E5ECF6\", \"caxis\": {\"gridcolor\": \"white\", \"linecolor\": \"white\", \"ticks\": \"\"}}, \"title\": {\"x\": 0.05}, \"xaxis\": {\"automargin\": true, \"gridcolor\": \"white\", \"linecolor\": \"white\", \"ticks\": \"\", \"title\": {\"standoff\": 15}, \"zerolinecolor\": \"white\", \"zerolinewidth\": 2}, \"yaxis\": {\"automargin\": true, \"gridcolor\": \"white\", \"linecolor\": \"white\", \"ticks\": \"\", \"title\": {\"standoff\": 15}, \"zerolinecolor\": \"white\", \"zerolinewidth\": 2}}}},\n",
       "                        {\"responsive\": true}\n",
       "                    ).then(function(){\n",
       "                            \n",
       "var gd = document.getElementById('58d0e224-d3a7-4fe0-b005-c643f518eb68');\n",
       "var x = new MutationObserver(function (mutations, observer) {{\n",
       "        var display = window.getComputedStyle(gd).display;\n",
       "        if (!display || display === 'none') {{\n",
       "            console.log([gd, 'removed!']);\n",
       "            Plotly.purge(gd);\n",
       "            observer.disconnect();\n",
       "        }}\n",
       "}});\n",
       "\n",
       "// Listen for the removal of the full notebook cells\n",
       "var notebookContainer = gd.closest('#notebook-container');\n",
       "if (notebookContainer) {{\n",
       "    x.observe(notebookContainer, {childList: true});\n",
       "}}\n",
       "\n",
       "// Listen for the clearing of the current output cell\n",
       "var outputEl = gd.closest('.output');\n",
       "if (outputEl) {{\n",
       "    x.observe(outputEl, {childList: true});\n",
       "}}\n",
       "\n",
       "                        })\n",
       "                };\n",
       "                });\n",
       "            </script>\n",
       "        </div>"
      ]
     },
     "metadata": {},
     "output_type": "display_data"
    }
   ],
   "source": [
    "fig = go.Figure()\n",
    "fig.add_trace(go.Histogram(x=data, nbinsx=3, histnorm=\"density\", name='histo'))\n",
    "fig.add_trace(go.Scatter(x=x, y=a, name='kernel'))\n",
    "fig.show()"
   ]
  }
 ],
 "metadata": {
  "kernelspec": {
   "display_name": "Python 3",
   "language": "python",
   "name": "python3"
  },
  "language_info": {
   "codemirror_mode": {
    "name": "ipython",
    "version": 3
   },
   "file_extension": ".py",
   "mimetype": "text/x-python",
   "name": "python",
   "nbconvert_exporter": "python",
   "pygments_lexer": "ipython3",
   "version": "3.7.3"
  }
 },
 "nbformat": 4,
 "nbformat_minor": 5
}
