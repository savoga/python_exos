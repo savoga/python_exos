{
 "cells": [
  {
   "cell_type": "markdown",
   "metadata": {},
   "source": [
    "23/09: MCO et THM de projection\n",
    "\n",
    "1/ Thm de projection\n",
    "\n",
    "Thm de project\n",
    "\n",
    "Application aux MCO\n",
    "\n",
    "Thm unicité de l'estimateur\n",
    "\n",
    "2/ Normalisation - centralisation des données\n",
    "\n",
    "a) Modèle avec intercept"
   ]
  },
  {
   "cell_type": "markdown",
   "metadata": {},
   "source": [
    "$argmin \\|Y-1\\theta_0-\\tilde{X}\\theta\\|^2_2$"
   ]
  },
  {
   "cell_type": "markdown",
   "metadata": {},
   "source": [
    "b) Modèle centré et sans intercept\n",
    "\n",
    "==> a) et b) équivalent, relation entre les estimateurs (formule)\n",
    "\n",
    "NORMALISATION : centrage + rescaling\n",
    "\n",
    "\n",
    "3/ Etude théorique des MCO dans le cas du \"fixed design\"\n",
    "\n",
    "Biais et Variance des coefficients:\n"
   ]
  },
  {
   "cell_type": "markdown",
   "metadata": {},
   "source": [
    "$Var[\\widehat{\\theta_n}]=\\sigma^2(X^TX)^{-1}$\n",
    "\n",
    "$R_{quad}[\\widehat{\\theta_n}]=Tr(Cov(\\widehat{\\theta_n}))+\\||Biais(\\widehat{\\theta_n})||_2^2\\$"
   ]
  },
  {
   "cell_type": "markdown",
   "metadata": {},
   "source": [
    "Dans le cas où le biais est nul:\n",
    "\n",
    "$R_{quad}[\\widehat{\\theta_n}]=Tr(Cov(\\widehat{\\theta_n}))=\\sigma^2(X^TX)^{-1}=\\frac{\\sigma^2}{n}Tr(\\widehat{G}^{-1})$"
   ]
  },
  {
   "cell_type": "markdown",
   "metadata": {},
   "source": [
    "=> Problème de conditionnement"
   ]
  },
  {
   "cell_type": "markdown",
   "metadata": {},
   "source": [
    "$R_{quad}[\\widehat{\\theta_n}]=\\sigma^2*rang(H_X)$\n",
    "\n",
    "avec    $H_X=X(X^TX)^{-1}X^T$"
   ]
  }
 ],
 "metadata": {
  "kernelspec": {
   "display_name": "Python 3",
   "language": "python",
   "name": "python3"
  },
  "language_info": {
   "codemirror_mode": {
    "name": "ipython",
    "version": 3
   },
   "file_extension": ".py",
   "mimetype": "text/x-python",
   "name": "python",
   "nbconvert_exporter": "python",
   "pygments_lexer": "ipython3",
   "version": "3.7.3"
  }
 },
 "nbformat": 4,
 "nbformat_minor": 2
}
