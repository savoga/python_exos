{
 "cells": [
  {
   "cell_type": "markdown",
   "metadata": {},
   "source": [
    "23/09: MCO et THM de projection\n",
    "\n",
    "1/ Thm de projection\n",
    "\n",
    "Thm de project\n",
    "\n",
    "Application aux MCO\n",
    "\n",
    "Thm unicité de l'estimateur\n",
    "\n",
    "2/ Normalisation - centralisation des données\n",
    "\n",
    "a) Modèle avec intercept"
   ]
  },
  {
   "cell_type": "markdown",
   "metadata": {},
   "source": [
    "$argmin \\|Y-1\\theta_0-\\tilde{X}\\theta\\|^2_2$"
   ]
  },
  {
   "cell_type": "markdown",
   "metadata": {},
   "source": [
    "b) Modèle centré et sans intercept\n",
    "\n",
    "==> a) et b) équivalent, relation entre les estimateurs (formule)\n",
    "\n",
    "NORMALISATION : centrage + rescaling\n"
   ]
  },
  {
   "cell_type": "markdown",
   "metadata": {},
   "source": [
    "# I/ Etude théorique des MCO dans le cas du \"fixed design\""
   ]
  },
  {
   "cell_type": "markdown",
   "metadata": {},
   "source": [
    "On suppose:\n",
    "$$\n",
    "Y=X\\theta^* +\\epsilon \\\\\n",
    "avec~\\epsilon \\in \\mathbb{R}^n \\\\\n",
    "X déterministe \\\\\n",
    "\\epsilon_i~indépendantes,~centrées \\\\\n",
    "\\\\~\\\\\n",
    "\\left\\{\n",
    "    \\begin{array}{ll}\n",
    "        cov(\\epsilon)=\\sigma^2I_n \\\\\n",
    "        \\mathbb{E}[\\epsilon]=0\n",
    "    \\end{array}\n",
    "\\right.\n",
    "$$"
   ]
  },
  {
   "cell_type": "markdown",
   "metadata": {},
   "source": [
    "### Biais et Variance des coefficients:"
   ]
  },
  {
   "cell_type": "markdown",
   "metadata": {},
   "source": [
    "$Var[\\widehat{\\theta_n}]=\\sigma^2(X^TX)^{-1}$\n",
    "\n",
    "$R_{quad}[\\widehat{\\theta_n}]=Tr(Cov(\\widehat{\\theta_n}))+\\||Biais(\\widehat{\\theta_n})||_2^2\\$"
   ]
  },
  {
   "cell_type": "markdown",
   "metadata": {},
   "source": [
    "Dans le cas où le biais est nul:\n",
    "\n",
    "$R_{quad}[\\widehat{\\theta_n}]=Tr(Cov(\\widehat{\\theta_n}))=\\sigma^2(X^TX)^{-1}=\\frac{\\sigma^2}{n}Tr(\\widehat{G}^{-1})$"
   ]
  },
  {
   "cell_type": "markdown",
   "metadata": {},
   "source": [
    "=> Problème de conditionnement"
   ]
  },
  {
   "cell_type": "markdown",
   "metadata": {},
   "source": [
    "$R_{pred}[\\widehat{\\theta_n}]=\\sigma^2*rang(H_X)$\n",
    "\n",
    "avec    $H_X=X(X^TX)^{-1}X^T$"
   ]
  },
  {
   "cell_type": "markdown",
   "metadata": {},
   "source": [
    "30/09"
   ]
  },
  {
   "cell_type": "markdown",
   "metadata": {},
   "source": [
    "### Calcul / estimation de $\\sigma^2$"
   ]
  },
  {
   "cell_type": "markdown",
   "metadata": {},
   "source": [
    "$\\mathbb{E}[\\sum{\\widehat{\\epsilon}^2}]=\\sigma^2(n-(p+1))$"
   ]
  },
  {
   "cell_type": "markdown",
   "metadata": {},
   "source": [
    "# II/ Modèle sous-gaussien"
   ]
  },
  {
   "cell_type": "markdown",
   "metadata": {},
   "source": [
    "On suppose:\n",
    "$$\n",
    "Y=X\\theta^* +\\epsilon \\\\\n",
    "X déterministe \\\\\n",
    "\\epsilon_i~indépendantes,~centrées~(\\mathbb{E}[\\epsilon]=0),~gaussienne \\\\\n",
    "variance~epsilon?\n",
    "$$"
   ]
  },
  {
   "cell_type": "markdown",
   "metadata": {},
   "source": [
    "<font color='red'>Une variable centrée Z est dit <b>sous-gaussienne</b> si:\n",
    "$$\\forall \\lambda \\in \\mathbb{R},~\\mathbb{E}[e^{\\lambda Z}]\\le e^{\\frac{\\lambda^2 \\sigma^2}{2}}$$</font>"
   ]
  },
  {
   "cell_type": "markdown",
   "metadata": {},
   "source": [
    "<font color='red'>Inégalité de Markov:\n",
    "soit X une VA positive ou nulle presque sûrement, alors:\n",
    "$$\\forall a>0,~\\mathbb{P}(|X|\\ge a)\\le\\frac{\\mathbb{E}[X]}{a}$$</font>"
   ]
  },
  {
   "cell_type": "markdown",
   "metadata": {},
   "source": [
    "Les inégalités de concentration fournissent des bornes aux VA."
   ]
  },
  {
   "cell_type": "markdown",
   "metadata": {},
   "source": [
    "En utilisant Markov:\n",
    "\n",
    "<font color='red'>Inégalités de concentration:\n",
    "    \n",
    "$\\mathbb{P}(|S_n|>t)\\le 2e^{-\\frac{t^2}{2v_n}} \\\\\n",
    "avec~v_n=\\sum{\\sigma_i^2}$</font>"
   ]
  },
  {
   "cell_type": "markdown",
   "metadata": {},
   "source": [
    "$$|\\widehat{\\theta}_{n,k}-\\theta^*_k|\\le \\sqrt{\\frac{2\\sigma^2log(2/\\sigma)}{n\\lambda_n}}$$"
   ]
  },
  {
   "cell_type": "markdown",
   "metadata": {},
   "source": [
    "# III/ Modèle gaussien"
   ]
  },
  {
   "cell_type": "markdown",
   "metadata": {},
   "source": [
    "On suppose:\n",
    "$$\n",
    "Y=X\\theta^* +\\epsilon \\\\\n",
    "X déterministe \\\\\n",
    "\\epsilon_i~indépendantes,~centrées~(\\mathbb{E}[\\epsilon]=0),~gaussienne \\\\\n",
    "$$"
   ]
  },
  {
   "cell_type": "markdown",
   "metadata": {},
   "source": [
    "<font color = 'red'>Théorème de Cochran:\n",
    "soient $Q_i$ des formes quadratiques sur Y tel que $\\sum{Q_i}=\\sum Y_i^2$.\n",
    "\n",
    "Alors:\n",
    "\n",
    "$Q_j \\perp \\!\\!\\! \\perp ~~ et ~~ Q_j\\sim\\chi^2~~\\forall j$</font>"
   ]
  },
  {
   "cell_type": "markdown",
   "metadata": {},
   "source": [
    "Du théorème de Cochran il en découle:\n",
    "\n",
    "(i) $\\widehat{\\theta}_{n,k} \\perp \\!\\!\\! \\perp \\widehat{\\sigma}^2_n~avec~\\widehat{\\sigma}^2_n=\\frac{1}{n-p-1}\\sum{}\\widehat{\\epsilon}^2_i$\n",
    "\n",
    "(ii) $\\sqrt{n}(\\widehat{\\theta}_n-\\theta^*)\\sim \\mathcal{N}(0,(X^TX)^{-1}\\sigma^2)$\n",
    "\n",
    "(iii) $\\widehat{\\sigma}^2_n \\frac{n-p-1}{\\sigma^2}\\sim \\chi^2(n-p-1)$\n",
    "\n",
    "(iv) $\\sqrt{\\frac{n}{\\widehat{\\sigma}^2 S_{n,k}}}(\\widehat{\\theta}_n-\\theta^*) \\sim T(n-p-1)~avec~S_{n,k}=e^T_k\\widehat{G}_ne_k$"
   ]
  },
  {
   "cell_type": "markdown",
   "metadata": {},
   "source": [
    "07/10: intervalles de confiance et tests"
   ]
  },
  {
   "cell_type": "markdown",
   "metadata": {},
   "source": [
    "# INTERVALLES DE CONFIANCE"
   ]
  },
  {
   "cell_type": "markdown",
   "metadata": {},
   "source": []
  }
 ],
 "metadata": {
  "kernelspec": {
   "display_name": "Python 3",
   "language": "python",
   "name": "python3"
  },
  "language_info": {
   "codemirror_mode": {
    "name": "ipython",
    "version": 3
   },
   "file_extension": ".py",
   "mimetype": "text/x-python",
   "name": "python",
   "nbconvert_exporter": "python",
   "pygments_lexer": "ipython3",
   "version": "3.7.3"
  }
 },
 "nbformat": 4,
 "nbformat_minor": 2
}
