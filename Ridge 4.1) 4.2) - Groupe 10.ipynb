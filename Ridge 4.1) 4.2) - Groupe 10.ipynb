{
 "cells": [
  {
   "cell_type": "markdown",
   "metadata": {},
   "source": [
    "# Ridge"
   ]
  },
  {
   "cell_type": "markdown",
   "metadata": {},
   "source": [
    "## 4.1)"
   ]
  },
  {
   "cell_type": "markdown",
   "metadata": {},
   "source": [
    "$\\widehat{\\theta^{Ridge}_{n,\\lambda}}=(X^TX-\\lambda Id_n)X^Ty$ <br>\n",
    "Lorsque $X=Id_n$ on a:<br>\n",
    "$\\widehat{\\theta^{Ridge}_{n,\\lambda}}=(Id_n^TId_n-\\lambda Id_n)Id_n^Ty \\\\\n",
    "\\widehat{\\theta^{Ridge}_{n,\\lambda}}=(Id_n-\\lambda Id_n)Id_ny \\\\\n",
    "\\widehat{\\theta^{Ridge}_{n,\\lambda}}=y-\\lambda y \\\\\n",
    "\\widehat{\\theta^{Ridge}_{n,\\lambda}}=y(1-\\lambda)$"
   ]
  },
  {
   "cell_type": "markdown",
   "metadata": {},
   "source": [
    "## 4.2)"
   ]
  },
  {
   "cell_type": "markdown",
   "metadata": {},
   "source": [
    "$\\widehat{\\theta^{Ridge}_{n,\\lambda}}=(X^TX-\\lambda Id_n)X^TY$ <br>"
   ]
  }
 ],
 "metadata": {
  "kernelspec": {
   "display_name": "Python 3",
   "language": "python",
   "name": "python3"
  },
  "language_info": {
   "codemirror_mode": {
    "name": "ipython",
    "version": 3
   },
   "file_extension": ".py",
   "mimetype": "text/x-python",
   "name": "python",
   "nbconvert_exporter": "python",
   "pygments_lexer": "ipython3",
   "version": "3.7.3"
  }
 },
 "nbformat": 4,
 "nbformat_minor": 2
}
