{
 "cells": [
  {
   "cell_type": "markdown",
   "metadata": {},
   "source": [
    "# Ridge"
   ]
  },
  {
   "cell_type": "markdown",
   "metadata": {},
   "source": [
    "## 4.1)"
   ]
  },
  {
   "cell_type": "markdown",
   "metadata": {},
   "source": [
    "On a l'estimateur Ridge $\\widehat{\\theta}=argmin_\\theta \\frac{1}{2}||y-X\\theta||_2^2+\\frac{\\lambda}{2}||\\theta||_2^2$"
   ]
  },
  {
   "cell_type": "markdown",
   "metadata": {},
   "source": [
    "Soit $f: \\theta \\mapsto \\frac{1}{2}||y-X\\theta||_2^2+\\frac{\\lambda}{2}||\\theta||_2^2$"
   ]
  },
  {
   "cell_type": "markdown",
   "metadata": {},
   "source": [
    "Quand $X=Id_n$ on a $n=p+1$ et $f(\\theta)=\\frac{1}{2}||y-Id_n\\theta||_2^2+\\frac{\\lambda}{2}||\\theta||_2^2=\\frac{1}{2}||y-\\theta||_2^2+\\frac{\\lambda}{2}||\\theta||_2^2$"
   ]
  },
  {
   "cell_type": "markdown",
   "metadata": {},
   "source": [
    "Le minimum de la fonction est atteint lorsque $\\nabla f(\\theta) = 0$<br>"
   ]
  },
  {
   "cell_type": "markdown",
   "metadata": {},
   "source": [
    "## 4.2)"
   ]
  },
  {
   "cell_type": "markdown",
   "metadata": {},
   "source": [
    "$\\widehat{\\theta^{Ridge}_{n,\\lambda}}=(X^TX-\\lambda Id_n)X^TY$ <br>"
   ]
  },
  {
   "cell_type": "markdown",
   "metadata": {},
   "source": [
    "En partant de ce résultat, on retrouve bien le résultat précédent quand $X=Id_n$\n",
    "\n",
    "\n",
    "$\\widehat{\\theta^{Ridge}_{n,\\lambda}}=(X^TX-\\lambda Id_n)^{-1}X^Ty$ <br>\n",
    "Lorsque $X=Id_n$ on a:<br>\n",
    "$\\widehat{\\theta^{Ridge}_{n,\\lambda}}=(Id_n^TId_n-\\lambda Id_n)^{-1}Id_n^Ty \\\\\n",
    "\\widehat{\\theta^{Ridge}_{n,\\lambda}}=(Id_n-\\lambda Id_n)^{-1}Id_ny \\\\\n",
    "\\widehat{\\theta^{Ridge}_{n,\\lambda}}=(1-\\lambda)^{-1}y$"
   ]
  }
 ],
 "metadata": {
  "kernelspec": {
   "display_name": "Python 3",
   "language": "python",
   "name": "python3"
  },
  "language_info": {
   "codemirror_mode": {
    "name": "ipython",
    "version": 3
   },
   "file_extension": ".py",
   "mimetype": "text/x-python",
   "name": "python",
   "nbconvert_exporter": "python",
   "pygments_lexer": "ipython3",
   "version": "3.7.3"
  }
 },
 "nbformat": 4,
 "nbformat_minor": 2
}
