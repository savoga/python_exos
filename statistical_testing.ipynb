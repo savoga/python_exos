{
 "cells": [
  {
   "cell_type": "markdown",
   "id": "18f20f7e",
   "metadata": {},
   "source": [
    "[Z-test](#Z-test)\n",
    "\n",
    "[Comparison of samples](#Comparison-of-samples)\n",
    "\n",
    "[A/B testing (long example)](#A/B-testing-(long-example))\n",
    "\n",
    "[A/B testing (short example)](#A/B-testing-(short-example))"
   ]
  },
  {
   "cell_type": "code",
   "execution_count": 1,
   "id": "composed-fitting",
   "metadata": {},
   "outputs": [],
   "source": [
    "import numpy as np\n",
    "import pandas as pd\n",
    "\n",
    "import matplotlib.pyplot as plt\n",
    "\n",
    "from scipy.stats import ttest_ind"
   ]
  },
  {
   "cell_type": "markdown",
   "id": "backed-receiver",
   "metadata": {},
   "source": [
    "# Z-test"
   ]
  },
  {
   "cell_type": "markdown",
   "id": "transparent-damage",
   "metadata": {},
   "source": [
    "<font color='blue'>\n",
    "\n",
    "We want to find the **mean** of an unknown distribution from which we have a sample.\n",
    "    \n",
    "$\n",
    "\\left\\{\n",
    "    \\begin{array}{ll}\n",
    "        \\mathcal{H}_0: m=a \\\\\n",
    "        \\mathcal{H}_1: m>a \\\\\n",
    "    \\end{array}\n",
    "\\right.\n",
    "$\n",
    "\n",
    "Requirements/assumptions:\n",
    "    \n",
    "- we need the population to be normally distributed. Note: this may not be needed when sample size is high (> 30) as CLT will anyway give normality\n",
    "    \n",
    "- we need to know the standard deviation of the **population**\n",
    "    \n",
    "</font>"
   ]
  },
  {
   "cell_type": "markdown",
   "id": "statutory-cinema",
   "metadata": {},
   "source": [
    "*Example* (based on Saporta p.325)"
   ]
  },
  {
   "cell_type": "markdown",
   "id": "light-transsexual",
   "metadata": {},
   "source": [
    "Context: farmers suffer from the weather. A company proposes a new method to increase the chance of raining. We want to assess the efficiency of the method."
   ]
  },
  {
   "cell_type": "code",
   "execution_count": 2,
   "id": "neither-turtle",
   "metadata": {},
   "outputs": [
    {
     "data": {
      "text/html": [
       "<div>\n",
       "<style scoped>\n",
       "    .dataframe tbody tr th:only-of-type {\n",
       "        vertical-align: middle;\n",
       "    }\n",
       "\n",
       "    .dataframe tbody tr th {\n",
       "        vertical-align: top;\n",
       "    }\n",
       "\n",
       "    .dataframe thead th {\n",
       "        text-align: right;\n",
       "    }\n",
       "</style>\n",
       "<table border=\"1\" class=\"dataframe\">\n",
       "  <thead>\n",
       "    <tr style=\"text-align: right;\">\n",
       "      <th></th>\n",
       "      <th>years</th>\n",
       "      <th>mm</th>\n",
       "    </tr>\n",
       "  </thead>\n",
       "  <tbody>\n",
       "    <tr>\n",
       "      <th>0</th>\n",
       "      <td>1951</td>\n",
       "      <td>510</td>\n",
       "    </tr>\n",
       "    <tr>\n",
       "      <th>1</th>\n",
       "      <td>1952</td>\n",
       "      <td>614</td>\n",
       "    </tr>\n",
       "    <tr>\n",
       "      <th>2</th>\n",
       "      <td>1953</td>\n",
       "      <td>780</td>\n",
       "    </tr>\n",
       "    <tr>\n",
       "      <th>3</th>\n",
       "      <td>1954</td>\n",
       "      <td>512</td>\n",
       "    </tr>\n",
       "    <tr>\n",
       "      <th>4</th>\n",
       "      <td>1955</td>\n",
       "      <td>501</td>\n",
       "    </tr>\n",
       "    <tr>\n",
       "      <th>5</th>\n",
       "      <td>1956</td>\n",
       "      <td>535</td>\n",
       "    </tr>\n",
       "    <tr>\n",
       "      <th>6</th>\n",
       "      <td>1957</td>\n",
       "      <td>603</td>\n",
       "    </tr>\n",
       "    <tr>\n",
       "      <th>7</th>\n",
       "      <td>1958</td>\n",
       "      <td>788</td>\n",
       "    </tr>\n",
       "    <tr>\n",
       "      <th>8</th>\n",
       "      <td>1959</td>\n",
       "      <td>650</td>\n",
       "    </tr>\n",
       "  </tbody>\n",
       "</table>\n",
       "</div>"
      ],
      "text/plain": [
       "   years   mm\n",
       "0   1951  510\n",
       "1   1952  614\n",
       "2   1953  780\n",
       "3   1954  512\n",
       "4   1955  501\n",
       "5   1956  535\n",
       "6   1957  603\n",
       "7   1958  788\n",
       "8   1959  650"
      ]
     },
     "execution_count": 2,
     "metadata": {},
     "output_type": "execute_result"
    }
   ],
   "source": [
    "years = np.array([1951, 1952, 1953, 1954, 1955, 1956, 1957, 1958, 1959])\n",
    "mm = np.array([510, 614, 780, 512, 501, 535, 603, 788, 650]) # millimeters of rain\n",
    "df_report = pd.DataFrame(data=np.stack([years, mm], axis=1), columns=['years','mm'])\n",
    "df_report"
   ]
  },
  {
   "cell_type": "markdown",
   "id": "funded-palestinian",
   "metadata": {},
   "source": [
    "We'll say that the method really improves the raining frequency if on average it increases by at least 50 mm. Hence, the test is:\n",
    "\n",
    "$\\mathcal{H}_0: m=600~mm$ => if we keep $\\mathcal{H}_0$, it means the method didn't improve the raining level (since the current mean is already 600).\n",
    "\n",
    "Assumption: the natural raining level follows a Gaussian law $X \\sim \\mathcal{N}(600,100)$"
   ]
  },
  {
   "cell_type": "markdown",
   "id": "nearby-public",
   "metadata": {},
   "source": [
    "We thus perform a zscore test.\n",
    "\n",
    "1) Find the test: see above\n",
    "\n",
    "2) Find the estimator: we use the empiric mean: $\\hat \\beta = \\frac{1}{n}\\sum_{i=1}^{n}X_i$\n",
    "\n",
    "3) Write the rejection region: $Z = \\{\\hat \\beta \\ge k\\}$\n",
    "\n",
    "In order to accept $\\mathcal{H}_0$ we need $\\mathbb{P}_{\\mathcal{H}_0}(\\hat \\beta \\geq k) = \\alpha$ or $\\mathbb{P}_{\\mathcal{H}_0}(\\hat \\beta < k) = 1-\\alpha$\n",
    "\n",
    "4) Compute the test statistic\n",
    "\n",
    "$T = \\frac{\\hat \\beta - \\mu_\\beta}{\\sigma_\\beta} \\sim \\mathcal{N}(0,1)$\n",
    "\n",
    "Note: we don't need $\\sqrt{n}$ since the distribution of $X$ is already Gaussian.\n",
    "\n",
    "5) Retrieve quantiles of known distributions\n",
    "\n",
    "We know that $\\sigma_\\beta = 100$ and that, under $\\mathcal{H}_0$, $\\mu_\\beta = 600$.\n",
    "\n",
    "Hence $\\mathbb{P}_{\\mathcal{H}_0}(\\hat \\beta < k) = \\mathbb{P}_{\\mathcal{H}_0}(T < \\frac{k-600}{100/3})$\n",
    "\n",
    "We thus deduce the value of $k$: $\\frac{k-600}{100/3}=q_{1-\\alpha}$\n",
    "\n",
    "=> $k = q_{1-\\alpha} \\frac{100}{3}+600$\n",
    "\n",
    "Thanks to the quantile table: $k = 1.64 \\frac{100}{3}+600 = 655$\n",
    "\n",
    "Finally the reject region is $Z = \\{\\hat \\beta \\ge 655\\}$"
   ]
  },
  {
   "cell_type": "markdown",
   "id": "fitting-stanley",
   "metadata": {},
   "source": [
    "We now find the numerical value of $\\hat \\beta$:"
   ]
  },
  {
   "cell_type": "code",
   "execution_count": 392,
   "id": "ff34f201",
   "metadata": {},
   "outputs": [
    {
     "name": "stdout",
     "output_type": "stream",
     "text": [
      "62.66567696332291\n",
      "67.97911399972539\n"
     ]
    }
   ],
   "source": [
    "print(np.min(np.random.normal(65,1,100)))\n",
    "print(np.max(np.random.normal(65,1,100)))"
   ]
  },
  {
   "cell_type": "code",
   "execution_count": 384,
   "id": "61a87acf",
   "metadata": {},
   "outputs": [
    {
     "data": {
      "text/plain": [
       "[<matplotlib.lines.Line2D at 0x7f5d6aa436d8>]"
      ]
     },
     "execution_count": 384,
     "metadata": {},
     "output_type": "execute_result"
    },
    {
     "data": {
      "image/png": "[encoded data removed]",
      "text/plain": [
       "<Figure size 432x288 with 1 Axes>"
      ]
     },
     "metadata": {
      "needs_background": "light"
     },
     "output_type": "display_data"
    }
   ],
   "source": [
    "x = np.linspace(55,75,100)\n",
    "y = scs.norm(65,1).pdf(x)\n",
    "plt.plot(x,y)"
   ]
  },
  {
   "cell_type": "code",
   "execution_count": 3,
   "id": "interracial-observer",
   "metadata": {},
   "outputs": [
    {
     "data": {
      "text/plain": [
       "610.3333333333334"
      ]
     },
     "execution_count": 3,
     "metadata": {},
     "output_type": "execute_result"
    }
   ],
   "source": [
    "np.mean(df_report['mm'])"
   ]
  },
  {
   "cell_type": "markdown",
   "id": "entire-entrepreneur",
   "metadata": {},
   "source": [
    "Since $610<655$ we don't reject $\\mathcal{H}_0$ and conclude that the method doesn't significatively improves the raining level."
   ]
  },
  {
   "cell_type": "markdown",
   "id": "instructional-rogers",
   "metadata": {},
   "source": [
    "<font color='red'>In this example we looked for the distribution from which the sample is extracted. Here we only knew the type of the distribution (Gaussian) and its standard deviation. The power of the test is that it takes into account the fact that we only have a **sample** from an unknown distribution. It thus considers the randomization process into the final decision.</font>"
   ]
  },
  {
   "cell_type": "markdown",
   "id": "protecting-portable",
   "metadata": {},
   "source": [
    "# Comparison of samples"
   ]
  },
  {
   "cell_type": "markdown",
   "id": "universal-hotel",
   "metadata": {},
   "source": [
    "Context: there are two universities. We want to know if students have the same size on average across the two universities.\n",
    "\n",
    "Method: we don't have the sizes of all students so we only work with two samples. We will infer some conclusions for the total population."
   ]
  },
  {
   "cell_type": "markdown",
   "id": "retained-council",
   "metadata": {},
   "source": [
    "*Total population*"
   ]
  },
  {
   "cell_type": "code",
   "execution_count": 4,
   "id": "illegal-faculty",
   "metadata": {},
   "outputs": [
    {
     "data": {
      "image/png": "[encoded data removed]",
      "text/plain": [
       "<Figure size 432x288 with 1 Axes>"
      ]
     },
     "metadata": {
      "needs_background": "light"
     },
     "output_type": "display_data"
    }
   ],
   "source": [
    "n = 1000\n",
    "\n",
    "mu_1 = 170\n",
    "sigma_1 = 3\n",
    "\n",
    "mu_2 = 170\n",
    "sigma_2 = 3\n",
    "\n",
    "np.random.seed(1)\n",
    "\n",
    "df_university = pd.DataFrame()\n",
    "\n",
    "df_university['university_1'] = np.random.normal(mu_1, sigma_1, n)\n",
    "df_university['university_2'] = np.random.normal(mu_2, sigma_2, n)\n",
    "\n",
    "plt.hist(df_university['university_1'], alpha=0.5, color='lightblue')\n",
    "plt.hist(df_university['university_2'], alpha=0.5, color='orange')\n",
    "plt.axvline(mu_1, color='lightblue')\n",
    "plt.axvline(mu_2, color='orange')\n",
    "plt.show()"
   ]
  },
  {
   "cell_type": "markdown",
   "id": "elect-separation",
   "metadata": {},
   "source": [
    "*Samples*"
   ]
  },
  {
   "cell_type": "code",
   "execution_count": 5,
   "id": "stupid-command",
   "metadata": {},
   "outputs": [
    {
     "name": "stdout",
     "output_type": "stream",
     "text": [
      "2.026256482661462\n",
      "172.33561352746545\n",
      "2.163264901132512\n",
      "170.01095215894242\n"
     ]
    },
    {
     "data": {
      "image/png": "[encoded data removed]",
      "text/plain": [
       "<Figure size 432x288 with 1 Axes>"
      ]
     },
     "metadata": {
      "needs_background": "light"
     },
     "output_type": "display_data"
    }
   ],
   "source": [
    "sample_1 = df_university['university_1'].sample(n=10)\n",
    "print(np.std(sample_1))\n",
    "print(np.mean(sample_1))\n",
    "sample_2 = df_university['university_2'].sample(n=10)\n",
    "print(np.std(sample_2))\n",
    "print(np.mean(sample_2))\n",
    "\n",
    "plt.hist(sample_1, alpha=0.5, color='lightblue')\n",
    "plt.hist(sample_2, alpha=0.5, color='orange')\n",
    "plt.axvline(np.mean(sample_1), color='lightblue')\n",
    "plt.axvline(np.mean(sample_2), color='orange')\n",
    "plt.show()"
   ]
  },
  {
   "cell_type": "markdown",
   "id": "changed-gibson",
   "metadata": {},
   "source": [
    "We note that depending on the sampling, the mean and standard deviation from the two samples are different, although the ones from the total population are similar."
   ]
  },
  {
   "cell_type": "markdown",
   "id": "south-alaska",
   "metadata": {},
   "source": [
    "*T-test*"
   ]
  },
  {
   "cell_type": "markdown",
   "id": "satellite-flooring",
   "metadata": {},
   "source": [
    "t-test assumes **population** variances are equal\n",
    "\n",
    "$\\mathcal{H}_0: m_1=m_2$"
   ]
  },
  {
   "cell_type": "code",
   "execution_count": 6,
   "id": "enclosed-holly",
   "metadata": {
    "scrolled": true
   },
   "outputs": [
    {
     "data": {
      "text/plain": [
       "Ttest_indResult(statistic=2.352878129103482, pvalue=0.03020273708208031)"
      ]
     },
     "execution_count": 6,
     "metadata": {},
     "output_type": "execute_result"
    }
   ],
   "source": [
    "ttest_ind(sample_1, sample_2)"
   ]
  },
  {
   "cell_type": "markdown",
   "id": "gentle-klein",
   "metadata": {},
   "source": [
    "pvalue < 5% => we reject $\\mathcal{H}_0$ without taking too much risk => the two samples have significantly different means; since the test takes into account the randomization of the sampling, we deduce **the two universities have significantly different means**.\n",
    "\n",
    "pvalue > 5% => we don't reject $\\mathcal{H}_0$ without taking too much risk => the two samples don't have significantly different means; since the test takes into account the randomization of the sampling, we deduce **the two universities have the same means**."
   ]
  },
  {
   "cell_type": "markdown",
   "id": "59d6b999",
   "metadata": {},
   "source": [
    "# A/B testing (long example)"
   ]
  },
  {
   "cell_type": "markdown",
   "id": "1586228d",
   "metadata": {},
   "source": [
    "**Tutorial**: https://towardsdatascience.com/the-math-behind-a-b-testing-with-example-code-part-1-of-2-7be752e1d06f"
   ]
  },
  {
   "cell_type": "markdown",
   "id": "0d915ed3",
   "metadata": {},
   "source": [
    "**Context**: we want to test the subscription of a new recommended product."
   ]
  },
  {
   "cell_type": "markdown",
   "id": "479bed67",
   "metadata": {},
   "source": [
    "**A/B testing**: before making the subscription, we test the performance of a small number of users. The used test is Z-test (with known variance)."
   ]
  },
  {
   "cell_type": "markdown",
   "id": "63247d12",
   "metadata": {},
   "source": [
    "$\\mathcal{H}_0: \\mu_1=\\mu_2$"
   ]
  },
  {
   "cell_type": "markdown",
   "id": "4728935f",
   "metadata": {},
   "source": [
    "**Framework**: \n",
    "\n",
    "- The satisfaction rate is the number of clients achieving a high performance (satisfied clients).\n",
    "- The control group is the group of clients who did not invest in new product\n",
    "- The test group is the group of clients who invested in the new product"
   ]
  },
  {
   "cell_type": "code",
   "execution_count": 105,
   "id": "e9801094",
   "metadata": {},
   "outputs": [],
   "source": [
    "import scipy.stats as scs\n",
    "import pandas as pd\n",
    "import numpy as np\n",
    "\n",
    "import matplotlib.pyplot as plt"
   ]
  },
  {
   "cell_type": "markdown",
   "id": "dade5b0b",
   "metadata": {},
   "source": [
    "*Data generation*"
   ]
  },
  {
   "cell_type": "code",
   "execution_count": 106,
   "id": "81e6b2fe",
   "metadata": {},
   "outputs": [],
   "source": [
    "N = 2000\n",
    "N_A = 1000 # desired samples for group A\n",
    "N_B = 1000 # desired samples for group B\n",
    "p_group = N_A/(N_A + N_B) # = 0.5"
   ]
  },
  {
   "cell_type": "code",
   "execution_count": 107,
   "id": "8f526e7a",
   "metadata": {},
   "outputs": [],
   "source": [
    "control_cr = 0.2 # true conversion rate for group A\n",
    "test_cr = 0.24 # true conversion rate for group B"
   ]
  },
  {
   "cell_type": "markdown",
   "id": "0974cfc5",
   "metadata": {},
   "source": [
    "$$G \\sim \\mathcal{B}(0.5)$$\n",
    "$$X_{|G=A} \\sim \\mathcal{B}(control\\_cr)$$\n",
    "$$X_{|G=B} \\sim \\mathcal{B}(test\\_cr)$$"
   ]
  },
  {
   "cell_type": "code",
   "execution_count": 108,
   "id": "bc70517f",
   "metadata": {},
   "outputs": [],
   "source": [
    "df_data = pd.DataFrame(data={'Group':['A' if (scs.bernoulli(p_group).rvs()==1) else 'B' for i in range(N)]})\n",
    "df_data['Satisfied'] = df_data.apply(lambda x : scs.bernoulli(control_cr).rvs() if x['Group']=='A' \\\n",
    "                                                else scs.bernoulli(test_cr).rvs(), axis=1)"
   ]
  },
  {
   "cell_type": "code",
   "execution_count": 109,
   "id": "f9276a7b",
   "metadata": {},
   "outputs": [
    {
     "data": {
      "text/html": [
       "<div>\n",
       "<style scoped>\n",
       "    .dataframe tbody tr th:only-of-type {\n",
       "        vertical-align: middle;\n",
       "    }\n",
       "\n",
       "    .dataframe tbody tr th {\n",
       "        vertical-align: top;\n",
       "    }\n",
       "\n",
       "    .dataframe thead th {\n",
       "        text-align: right;\n",
       "    }\n",
       "</style>\n",
       "<table border=\"1\" class=\"dataframe\">\n",
       "  <thead>\n",
       "    <tr style=\"text-align: right;\">\n",
       "      <th></th>\n",
       "      <th>Group</th>\n",
       "      <th>Satisfied</th>\n",
       "    </tr>\n",
       "  </thead>\n",
       "  <tbody>\n",
       "    <tr>\n",
       "      <th>0</th>\n",
       "      <td>B</td>\n",
       "      <td>0</td>\n",
       "    </tr>\n",
       "    <tr>\n",
       "      <th>1</th>\n",
       "      <td>B</td>\n",
       "      <td>1</td>\n",
       "    </tr>\n",
       "    <tr>\n",
       "      <th>2</th>\n",
       "      <td>A</td>\n",
       "      <td>0</td>\n",
       "    </tr>\n",
       "    <tr>\n",
       "      <th>3</th>\n",
       "      <td>A</td>\n",
       "      <td>0</td>\n",
       "    </tr>\n",
       "    <tr>\n",
       "      <th>4</th>\n",
       "      <td>A</td>\n",
       "      <td>0</td>\n",
       "    </tr>\n",
       "  </tbody>\n",
       "</table>\n",
       "</div>"
      ],
      "text/plain": [
       "  Group  Satisfied\n",
       "0     B          0\n",
       "1     B          1\n",
       "2     A          0\n",
       "3     A          0\n",
       "4     A          0"
      ]
     },
     "execution_count": 109,
     "metadata": {},
     "output_type": "execute_result"
    }
   ],
   "source": [
    "df_data.head()"
   ]
  },
  {
   "cell_type": "code",
   "execution_count": 110,
   "id": "3baaf0b3",
   "metadata": {},
   "outputs": [
    {
     "data": {
      "text/html": [
       "<div>\n",
       "<style scoped>\n",
       "    .dataframe tbody tr th:only-of-type {\n",
       "        vertical-align: middle;\n",
       "    }\n",
       "\n",
       "    .dataframe tbody tr th {\n",
       "        vertical-align: top;\n",
       "    }\n",
       "\n",
       "    .dataframe thead th {\n",
       "        text-align: right;\n",
       "    }\n",
       "</style>\n",
       "<table border=\"1\" class=\"dataframe\">\n",
       "  <thead>\n",
       "    <tr style=\"text-align: right;\">\n",
       "      <th></th>\n",
       "      <th>Satisfied</th>\n",
       "      <th>total</th>\n",
       "      <th>rate</th>\n",
       "    </tr>\n",
       "    <tr>\n",
       "      <th>Group</th>\n",
       "      <th></th>\n",
       "      <th></th>\n",
       "      <th></th>\n",
       "    </tr>\n",
       "  </thead>\n",
       "  <tbody>\n",
       "    <tr>\n",
       "      <th>A</th>\n",
       "      <td>227</td>\n",
       "      <td>1027</td>\n",
       "      <td>0.221032</td>\n",
       "    </tr>\n",
       "    <tr>\n",
       "      <th>B</th>\n",
       "      <td>243</td>\n",
       "      <td>973</td>\n",
       "      <td>0.249743</td>\n",
       "    </tr>\n",
       "  </tbody>\n",
       "</table>\n",
       "</div>"
      ],
      "text/plain": [
       "       Satisfied  total      rate\n",
       "Group                            \n",
       "A            227   1027  0.221032\n",
       "B            243    973  0.249743"
      ]
     },
     "execution_count": 110,
     "metadata": {},
     "output_type": "execute_result"
    }
   ],
   "source": [
    "ab_summary = df_data.pivot_table(values='Satisfied', index='Group', aggfunc=np.sum)\n",
    "ab_summary['total'] = df_data.pivot_table(values='Satisfied', index='Group', aggfunc=lambda x: len(x))\n",
    "ab_summary['rate'] = df_data.pivot_table(values='Satisfied', index='Group')\n",
    "ab_summary"
   ]
  },
  {
   "cell_type": "markdown",
   "id": "53fb7c9a",
   "metadata": {},
   "source": [
    "We now want to measure if the difference of performance is statistically significant or not."
   ]
  },
  {
   "cell_type": "markdown",
   "id": "7b4e161b",
   "metadata": {},
   "source": [
    "*Plot distributions*"
   ]
  },
  {
   "cell_type": "code",
   "execution_count": 111,
   "id": "f890da54",
   "metadata": {},
   "outputs": [],
   "source": [
    "N_A_satisfied = ab_summary[ab_summary.index=='A']['Satisfied'].values[0]\n",
    "N_B_satisfied = ab_summary[ab_summary.index=='B']['Satisfied'].values[0]\n",
    "\n",
    "N_A_total = ab_summary[ab_summary.index=='A']['total'].values[0]\n",
    "N_B_total = ab_summary[ab_summary.index=='B']['total'].values[0]"
   ]
  },
  {
   "cell_type": "code",
   "execution_count": 112,
   "id": "4081fd4d",
   "metadata": {},
   "outputs": [],
   "source": [
    "# Estimators\n",
    "p_A = N_A_satisfied/N_A_total\n",
    "p_B = N_B_satisfied/N_B_total"
   ]
  },
  {
   "cell_type": "markdown",
   "id": "500292a1",
   "metadata": {},
   "source": [
    "*Simulation (for illustration only)*"
   ]
  },
  {
   "cell_type": "markdown",
   "id": "4bd19e16",
   "metadata": {},
   "source": [
    "If we want to display the distribution of the successes, we can repeat the data generation many times to artificially create samples. This is equivalent to generating a binomial distribution (repetition of Bernoulli variables)."
   ]
  },
  {
   "cell_type": "code",
   "execution_count": 113,
   "id": "503c80d4",
   "metadata": {},
   "outputs": [
    {
     "data": {
      "image/png": "[encoded data removed]",
      "text/plain": [
       "<Figure size 864x432 with 1 Axes>"
      ]
     },
     "metadata": {
      "needs_background": "light"
     },
     "output_type": "display_data"
    }
   ],
   "source": [
    "fig, ax = plt.subplots(figsize=(12,6))\n",
    "\n",
    "# Control group: distribution of successes\n",
    "x = np.linspace(N_A_satisfied-49, N_A_satisfied+50, 100)\n",
    "y = scs.binom(N_A, p_A).pmf(x) # we generate many Bernoulli variables\n",
    "ax.bar(x, y, alpha=0.5, label='Control group')\n",
    "\n",
    "# Test group: success threshold\n",
    "ax.axvline(x=p_B*N_A, c='orange', alpha=0.5, linestyle='--', label='Test group')\n",
    "\n",
    "plt.xlabel('Number of satisfied clients')\n",
    "plt.ylabel('Probability')\n",
    "plt.legend(loc=\"upper left\")\n",
    "plt.title('Distribution of successes for the control group (simulation)')\n",
    "plt.show()"
   ]
  },
  {
   "cell_type": "markdown",
   "id": "c20723a3",
   "metadata": {},
   "source": [
    "We can also add the distribution of successes for the test group by generating multiple Bernoulli variables."
   ]
  },
  {
   "cell_type": "code",
   "execution_count": 114,
   "id": "8821ba8a",
   "metadata": {},
   "outputs": [
    {
     "data": {
      "image/png": "[encoded data removed]",
      "text/plain": [
       "<Figure size 864x432 with 1 Axes>"
      ]
     },
     "metadata": {
      "needs_background": "light"
     },
     "output_type": "display_data"
    }
   ],
   "source": [
    "# Control group: distribution of successes\n",
    "fig, ax = plt.subplots(figsize=(12,6))\n",
    "xA = np.linspace(N_A_satisfied-49, N_A_satisfied+50, 100)\n",
    "yA = scs.binom(N_A, control_cr).pmf(xA) # we generate many Bernoulli variables\n",
    "ax.bar(xA, yA, alpha=0.5, label='Control group')\n",
    "\n",
    "# Test group: distribution of successes\n",
    "xB = np.linspace(N_B_satisfied-49, N_B_satisfied+50, 100)\n",
    "yB = scs.binom(N_B, p_B).pmf(xB) # we generate many Bernoulli variables\n",
    "ax.bar(xB, yB, alpha=0.5, label='Test group')\n",
    "\n",
    "plt.xlabel('Number of satisfied clients')\n",
    "plt.ylabel('Probability')\n",
    "plt.legend(loc=\"upper left\")\n",
    "plt.title('Distributions of successes (simulation) for the two groups')\n",
    "plt.show()"
   ]
  },
  {
   "cell_type": "markdown",
   "id": "26ce584a",
   "metadata": {},
   "source": [
    "It looks like the probability to get a high number of satisfied clients after recommending the product is higher for the test group. It's a good sign because it may means that the recommendation really makes a difference. However, we cannot conclude anything at this stage; we need to continue the analysis and perform tests that take the number of samples into account."
   ]
  },
  {
   "cell_type": "markdown",
   "id": "c6d511a5",
   "metadata": {},
   "source": [
    "$Normality$"
   ]
  },
  {
   "cell_type": "markdown",
   "id": "fb96ecfa",
   "metadata": {},
   "source": [
    "Estimated mean: average of many sample means.\n",
    "\n",
    "$$\\hat p = \\frac{1}{n}\\sum_i^nX_i$$"
   ]
  },
  {
   "cell_type": "markdown",
   "id": "038f5096",
   "metadata": {},
   "source": [
    "CLT: the standardized estimated mean follows a centered-reduced distribution.\n",
    "\n",
    "In other words, the estimated mean is normally distributed around the true mean $\\mu$ (the mean coming from the population).\n",
    "\n",
    "$$\\frac{\\hat p - \\mu_{\\hat p}}{\\sigma_{\\hat p}} \\sim \\mathcal{N}(0,1)$$\n",
    "\n",
    "Since $X_i, i=1,...,n$ is a Bernoulli variable, we can write for each group:\n",
    "\n",
    "$$\\hat p \\sim \\mathcal{N}(p, \\sqrt{\\frac{p(1-p)}{n}})$$\n",
    "\n",
    "Note: $\\sqrt{\\frac{p(1-p)}{n}}$ is the **standard error**. The standard deviation reflects variability within <ins>one</ins> sample of a population, while the standard error estimates the variability across <ins>many</ins> samples of a population."
   ]
  },
  {
   "cell_type": "code",
   "execution_count": 115,
   "id": "e90d983a",
   "metadata": {
    "scrolled": false
   },
   "outputs": [
    {
     "data": {
      "image/png": "[encoded data removed]",
      "text/plain": [
       "<Figure size 864x432 with 1 Axes>"
      ]
     },
     "metadata": {
      "needs_background": "light"
     },
     "output_type": "display_data"
    }
   ],
   "source": [
    "# standard error of the mean for both groups\n",
    "SE_A = np.sqrt((p_A * (1-p_A)) / N_A_total)\n",
    "SE_B = np.sqrt((p_B * (1-p_B)) / N_B_total)\n",
    "\n",
    "fig, ax = plt.subplots(figsize=(12,6))\n",
    "xA = np.linspace(.1, .4, 1000)\n",
    "yA = scs.norm(p_A, SE_A).pdf(xA)\n",
    "ax.plot(xA, yA, c='red', label='Control group')\n",
    "ax.axvline(x=p_A, c='red', alpha=0.5, linestyle='--')\n",
    "\n",
    "xB = np.linspace(.1, .4, 1000)\n",
    "yB = scs.norm(p_B, SE_B).pdf(xB)\n",
    "ax.plot(xB, yB, c='blue', label='Test group')\n",
    "ax.axvline(x=p_B, c='blue', alpha=0.5, linestyle='--')\n",
    "\n",
    "plt.xlabel('Satisfaction rates')\n",
    "plt.ylabel('PDF')\n",
    "plt.legend(loc=\"upper left\")\n",
    "plt.title('Distribution of estimators for the two groups')\n",
    "plt.show()"
   ]
  },
  {
   "cell_type": "markdown",
   "id": "dd2ccdba",
   "metadata": {},
   "source": [
    "<font color=red>Warning: in the above graph, estimator = $\\hat \\mu$</font>"
   ]
  },
  {
   "cell_type": "markdown",
   "id": "937500ef",
   "metadata": {},
   "source": [
    "The dash lines are the estimators for both groups $\\hat p_A$ and $\\hat p_B$."
   ]
  },
  {
   "cell_type": "markdown",
   "id": "6ee14031",
   "metadata": {},
   "source": [
    "We now want to focus on the difference, i.e. estimator $\\hat d = \\hat p_A - \\hat p_B$"
   ]
  },
  {
   "cell_type": "markdown",
   "id": "2e8744bc",
   "metadata": {},
   "source": [
    "$$\\mathbb{E}[\\hat p_A - \\hat p_B] = p_A - p_B$$\n",
    "\n",
    "$$\\mathbb{V}[\\hat p_A - \\hat p_B] = \\mathbb{V}[\\hat p_A] + \\mathbb{V}[\\hat p_B] = \\frac{p_A(1-p_A)}{n_A} + \\frac{p_B(1-p_B)}{n_B}$$\n",
    "\n",
    "Thus,\n",
    "\n",
    "$$\\hat d \\sim \\mathcal{N}(p_A - p_B, \\sqrt{\\frac{p_A(1-p_A)}{n_A} + \\frac{p_B(1-p_B)}{n_B}})$$\n",
    "\n",
    "Pooled standard deviation??"
   ]
  },
  {
   "cell_type": "markdown",
   "id": "69d16217",
   "metadata": {},
   "source": [
    "We can then display the distributions of $\\hat d$ under both hypothesis.\n",
    "\n",
    "\"After running our experiment, we get a resulting conversion rate for both groups. If we calculate the **difference** between the conversion rates, we end up with one result, the difference or the effect of the design change. Our task is to determine **which population this result came from, the null hypothesis or the alternative hypothesis**.\""
   ]
  },
  {
   "cell_type": "code",
   "execution_count": 116,
   "id": "602a138b",
   "metadata": {},
   "outputs": [
    {
     "data": {
      "image/png": "[encoded data removed]",
      "text/plain": [
       "<Figure size 864x432 with 1 Axes>"
      ]
     },
     "metadata": {
      "needs_background": "light"
     },
     "output_type": "display_data"
    }
   ],
   "source": [
    "# Estimator under H0\n",
    "mu_0 = 0\n",
    "sigma_0 = np.sqrt((p_A*(1-p_A)/N_A)+(p_B*(1-p_B)/N_B))\n",
    "x_0 = np.linspace(mu_0 - 12 * sigma_0, mu_0 + 12 * sigma_0, 1000)\n",
    "y_0 = scs.norm(mu_0, sigma_0).pdf(x_0)\n",
    "\n",
    "# Estimator under H1\n",
    "mu_1 = p_A-p_B\n",
    "sigma_1 = np.sqrt((p_A*(1-p_A)/N_A)+(p_B*(1-p_B)/N_B))\n",
    "x_1 = np.linspace(mu_1 - 12 * sigma_1, mu_1 + 12 * sigma_1, 1000)\n",
    "y_1 = scs.norm(mu_1, sigma_1).pdf(x_1)\n",
    "\n",
    "fig, ax = plt.subplots(figsize=(12,6))\n",
    "ax.plot(x_0, y_0, c='blue', label='H_0')\n",
    "ax.plot(x_1, y_1, c='red', label='H_1')\n",
    "plt.legend(loc=\"upper left\")\n",
    "plt.title('Distribution of estimator under both hypothesis')\n",
    "plt.show()"
   ]
  },
  {
   "cell_type": "markdown",
   "id": "329ddef5",
   "metadata": {},
   "source": [
    "<font color=red>Warning: in the above graph, estimator = $\\hat d$</font>"
   ]
  },
  {
   "cell_type": "markdown",
   "id": "d73831c5",
   "metadata": {},
   "source": [
    "We now plot the confidence interval. We don't reject $\\mathcal{H}_0$ when we are in the confidence interval."
   ]
  },
  {
   "cell_type": "code",
   "execution_count": 117,
   "id": "db2a1863",
   "metadata": {},
   "outputs": [],
   "source": [
    "# The quantile can be found with scs.norm().ppf(1-0.05/2)\n",
    "left, right = mu_0-1.96*sigma_0, mu_0+1.96*sigma_0"
   ]
  },
  {
   "cell_type": "code",
   "execution_count": 118,
   "id": "25d55373",
   "metadata": {},
   "outputs": [
    {
     "data": {
      "image/png": "[encoded data removed]",
      "text/plain": [
       "<Figure size 864x432 with 1 Axes>"
      ]
     },
     "metadata": {
      "needs_background": "light"
     },
     "output_type": "display_data"
    }
   ],
   "source": [
    "fig, ax = plt.subplots(figsize=(12,6))\n",
    "ax.plot(x_0, y_0, c='blue', label='H_0')\n",
    "ax.plot(x_1, y_1, c='red', label='H_1')\n",
    "ax.axvline(left, c='grey', linestyle='--', alpha=0.5)\n",
    "ax.axvline(right, c='grey', linestyle='--', alpha=0.5)\n",
    "plt.legend(loc=\"upper left\")\n",
    "plt.show()"
   ]
  },
  {
   "cell_type": "markdown",
   "id": "5fe85dee",
   "metadata": {},
   "source": [
    "We now add the power of the test which is a measurement of the *true positives*."
   ]
  },
  {
   "cell_type": "code",
   "execution_count": 119,
   "id": "a639eafd",
   "metadata": {},
   "outputs": [
    {
     "data": {
      "image/png": "[encoded data removed]",
      "text/plain": [
       "<Figure size 864x432 with 1 Axes>"
      ]
     },
     "metadata": {
      "needs_background": "light"
     },
     "output_type": "display_data"
    }
   ],
   "source": [
    "x = np.linspace(-12 * sigma_1, 12 * sigma_1, 1000)\n",
    "fig, ax = plt.subplots(figsize=(12,6))\n",
    "ax.plot(x_0, y_0, c='blue', label='H_0')\n",
    "ax.plot(x_1, y_1, c='red', label='H_1')\n",
    "ax.axvline(left, c='grey', linestyle='--', alpha=0.5)\n",
    "ax.axvline(right, c='grey', linestyle='--', alpha=0.5)\n",
    "ax.fill_between(x, 0, scs.norm(mu_1, sigma_1).pdf(x), color='green', alpha=0.25,\n",
    "                where=(x < left), label='power (1-Beta) = {0:.3f}'.format(scs.norm(mu_1, sigma_1).cdf(left)))\n",
    "plt.legend(loc=\"upper left\")\n",
    "plt.title('Distribution of estimator under both hypothesis')\n",
    "plt.show()"
   ]
  },
  {
   "cell_type": "markdown",
   "id": "34b1c09e",
   "metadata": {},
   "source": [
    "We now add the significance level of the test ($\\alpha$) which is the probability to reject a true null hypothesis.\n",
    "\n",
    "$$\\mathbb{P}_{\\theta \\in \\Theta_0}(\\widehat{\\theta} \\ge k)=\\alpha$$\n",
    "\n",
    "Where $Z=\\{\\widehat{\\theta} \\ge k\\}$ is the rejection region."
   ]
  },
  {
   "cell_type": "code",
   "execution_count": 120,
   "id": "f5e8bb2c",
   "metadata": {},
   "outputs": [
    {
     "data": {
      "image/png": "[encoded data removed]",
      "text/plain": [
       "<Figure size 864x432 with 1 Axes>"
      ]
     },
     "metadata": {
      "needs_background": "light"
     },
     "output_type": "display_data"
    }
   ],
   "source": [
    "x = np.linspace(-12 * sigma_1, 12 * sigma_1, 1000)\n",
    "fig, ax = plt.subplots(figsize=(12,6))\n",
    "ax.plot(x_0, y_0, c='blue', label='H_0')\n",
    "ax.plot(x_1, y_1, c='red', label='H_1')\n",
    "ax.axvline(left, c='grey', linestyle='--', alpha=0.5)\n",
    "ax.axvline(right, c='grey', linestyle='--', alpha=0.5)\n",
    "ax.fill_between(x, 0, scs.norm(mu_0, sigma_1).pdf(x), color='green', alpha=0.25,\n",
    "                where=(x < left), label='significance (Alpha) = {0:.3f}'.format(scs.norm(mu_0, sigma_1).cdf(left)))\n",
    "plt.legend(loc=\"upper left\")\n",
    "plt.title('Distribution of estimator under both hypothesis')\n",
    "plt.show()"
   ]
  },
  {
   "cell_type": "code",
   "execution_count": 121,
   "id": "da5e0cda",
   "metadata": {},
   "outputs": [
    {
     "name": "stdout",
     "output_type": "stream",
     "text": [
      "Confidence interval: [-0.037,0.037]\n"
     ]
    }
   ],
   "source": [
    "print('Confidence interval: [{},{}]'.format(round(left,3), round(right,3)))"
   ]
  },
  {
   "cell_type": "markdown",
   "id": "67420ce8",
   "metadata": {},
   "source": [
    "$p_A - p_B = -0.0268$ which is included in the confidence interval so don't reject the null hypothesis and deduce there is not significant effect."
   ]
  },
  {
   "cell_type": "markdown",
   "id": "6fa88a36",
   "metadata": {},
   "source": [
    "To be continued (same tutorial): how to find optimal minimum sample size to achieve a certain test power?"
   ]
  },
  {
   "cell_type": "markdown",
   "id": "f913953d",
   "metadata": {},
   "source": [
    "# A/B testing (short example)"
   ]
  },
  {
   "cell_type": "code",
   "execution_count": 129,
   "id": "de0fa5f2",
   "metadata": {},
   "outputs": [],
   "source": [
    "import numpy as np\n",
    "import pandas as pd\n",
    "import matplotlib.pyplot as plt\n",
    "import scipy.stats as scs"
   ]
  },
  {
   "cell_type": "code",
   "execution_count": 142,
   "id": "6e2f35af",
   "metadata": {},
   "outputs": [],
   "source": [
    "N_A = 10000\n",
    "N_B = 10000\n",
    "# true means\n",
    "p_A = 0.4\n",
    "p_B = 0.42"
   ]
  },
  {
   "cell_type": "code",
   "execution_count": 143,
   "id": "60366107",
   "metadata": {},
   "outputs": [],
   "source": [
    "group_a = np.random.binomial(1,p_A,N_A)\n",
    "group_b = np.random.binomial(1,p_B,N_B)"
   ]
  },
  {
   "cell_type": "code",
   "execution_count": 144,
   "id": "912e6f32",
   "metadata": {},
   "outputs": [
    {
     "name": "stdout",
     "output_type": "stream",
     "text": [
      "0.4081\n",
      "0.4233\n"
     ]
    }
   ],
   "source": [
    "# Estimators\n",
    "p_A_hat = np.sum(group_a)/N_A\n",
    "p_B_hat = np.sum(group_b)/N_B\n",
    "print(p_A_hat)\n",
    "print(p_B_hat)"
   ]
  },
  {
   "cell_type": "code",
   "execution_count": 145,
   "id": "d1b075f5",
   "metadata": {},
   "outputs": [
    {
     "data": {
      "text/html": [
       "<div>\n",
       "<style scoped>\n",
       "    .dataframe tbody tr th:only-of-type {\n",
       "        vertical-align: middle;\n",
       "    }\n",
       "\n",
       "    .dataframe tbody tr th {\n",
       "        vertical-align: top;\n",
       "    }\n",
       "\n",
       "    .dataframe thead th {\n",
       "        text-align: right;\n",
       "    }\n",
       "</style>\n",
       "<table border=\"1\" class=\"dataframe\">\n",
       "  <thead>\n",
       "    <tr style=\"text-align: right;\">\n",
       "      <th></th>\n",
       "      <th>Group</th>\n",
       "      <th>Perf&gt;6%</th>\n",
       "    </tr>\n",
       "    <tr>\n",
       "      <th>Client</th>\n",
       "      <th></th>\n",
       "      <th></th>\n",
       "    </tr>\n",
       "  </thead>\n",
       "  <tbody>\n",
       "    <tr>\n",
       "      <th>13726</th>\n",
       "      <td>B</td>\n",
       "      <td>0</td>\n",
       "    </tr>\n",
       "    <tr>\n",
       "      <th>12420</th>\n",
       "      <td>B</td>\n",
       "      <td>0</td>\n",
       "    </tr>\n",
       "    <tr>\n",
       "      <th>12550</th>\n",
       "      <td>B</td>\n",
       "      <td>1</td>\n",
       "    </tr>\n",
       "    <tr>\n",
       "      <th>5554</th>\n",
       "      <td>A</td>\n",
       "      <td>1</td>\n",
       "    </tr>\n",
       "    <tr>\n",
       "      <th>687</th>\n",
       "      <td>A</td>\n",
       "      <td>1</td>\n",
       "    </tr>\n",
       "    <tr>\n",
       "      <th>11479</th>\n",
       "      <td>B</td>\n",
       "      <td>0</td>\n",
       "    </tr>\n",
       "    <tr>\n",
       "      <th>11999</th>\n",
       "      <td>B</td>\n",
       "      <td>0</td>\n",
       "    </tr>\n",
       "    <tr>\n",
       "      <th>8690</th>\n",
       "      <td>A</td>\n",
       "      <td>0</td>\n",
       "    </tr>\n",
       "    <tr>\n",
       "      <th>11866</th>\n",
       "      <td>B</td>\n",
       "      <td>1</td>\n",
       "    </tr>\n",
       "    <tr>\n",
       "      <th>9949</th>\n",
       "      <td>A</td>\n",
       "      <td>0</td>\n",
       "    </tr>\n",
       "  </tbody>\n",
       "</table>\n",
       "</div>"
      ],
      "text/plain": [
       "       Group  Perf>6%\n",
       "Client               \n",
       "13726      B        0\n",
       "12420      B        0\n",
       "12550      B        1\n",
       "5554       A        1\n",
       "687        A        1\n",
       "11479      B        0\n",
       "11999      B        0\n",
       "8690       A        0\n",
       "11866      B        1\n",
       "9949       A        0"
      ]
     },
     "execution_count": 145,
     "metadata": {},
     "output_type": "execute_result"
    }
   ],
   "source": [
    "# for illustration purposes\n",
    "df_data = pd.DataFrame(data={'Group':['A' if i<N_A else 'B' for i in range(N_A+N_B)],\n",
    "                             'Perf>6%':list(group_a)+list(group_b)})\n",
    "df_data.index.name = 'Client'\n",
    "df_data.sample(n=10)"
   ]
  },
  {
   "cell_type": "markdown",
   "id": "60269190",
   "metadata": {},
   "source": [
    "Thanks to CLT, $\\frac{\\hat p_A - \\mu_{\\hat p_A}}{\\sigma_{\\hat p_A}} \\sim \\mathcal{N}(0,1)$ and $\\frac{\\hat p_B - \\mu_{\\hat p_B}}{\\sigma_{\\hat p_B}} \\sim \\mathcal{N}(0,1)$\n",
    "\n",
    "Thus,\n",
    "\n",
    "$\\hat p_A - \\hat p_B \\sim \\mathcal{N}(\\mathbb{E}[\\hat{p_A}-\\hat{p_B}],\\sqrt{\\mathbb{V}[\\hat{p_A}-\\hat{p_B}]})$\n",
    "\n",
    "And,\n",
    "\n",
    "$\\mathbb{E}[\\hat{p_A}-\\hat{p_B}]=p_A - p_B$\n",
    "\n",
    "$\\mathbb{V}[\\hat{p_A}-\\hat{p_B}]=\\frac{p_A(1-p_A)}{n_A} + \\frac{p_B(1-p_B)}{n_B}$"
   ]
  },
  {
   "cell_type": "code",
   "execution_count": 146,
   "id": "d56d97a3",
   "metadata": {},
   "outputs": [
    {
     "name": "stdout",
     "output_type": "stream",
     "text": [
      "Confidence interval: [-0.014,0.014]\n"
     ]
    },
    {
     "data": {
      "image/png": "[encoded data removed]",
      "text/plain": [
       "<Figure size 1080x360 with 1 Axes>"
      ]
     },
     "metadata": {
      "needs_background": "light"
     },
     "output_type": "display_data"
    }
   ],
   "source": [
    "# parameters\n",
    "mu_0 = 0\n",
    "mu_1 = p_A_hat-p_B_hat\n",
    "sigma = np.sqrt(p_A_hat*(1-p_A_hat)/N_A + p_B_hat*(1-p_B_hat)/N_B)\n",
    "\n",
    "# confidence intervals -- Significance level=5%\n",
    "CI_left = mu_0-1.96*sigma\n",
    "CI_right = mu_0+1.96*sigma\n",
    "print('Confidence interval: [{},{}]'.format(round(CI_left,3), round(CI_right,3)))\n",
    "\n",
    "# plot densities\n",
    "x0 = np.linspace(mu_0-12*sigma,mu_0+12*sigma,100)\n",
    "x1 = np.linspace(mu_1-12*sigma,mu_1+12*sigma,100)\n",
    "fig, ax = plt.subplots(1, 1, figsize=(15,5))\n",
    "ax.plot(x0, scs.norm(mu_0,sigma).pdf(x0), c='blue', label='Estimator under H0')\n",
    "ax.plot(x1, scs.norm(mu_1,sigma).pdf(x1), c='red', label='Estimator under H1')\n",
    "\n",
    "# plot confidence interval\n",
    "ax.axvline(CI_left, c='grey', linestyle='--', alpha=0.5)\n",
    "ax.axvline(CI_right, c='grey', linestyle='--', alpha=0.5)\n",
    "\n",
    "# plot power of the test\n",
    "ax.fill_between(x0, 0, scs.norm(mu_1, sigma).pdf(x0), color='green', alpha=0.25,\n",
    "                where=(x0 < CI_left), label='power (1-Beta) = {0:.3f}'.format(scs.norm(mu_1, sigma).cdf(CI_left)))\n",
    "\n",
    "plt.legend(loc=\"upper left\")\n",
    "plt.title('Distributions of estimator (= difference) under both hypothesis')\n",
    "plt.show()\n",
    "\n",
    "plt.show()"
   ]
  },
  {
   "cell_type": "code",
   "execution_count": 147,
   "id": "373be935",
   "metadata": {
    "scrolled": true
   },
   "outputs": [
    {
     "name": "stdout",
     "output_type": "stream",
     "text": [
      "Estimator group A: 0.408\n",
      "Estimator group B: 0.423\n",
      "Diff=-0.015\n",
      "The difference is out of the confidence interval.\n",
      "Thus, we can reject H_0 stating there is no signficant effect.\n",
      "=> \"SIGNIFICANT EFFECT\"\n"
     ]
    }
   ],
   "source": [
    "print('Estimator group A: {}'.format(round(p_A_hat,3)))\n",
    "print('Estimator group B: {}'.format(round(p_B_hat,3)))\n",
    "diff = p_A_hat-p_B_hat # real value (based on sample)\n",
    "print('Diff={}'.format(round(diff,3)))\n",
    "if diff < CI_left or diff > CI_right:\n",
    "    print('The difference is out of the confidence interval.'\n",
    "          +'\\nThus, we can reject H_0 stating there is no signficant effect.'\n",
    "          +'\\n=> \"SIGNIFICANT EFFECT\"')\n",
    "else:\n",
    "    print('The difference is not out of the confidence interval.'\n",
    "          +'\\nThus, we can NOT reject H_0 stating there is no signficant effect.'\n",
    "          +'\\n=> NO SIGNIFICANT EFFECT')"
   ]
  },
  {
   "cell_type": "markdown",
   "id": "558caa97",
   "metadata": {},
   "source": [
    "**Power of the test**: increasing the number of observations has the effect of reducing the standard deviation of both estimators (H_0 and H_1) and thus add more space between the two densities => increase the power of the test"
   ]
  }
 ],
 "metadata": {
  "kernelspec": {
   "display_name": "Python 3",
   "language": "python",
   "name": "python3"
  },
  "language_info": {
   "codemirror_mode": {
    "name": "ipython",
    "version": 3
   },
   "file_extension": ".py",
   "mimetype": "text/x-python",
   "name": "python",
   "nbconvert_exporter": "python",
   "pygments_lexer": "ipython3",
   "version": "3.8.8"
  }
 },
 "nbformat": 4,
 "nbformat_minor": 5
}
