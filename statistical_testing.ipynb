{
 "cells": [
  {
   "cell_type": "code",
   "execution_count": 1,
   "id": "composed-fitting",
   "metadata": {},
   "outputs": [],
   "source": [
    "import numpy as np\n",
    "import pandas as pd\n",
    "\n",
    "import matplotlib.pyplot as plt\n",
    "\n",
    "from scipy.stats import ttest_ind"
   ]
  },
  {
   "cell_type": "markdown",
   "id": "capital-produce",
   "metadata": {},
   "source": [
    "# Parametric tests"
   ]
  },
  {
   "cell_type": "markdown",
   "id": "backed-receiver",
   "metadata": {},
   "source": [
    "### One sample only"
   ]
  },
  {
   "cell_type": "markdown",
   "id": "transparent-damage",
   "metadata": {},
   "source": [
    "<font color='blue'>\n",
    "\n",
    "We want to find the **mean** of an unknown distribution from which we have a sample.\n",
    "    \n",
    "$\n",
    "\\left\\{\n",
    "    \\begin{array}{ll}\n",
    "        \\mathcal{H}_0: m=a \\\\\n",
    "        \\mathcal{H}_1: m>a \\\\\n",
    "    \\end{array}\n",
    "\\right.\n",
    "$\n",
    "\n",
    "Requirements/assumptions:\n",
    "    \n",
    "- we need to know the standard deviation of the population\n",
    "    \n",
    "Note: there is no assumption on the unknown distribution law (if the random variable is not Gaussian, we can use the CLT to have the normality).\n",
    "\n",
    "</font>"
   ]
  },
  {
   "cell_type": "markdown",
   "id": "statutory-cinema",
   "metadata": {},
   "source": [
    "*Example* (based on Saporta p.325)"
   ]
  },
  {
   "cell_type": "markdown",
   "id": "light-transsexual",
   "metadata": {},
   "source": [
    "Context: farmers suffer from the weather. A company proposes a new method to increase the chance of raining. We want to assess the efficiency of the method."
   ]
  },
  {
   "cell_type": "code",
   "execution_count": 2,
   "id": "neither-turtle",
   "metadata": {},
   "outputs": [
    {
     "data": {
      "text/html": [
       "<div>\n",
       "<style scoped>\n",
       "    .dataframe tbody tr th:only-of-type {\n",
       "        vertical-align: middle;\n",
       "    }\n",
       "\n",
       "    .dataframe tbody tr th {\n",
       "        vertical-align: top;\n",
       "    }\n",
       "\n",
       "    .dataframe thead th {\n",
       "        text-align: right;\n",
       "    }\n",
       "</style>\n",
       "<table border=\"1\" class=\"dataframe\">\n",
       "  <thead>\n",
       "    <tr style=\"text-align: right;\">\n",
       "      <th></th>\n",
       "      <th>years</th>\n",
       "      <th>mm</th>\n",
       "    </tr>\n",
       "  </thead>\n",
       "  <tbody>\n",
       "    <tr>\n",
       "      <th>0</th>\n",
       "      <td>1951</td>\n",
       "      <td>510</td>\n",
       "    </tr>\n",
       "    <tr>\n",
       "      <th>1</th>\n",
       "      <td>1952</td>\n",
       "      <td>614</td>\n",
       "    </tr>\n",
       "    <tr>\n",
       "      <th>2</th>\n",
       "      <td>1953</td>\n",
       "      <td>780</td>\n",
       "    </tr>\n",
       "    <tr>\n",
       "      <th>3</th>\n",
       "      <td>1954</td>\n",
       "      <td>512</td>\n",
       "    </tr>\n",
       "    <tr>\n",
       "      <th>4</th>\n",
       "      <td>1955</td>\n",
       "      <td>501</td>\n",
       "    </tr>\n",
       "    <tr>\n",
       "      <th>5</th>\n",
       "      <td>1956</td>\n",
       "      <td>535</td>\n",
       "    </tr>\n",
       "    <tr>\n",
       "      <th>6</th>\n",
       "      <td>1957</td>\n",
       "      <td>603</td>\n",
       "    </tr>\n",
       "    <tr>\n",
       "      <th>7</th>\n",
       "      <td>1958</td>\n",
       "      <td>788</td>\n",
       "    </tr>\n",
       "    <tr>\n",
       "      <th>8</th>\n",
       "      <td>1959</td>\n",
       "      <td>650</td>\n",
       "    </tr>\n",
       "  </tbody>\n",
       "</table>\n",
       "</div>"
      ],
      "text/plain": [
       "   years   mm\n",
       "0   1951  510\n",
       "1   1952  614\n",
       "2   1953  780\n",
       "3   1954  512\n",
       "4   1955  501\n",
       "5   1956  535\n",
       "6   1957  603\n",
       "7   1958  788\n",
       "8   1959  650"
      ]
     },
     "execution_count": 2,
     "metadata": {},
     "output_type": "execute_result"
    }
   ],
   "source": [
    "years = np.array([1951, 1952, 1953, 1954, 1955, 1956, 1957, 1958, 1959])\n",
    "mm = np.array([510, 614, 780, 512, 501, 535, 603, 788, 650]) # millimeters of rain\n",
    "df_report = pd.DataFrame(data=np.stack([years, mm], axis=1), columns=['years','mm'])\n",
    "df_report"
   ]
  },
  {
   "cell_type": "markdown",
   "id": "funded-palestinian",
   "metadata": {},
   "source": [
    "We'll say that the method really improves the raining frequency if on average it increases by at least 50 mm. Hence, the test is:\n",
    "\n",
    "$\\mathcal{H}_0: m=600~mm$ => if we keep $\\mathcal{H}_0$, it means the method didn't improve the raining level (since the current mean is already 600).\n",
    "\n",
    "Assumption: the natural raining level follows a Gaussian law $X \\sim \\mathcal{N}(600,100)$"
   ]
  },
  {
   "cell_type": "markdown",
   "id": "nearby-public",
   "metadata": {},
   "source": [
    "We thus perform a zscore test.\n",
    "\n",
    "1) Find the test: see above\n",
    "\n",
    "2) Find the estimator: we use the empiric mean: $\\hat \\beta = \\frac{1}{n}\\sum_{i=1}^{n}X_i$\n",
    "\n",
    "3) Write the rejection region: $Z = \\{\\hat \\beta \\ge k\\}$\n",
    "\n",
    "In order to accept $\\mathcal{H}_0$ we need $\\mathbb{P}_{\\mathcal{H}_0}(\\hat \\beta \\geq k) = \\alpha$ or $\\mathbb{P}_{\\mathcal{H}_0}(\\hat \\beta < k) = 1-\\alpha$\n",
    "\n",
    "4) Compute the test statistic\n",
    "\n",
    "$T = \\frac{\\hat \\beta - \\mu_\\beta}{\\sigma_\\beta} \\sim \\mathcal{N}(0,1)$\n",
    "\n",
    "Note: we don't need $\\sqrt{n}$ since the distribution of $X$ is already Gaussian.\n",
    "\n",
    "5) Retrieve quantiles of known distributions\n",
    "\n",
    "We know that $\\sigma_\\beta = 100$ and that, under $\\mathcal{H}_0$, $\\mu_\\beta = 600$.\n",
    "\n",
    "Hence $\\mathbb{P}_{\\mathcal{H}_0}(\\hat \\beta < k) = \\mathbb{P}_{\\mathcal{H}_0}(T < \\frac{k-600}{100/3})$\n",
    "\n",
    "We thus deduce the value of $k$: $\\frac{k-600}{100/3}=q_{1-\\alpha}$\n",
    "\n",
    "=> $k = q_{1-\\alpha} \\frac{100}{3}+600$\n",
    "\n",
    "Thanks to the quantile table: $k = 1.64 \\frac{100}{3}+600 = 655$\n",
    "\n",
    "Finally the reject region is $Z = \\{\\hat \\beta \\ge 655\\}$"
   ]
  },
  {
   "cell_type": "markdown",
   "id": "fitting-stanley",
   "metadata": {},
   "source": [
    "We now find the numerical value of $\\hat \\beta$:"
   ]
  },
  {
   "cell_type": "code",
   "execution_count": 3,
   "id": "interracial-observer",
   "metadata": {},
   "outputs": [
    {
     "data": {
      "text/plain": [
       "610.3333333333334"
      ]
     },
     "execution_count": 3,
     "metadata": {},
     "output_type": "execute_result"
    }
   ],
   "source": [
    "np.mean(df_report['mm'])"
   ]
  },
  {
   "cell_type": "markdown",
   "id": "entire-entrepreneur",
   "metadata": {},
   "source": [
    "Since $610<655$ we don't reject $\\mathcal{H}_0$ and conclude that the method doesn't significatively improves the raining level."
   ]
  },
  {
   "cell_type": "markdown",
   "id": "instructional-rogers",
   "metadata": {},
   "source": [
    "<font color='red'>In this example we looked for the distribution from which the sample is extracted. Here we only knew the type of the distribution (Gaussian) and its standard deviation. The power of the test is that it takes into account the fact that we only have a **sample** from an unknown distribution. It thus considers the randomization process into the final decision.</font>"
   ]
  },
  {
   "cell_type": "markdown",
   "id": "protecting-portable",
   "metadata": {},
   "source": [
    "### Comparison of samples"
   ]
  },
  {
   "cell_type": "markdown",
   "id": "universal-hotel",
   "metadata": {},
   "source": [
    "Context: there are two universities. We want to know if students have the same size on average across the two universities.\n",
    "\n",
    "Method: we don't have the sizes of all students so we only work with two samples. We will infer some conclusions for the total population."
   ]
  },
  {
   "cell_type": "markdown",
   "id": "retained-council",
   "metadata": {},
   "source": [
    "*Total population*"
   ]
  },
  {
   "cell_type": "code",
   "execution_count": 9,
   "id": "illegal-faculty",
   "metadata": {},
   "outputs": [
    {
     "data": {
      "image/png": "[encoded data removed]",
      "text/plain": [
       "<Figure size 432x288 with 1 Axes>"
      ]
     },
     "metadata": {
      "needs_background": "light"
     },
     "output_type": "display_data"
    }
   ],
   "source": [
    "n = 1000\n",
    "\n",
    "mu_1 = 170\n",
    "sigma_1 = 3\n",
    "\n",
    "mu_2 = 170\n",
    "sigma_2 = 3\n",
    "\n",
    "np.random.seed(1)\n",
    "\n",
    "df_university = pd.DataFrame()\n",
    "\n",
    "df_university['university_1'] = np.random.normal(mu_1, sigma_1, n)\n",
    "df_university['university_2'] = np.random.normal(mu_2, sigma_2, n)\n",
    "\n",
    "plt.hist(df_university['university_1'], alpha=0.5, color='lightblue')\n",
    "plt.hist(df_university['university_2'], alpha=0.5, color='orange')\n",
    "plt.axvline(mu_1, color='lightblue')\n",
    "plt.axvline(mu_2, color='orange')\n",
    "plt.show()"
   ]
  },
  {
   "cell_type": "markdown",
   "id": "elect-separation",
   "metadata": {},
   "source": [
    "*Samples*"
   ]
  },
  {
   "cell_type": "code",
   "execution_count": 27,
   "id": "stupid-command",
   "metadata": {},
   "outputs": [
    {
     "name": "stdout",
     "output_type": "stream",
     "text": [
      "2.924939484598949\n",
      "167.86167468156108\n",
      "2.654459697523018\n",
      "171.41697847752997\n"
     ]
    },
    {
     "data": {
      "image/png": "[encoded data removed]",
      "text/plain": [
       "<Figure size 432x288 with 1 Axes>"
      ]
     },
     "metadata": {
      "needs_background": "light"
     },
     "output_type": "display_data"
    }
   ],
   "source": [
    "sample_1 = df_university['university_1'].sample(n=10)\n",
    "print(np.std(sample_1))\n",
    "print(np.mean(sample_1))\n",
    "sample_2 = df_university['university_2'].sample(n=10)\n",
    "print(np.std(sample_2))\n",
    "print(np.mean(sample_2))\n",
    "\n",
    "plt.hist(sample_1, alpha=0.5, color='lightblue')\n",
    "plt.hist(sample_2, alpha=0.5, color='orange')\n",
    "plt.axvline(np.mean(sample_1), color='lightblue')\n",
    "plt.axvline(np.mean(sample_2), color='orange')\n",
    "plt.show()"
   ]
  },
  {
   "cell_type": "markdown",
   "id": "changed-gibson",
   "metadata": {},
   "source": [
    "We note that depending on the sampling, the mean and standard deviation from the two samples are different, although the ones from the total population are similar."
   ]
  },
  {
   "cell_type": "markdown",
   "id": "south-alaska",
   "metadata": {},
   "source": [
    "*T-test*"
   ]
  },
  {
   "cell_type": "markdown",
   "id": "satellite-flooring",
   "metadata": {},
   "source": [
    "t-test assumes sample variances are equal\n",
    "\n",
    "$\\mathcal{H}_0: m_1=m_2$"
   ]
  },
  {
   "cell_type": "code",
   "execution_count": 6,
   "id": "enclosed-holly",
   "metadata": {},
   "outputs": [
    {
     "data": {
      "text/plain": [
       "Ttest_indResult(statistic=-2.6165225507365517, pvalue=0.01748092770802271)"
      ]
     },
     "execution_count": 6,
     "metadata": {},
     "output_type": "execute_result"
    }
   ],
   "source": [
    "ttest_ind(sample_1, sample_2)"
   ]
  },
  {
   "cell_type": "markdown",
   "id": "gentle-klein",
   "metadata": {},
   "source": [
    "pvalue < 5% => we reject $\\mathcal{H}_0$ without taking too much risk => the two samples have significantly different means; since the test takes into account the randomization of the sampling, we deduce **the two universities have significantly different means**.\n",
    "\n",
    "pvalue > 5% => we don't reject $\\mathcal{H}_0$ without taking too much risk => the two samples don't have significantly different means; since the test takes into account the randomization of the sampling, we deduce **the two universities have the same means**."
   ]
  }
 ],
 "metadata": {
  "kernelspec": {
   "display_name": "Python 3",
   "language": "python",
   "name": "python3"
  },
  "language_info": {
   "codemirror_mode": {
    "name": "ipython",
    "version": 3
   },
   "file_extension": ".py",
   "mimetype": "text/x-python",
   "name": "python",
   "nbconvert_exporter": "python",
   "pygments_lexer": "ipython3",
   "version": "3.7.3"
  }
 },
 "nbformat": 4,
 "nbformat_minor": 5
}
