{
 "cells": [
  {
   "cell_type": "code",
   "execution_count": 165,
   "id": "8f76ff31-4b49-44e8-94b3-ef01a0f4a67f",
   "metadata": {},
   "outputs": [],
   "source": [
    "import pandas as pd\n",
    "import numpy as np"
   ]
  },
  {
   "cell_type": "code",
   "execution_count": 166,
   "id": "d6b624c4-8a2f-45ff-97bb-ab4a9c83204d",
   "metadata": {},
   "outputs": [],
   "source": [
    "mat_corr = np.array([\n",
    "    [1,      0.9,    0.05],\n",
    "    [0.9,      1,    0.05],\n",
    "    [0.05,  0.05,       1]\n",
    "])"
   ]
  },
  {
   "cell_type": "code",
   "execution_count": 167,
   "id": "34624695-f0d2-4a89-a524-03537103480f",
   "metadata": {},
   "outputs": [],
   "source": [
    "mat_vol = np.diag([.1, .1, .15])"
   ]
  },
  {
   "cell_type": "markdown",
   "id": "48969881-6159-46b1-b334-8043a587657c",
   "metadata": {},
   "source": [
    "$$Cov = SCS$$"
   ]
  },
  {
   "cell_type": "code",
   "execution_count": 168,
   "id": "6f46684c-34c7-4de9-9002-f72863ac550a",
   "metadata": {},
   "outputs": [],
   "source": [
    "mat_cov = mat_vol @ mat_corr @ mat_vol"
   ]
  },
  {
   "cell_type": "code",
   "execution_count": 169,
   "id": "7571bdd4-964e-4937-afe8-610314aed9cb",
   "metadata": {},
   "outputs": [],
   "source": [
    "weights = np.array([.33, .33, .33])"
   ]
  },
  {
   "cell_type": "markdown",
   "id": "3e74501f-43d2-4686-926b-7b451a83d008",
   "metadata": {},
   "source": [
    "$$\\sigma_p^2 = \\omega^T \\Sigma \\omega$$"
   ]
  },
  {
   "cell_type": "code",
   "execution_count": 170,
   "id": "68ce0059-aac0-4011-a165-7fa5a2e03164",
   "metadata": {},
   "outputs": [
    {
     "data": {
      "text/plain": [
       "0.08315738091113742"
      ]
     },
     "execution_count": 170,
     "metadata": {},
     "output_type": "execute_result"
    }
   ],
   "source": [
    "variance_p = weights.T @ mat_cov @ weights\n",
    "volatility_p = np.sqrt(variance_p)\n",
    "volatility_p"
   ]
  },
  {
   "cell_type": "markdown",
   "id": "731d903e-2dad-4c0d-8b51-e68fe1da9a94",
   "metadata": {},
   "source": [
    "$$rc = \\omega \\odot \\frac{\\partial \\sigma_p}{\\partial \\omega} = \\omega \\odot \\frac{\\omega^T \\Sigma}{\\sigma_p}$$\n",
    "\n",
    "$\\frac{\\partial \\sigma_p}{\\partial \\omega}$ = marginal contribution = by how much the portoflio variance $\\sigma_p$ changes if we add a small amount of asset $\\omega$. Especially useful because it considers the volatility, the correlations and the weights. \n",
    "\n",
    "$$\\Delta \\sigma_p = \\frac{\\partial \\sigma_p}{\\partial \\omega} \\Delta \\omega$$"
   ]
  },
  {
   "cell_type": "code",
   "execution_count": 171,
   "id": "3999839f-09e6-41d5-afbb-ab7ac66712fa",
   "metadata": {},
   "outputs": [
    {
     "data": {
      "text/plain": [
       "array([0.07837548, 0.07837548, 0.09524109])"
      ]
     },
     "execution_count": 171,
     "metadata": {},
     "output_type": "execute_result"
    }
   ],
   "source": [
    "marginal_contrib = (1/volatility_p) * (weights.T @ mat_cov)\n",
    "marginal_contrib"
   ]
  },
  {
   "cell_type": "code",
   "execution_count": 172,
   "id": "0f86fa63-2493-4884-9755-72a492ce0ae5",
   "metadata": {},
   "outputs": [
    {
     "data": {
      "text/plain": [
       "0.03918774213779442"
      ]
     },
     "execution_count": 172,
     "metadata": {},
     "output_type": "execute_result"
    }
   ],
   "source": [
    "marginal_contrib[0]*0.5"
   ]
  },
  {
   "cell_type": "markdown",
   "id": "df4743c0-a1d1-48be-b3e2-66ba8f9ea745",
   "metadata": {},
   "source": [
    "The marginal contribution is high when:\n",
    "- the individual asset's volatility is high\n",
    "- the correlation to assets with high volatility is high => intuition: if an asset is strongly correlated with other assets with high volatility, a small move of the asset can sharply increase the portfolio volatility"
   ]
  },
  {
   "cell_type": "code",
   "execution_count": 173,
   "id": "62bc66a9-0c92-49bc-86b4-de1afc6183b8",
   "metadata": {},
   "outputs": [
    {
     "data": {
      "text/plain": [
       "array([0.02586391, 0.02586391, 0.03142956])"
      ]
     },
     "execution_count": 173,
     "metadata": {},
     "output_type": "execute_result"
    }
   ],
   "source": [
    "marginal_contrib_weighted = np.multiply(weights, marginal_contrib)\n",
    "marginal_contrib_weighted"
   ]
  },
  {
   "cell_type": "code",
   "execution_count": 174,
   "id": "135b2e63-46e5-49c7-a0d0-e1710026bedd",
   "metadata": {},
   "outputs": [
    {
     "data": {
      "text/plain": [
       "0.08315738091113742"
      ]
     },
     "execution_count": 174,
     "metadata": {},
     "output_type": "execute_result"
    }
   ],
   "source": [
    "marginal_contrib_weighted.sum()"
   ]
  },
  {
   "cell_type": "markdown",
   "id": "d9f35812-d932-4081-ab63-9a174f85af2e",
   "metadata": {},
   "source": [
    "Interesting examples:\n",
    "- same weights & volatilities for all, but one asset is strongly correlated to others.\n",
    "- higher volatility but much lower correlations => still the stronger volatility is driving the contribution"
   ]
  }
 ],
 "metadata": {
  "kernelspec": {
   "display_name": "Python 3 (ipykernel)",
   "language": "python",
   "name": "python3"
  },
  "language_info": {
   "codemirror_mode": {
    "name": "ipython",
    "version": 3
   },
   "file_extension": ".py",
   "mimetype": "text/x-python",
   "name": "python",
   "nbconvert_exporter": "python",
   "pygments_lexer": "ipython3",
   "version": "3.12.2"
  }
 },
 "nbformat": 4,
 "nbformat_minor": 5
}
