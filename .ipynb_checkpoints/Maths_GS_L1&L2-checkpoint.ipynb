{
 "cells": [
  {
   "cell_type": "markdown",
   "metadata": {},
   "source": [
    "ALGEBRE \n",
    "\n",
    "1/ Analyse des données et algèbre linéaire \n",
    "\n",
    "Définition espace vectoriel \n",
    "\n",
    "Définition dimension \n",
    "\n",
    "Définition rang \n",
    "\n",
    "Définition famille libre \n",
    "\n",
    "Définition base \n",
    "\n",
    "Définition fonction linéaire \n",
    "\n",
    "Définition image (+ rang) \n",
    "\n",
    "Définition fonction surjective \n",
    "\n",
    "Définition fonction injective \n",
    "\n",
    "Définition fonction bijective \n",
    "\n",
    "Définition noyau \n",
    "\n",
    "Théorème du rang \n",
    "\n",
    "2/ Matrices et applications linéaires \n",
    "\n",
    "Définition matrice d’une application linéaire dans les bases U et V \n",
    "\n",
    "Expression de y[i] \n",
    "\n",
    "Définition base canonique \n",
    "\n",
    "Matrice associée à gof \n",
    "\n",
    "<u>f inversible (endomorphisme en base canonique)</u><br>\n",
    "Soit $e$ un élément neutre, on dit que $a$ est inversible à gauche s'il admet un élément $a'$ tel que $a'*a=e$. On dit que $a$ est inversible à droite s'il admet un élément $a'$ tel que $a*a'=e$. $a$ est inversible s'il est inversible à gauche et à droite.<br>\n",
    "Dans le cas des matrices, on dit que $M$ est inversible s'il existe une matrice $M^{-1}$ tel que $MM^{-1}=M^{-1}M=I$<br>\n",
    "$M \\in M_n(K)$, $M$ inversible $<=>$ $M$ est de plein rang $<=>$ déterminant non nul $<=>$ $Ker(M)=\\{0\\}$<br>\n",
    "Algorithmes de Gauss: toute matrice inversible peut être transofmrée en la matrie identité avec des opérations élémentaires sur les lignes ou les colonnes.\n",
    "\n",
    "Implication P et M inversible \n",
    "\n",
    "P matrice de passage \n",
    "\n",
    "Démo X = PX’ \n",
    "\n",
    "Démo M’ = Q-1MP "
   ]
  }
 ],
 "metadata": {
  "kernelspec": {
   "display_name": "Python 3",
   "language": "python",
   "name": "python3"
  },
  "language_info": {
   "codemirror_mode": {
    "name": "ipython",
    "version": 3
   },
   "file_extension": ".py",
   "mimetype": "text/x-python",
   "name": "python",
   "nbconvert_exporter": "python",
   "pygments_lexer": "ipython3",
   "version": "3.7.3"
  }
 },
 "nbformat": 4,
 "nbformat_minor": 2
}
