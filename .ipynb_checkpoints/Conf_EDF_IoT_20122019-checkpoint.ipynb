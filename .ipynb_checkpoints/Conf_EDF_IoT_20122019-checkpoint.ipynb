{
 "cells": [
  {
   "cell_type": "markdown",
   "metadata": {},
   "source": [
    "Chercheur senior à EDF et travaille à SystemX\n",
    "\n",
    "SystemX: centre de recherche finanncé par des entreprises"
   ]
  },
  {
   "cell_type": "markdown",
   "metadata": {},
   "source": [
    "### Motivations"
   ]
  },
  {
   "cell_type": "markdown",
   "metadata": {},
   "source": [
    "Pour prévoir les consommations d’électricité, il faut connaître la météo\n",
    "\n",
    "Données brutes de capteurs\n",
    "\n",
    "Données statiques (équipement/composant/capteur: modèle, année, spécifications,…)\n",
    "\n",
    "Données dynamiques: données continues, discrètes=qualitatives, de fonctionnement/maintenant/intervention\n",
    "\n",
    "Données dynamiques continues: température, pression, bruit\n",
    "\n",
    "Tendance du moment: maintenance prévisionnelle (prédictive?) = détection des pannes avant qu’elles arrivent"
   ]
  },
  {
   "cell_type": "markdown",
   "metadata": {},
   "source": [
    "### Préparation des données"
   ]
  },
  {
   "cell_type": "markdown",
   "metadata": {},
   "source": [
    "La plupart des méthodes d’analyse imposent une mise à des pas de temps réguliers\n",
    "\n",
    "\n",
    "Ex: interpolation linéaire, bases de splines"
   ]
  },
  {
   "cell_type": "markdown",
   "metadata": {},
   "source": [
    "$$x(t)=\\Sigma_{k=1}^{K}c_k\\phi_k(t)$$"
   ]
  },
  {
   "cell_type": "markdown",
   "metadata": {},
   "source": [
    "Puis choix de la base $\\phi_k$ (splines, Fourier, polynomes,...)"
   ]
  },
  {
   "cell_type": "markdown",
   "metadata": {},
   "source": [
    "### Similarités entre séries temporelles"
   ]
  },
  {
   "cell_type": "markdown",
   "metadata": {},
   "source": [
    "Exemple: (classification) k plus proches voisins. On trouve les 10 séries les plus proches, on regarde s'il y a eu une panne sur ces séries."
   ]
  },
  {
   "cell_type": "markdown",
   "metadata": {},
   "source": [
    "Exemple: (query by query) google correlate. Pour trouver des séries similaires, peu importe le secteur."
   ]
  },
  {
   "cell_type": "markdown",
   "metadata": {},
   "source": [
    "Exemple: (Dynamic Time Warping) on trouve les similarités, même si les temps sont décalés. Attention, les décalages temporels ne doivent pas se croiser."
   ]
  },
  {
   "cell_type": "markdown",
   "metadata": {},
   "source": [
    "### Analyse de séries temporelles"
   ]
  },
  {
   "cell_type": "markdown",
   "metadata": {},
   "source": [
    "##### Analyse exploratoire"
   ]
  },
  {
   "cell_type": "markdown",
   "metadata": {},
   "source": [
    "Si toutes les séries ont la même longueur --> \"whole matching\" pour trouver les séries similaires dans la base de données\n",
    "\n",
    "Si les séries n'ont pas la même longueur --> faire glisser la série \"jumping/sliding window\" (on compare des morceaux de séries). Très glouton.\n",
    "\n"
   ]
  },
  {
   "cell_type": "markdown",
   "metadata": {},
   "source": [
    "DFT: transformée de Fourier discrète: lissage en prenant un certains nombre de composantes de la série.\n",
    "\n",
    "SVD: faire une ACP et garder les composantes principales de la décomposition singulière\n",
    "\n",
    "PAA: tracer des segments et prendre les valeurs moyennes"
   ]
  },
  {
   "cell_type": "markdown",
   "metadata": {},
   "source": [
    "EDF: très important de maintenir production=demande à chaque instant"
   ]
  },
  {
   "cell_type": "markdown",
   "metadata": {},
   "source": [
    "##### Visualisation"
   ]
  },
  {
   "cell_type": "markdown",
   "metadata": {},
   "source": [
    "\"Soyez inventifs\""
   ]
  },
  {
   "cell_type": "markdown",
   "metadata": {},
   "source": [
    "Cartes de Kohonen -> prend en considération les ressemblances entre les classes"
   ]
  },
  {
   "cell_type": "markdown",
   "metadata": {},
   "source": [
    "Le clustering peut servir à grouper des classes de bon fonctionnement"
   ]
  },
  {
   "cell_type": "markdown",
   "metadata": {},
   "source": [
    "##### Méthodes de prévision"
   ]
  },
  {
   "cell_type": "markdown",
   "metadata": {},
   "source": [
    "Lissage exponentiel, Holt, Winters\n",
    "\n",
    "Modèles autorégressifs AR, MA, ARMA, ARIMA\n",
    "\n",
    "Ajouts de variables explicatives ARIMAX, GAM (estimation faite avec des fonctions splines)\n",
    "\n",
    "Evaluation de la qualité du modèle: ME, MPE, MAE, RMSE, MAPE"
   ]
  },
  {
   "cell_type": "markdown",
   "metadata": {},
   "source": [
    "Il faut prendre en compte l'intervalle de temps entre l'alarme et le moment de la panne"
   ]
  }
 ],
 "metadata": {
  "kernelspec": {
   "display_name": "Python 3",
   "language": "python",
   "name": "python3"
  },
  "language_info": {
   "codemirror_mode": {
    "name": "ipython",
    "version": 3
   },
   "file_extension": ".py",
   "mimetype": "text/x-python",
   "name": "python",
   "nbconvert_exporter": "python",
   "pygments_lexer": "ipython3",
   "version": "3.7.3"
  }
 },
 "nbformat": 4,
 "nbformat_minor": 2
}
