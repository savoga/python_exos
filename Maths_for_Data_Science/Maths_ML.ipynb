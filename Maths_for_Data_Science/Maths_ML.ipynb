{
 "cells": [
  {
   "cell_type": "markdown",
   "metadata": {},
   "source": [
    "06/11"
   ]
  },
  {
   "cell_type": "markdown",
   "metadata": {},
   "source": [
    "# Le perceptron monocouche"
   ]
  },
  {
   "cell_type": "markdown",
   "metadata": {},
   "source": [
    "On veut classer un input $X$ (plusieurs vecteurs de réels) de façon binaire; <br>\n",
    "=> on cherche à approcher $f: \\mathcal{X} \\to \\mathcal{Y}$ où $X \\in \\mathcal{X} \\subset \\mathbb{R}^p$ et $\\mathcal{Y}=\\{-1,1\\}$"
   ]
  },
  {
   "cell_type": "markdown",
   "metadata": {},
   "source": [
    "Dans le perceptron monocouche, la classification se fait de manière <i>linéaire</i>; on cherche un <i>hyperplan</i> qui sépare au mieux les observations."
   ]
  },
  {
   "cell_type": "markdown",
   "metadata": {},
   "source": [
    "$$\\mathcal{H}=\\{ x_i \\in \\mathbb{R}^d, \\hat{f}_\\omega(x):=\\omega_0+\\Sigma_{i=1}^p \\omega_ix_i=0 \\}$$"
   ]
  },
  {
   "cell_type": "markdown",
   "metadata": {},
   "source": [
    "Les $\\omega$ doivent être tel que la fonction de perte $l$ (risque) est minimisée:<br>\n",
    "$\\mathbb{E}[\\mathcal{\\ell}(\\hat{f}_\\omega(x),y)]$ est le risque <i>théorique</i><br>\n",
    "En machine learning on respecte la théorie ERM (Empiric Risk Minimisation) et donc se concentre sur le risque empirique:<br>\n",
    "$\\widehat{L}_n(f_\\omega(x))=\\frac{1}{n}\\Sigma \\mathbb{1} \\{ -Y_i (\\omega_0+\\Sigma_{i=1}^p \\omega_ix_i) >0 \\}$ --> Les résultats pris en compte sont lorsque le signe de $Y_i$ est différent du signe de $\\omega_0+\\Sigma_{i=1}^p \\omega_ix_i$"
   ]
  },
  {
   "cell_type": "markdown",
   "metadata": {},
   "source": [
    "Problème: la fonction de perte $\\widehat{L}_n$ n'est pas continue (car présence d'une indicatrice), donc on ne peut pas appliquer la descente de gradient.<br>\n",
    "=> Rosenblatt utilise une fonction de perte lisse"
   ]
  },
  {
   "cell_type": "markdown",
   "metadata": {},
   "source": [
    "TODO: Descente de gradient stochastique"
   ]
  }
 ],
 "metadata": {
  "kernelspec": {
   "display_name": "Python 3",
   "language": "python",
   "name": "python3"
  },
  "language_info": {
   "codemirror_mode": {
    "name": "ipython",
    "version": 3
   },
   "file_extension": ".py",
   "mimetype": "text/x-python",
   "name": "python",
   "nbconvert_exporter": "python",
   "pygments_lexer": "ipython3",
   "version": "3.7.3"
  }
 },
 "nbformat": 4,
 "nbformat_minor": 2
}
