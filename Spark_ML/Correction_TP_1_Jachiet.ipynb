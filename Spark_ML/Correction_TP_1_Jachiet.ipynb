{
 "cells": [
  {
   "cell_type": "markdown",
   "metadata": {},
   "source": [
    "# Spark Lab Session\n",
    "\n",
    "## Initialize the environment"
   ]
  },
  {
   "cell_type": "code",
   "execution_count": 5,
   "metadata": {},
   "outputs": [],
   "source": [
    "import findspark\n",
    "findspark.init()\n",
    "\n",
    "import pyspark\n",
    "import random\n",
    "\n",
    "sc = pyspark.SparkContext(appName=\"Pi\")"
   ]
  },
  {
   "cell_type": "markdown",
   "metadata": {},
   "source": [
    "## Compute the list L of integers, with L = { 0 ... 499 }"
   ]
  },
  {
   "cell_type": "code",
   "execution_count": 6,
   "metadata": {},
   "outputs": [
    {
     "data": {
      "text/plain": [
       "[0, 1, 2, 3, 4, 5, 6, 7, 8, 9, 10, 11, 12, 13, 14, 15, 16, 17, 18, 19]"
      ]
     },
     "execution_count": 6,
     "metadata": {},
     "output_type": "execute_result"
    }
   ],
   "source": [
    "ints = sc.parallelize(range(3000))\n",
    "ints.take(20)"
   ]
  },
  {
   "cell_type": "markdown",
   "metadata": {},
   "source": [
    "## Compute the list C = { x^3 | x ∈ L } and then sum of elements in C"
   ]
  },
  {
   "cell_type": "code",
   "execution_count": 7,
   "metadata": {},
   "outputs": [],
   "source": [
    "cubes = ints.map(lambda x: x*x*x)"
   ]
  },
  {
   "cell_type": "code",
   "execution_count": 8,
   "metadata": {},
   "outputs": [
    {
     "data": {
      "text/plain": [
       "20236502250000"
      ]
     },
     "execution_count": 8,
     "metadata": {},
     "output_type": "execute_result"
    }
   ],
   "source": [
    "cubes.reduce(lambda x, y: x+y)\n",
    "cubes.sum()"
   ]
  },
  {
   "cell_type": "markdown",
   "metadata": {},
   "source": [
    "## What is the repartition for the last digits of integers in C? i.e. how many end with a 0? with a 1? etc."
   ]
  },
  {
   "cell_type": "code",
   "execution_count": 9,
   "metadata": {},
   "outputs": [],
   "source": [
    "# Première étape : calculer la liste contenant\n",
    "# les derniers chiffres\n",
    "lastDigits = cubes.map(lambda x: x%10)\n",
    "\n",
    "# Deuxième étape : compter combien de fois chaque\n",
    "# items apparait \n",
    "countLastDigits = lastDigits.map(lambda x:(x,1)) \\\n",
    "                            .reduceByKey(lambda x,y: x+y)"
   ]
  },
  {
   "cell_type": "code",
   "execution_count": 10,
   "metadata": {},
   "outputs": [
    {
     "data": {
      "text/plain": [
       "[(0, 300),\n",
       " (8, 300),\n",
       " (1, 300),\n",
       " (9, 300),\n",
       " (2, 300),\n",
       " (3, 300),\n",
       " (4, 300),\n",
       " (5, 300),\n",
       " (6, 300),\n",
       " (7, 300)]"
      ]
     },
     "execution_count": 10,
     "metadata": {},
     "output_type": "execute_result"
    }
   ],
   "source": [
    "cubes.map(lambda x:(x % 10,1)).reduceByKey(lambda x, y: x+y).collect()"
   ]
  },
  {
   "cell_type": "code",
   "execution_count": 14,
   "metadata": {
    "collapsed": true,
    "jupyter": {
     "outputs_hidden": true,
     "source_hidden": true
    }
   },
   "outputs": [
    {
     "data": {
      "text/plain": [
       "[300, 300, 300, 300, 300, 300, 300, 300, 300, 300]"
      ]
     },
     "execution_count": 14,
     "metadata": {},
     "output_type": "execute_result"
    }
   ],
   "source": [
    "#other method\n",
    "\n",
    "def myFold(acc, element):\n",
    "    new_acc = acc.copy()\n",
    "    new_acc[element]+=1\n",
    "    return new_acc\n",
    "\n",
    "def myReduce(acc1, acc2):\n",
    "    new_acc = []\n",
    "    for i in range(10):\n",
    "        new_acc.append(acc1[i]+acc2[i])\n",
    "    return new_acc\n",
    "        \n",
    "val_init = [0]*10\n",
    "\n",
    "\n",
    "myReduce(myFold(val_init,1),myFold(val_init,2))\n",
    "\n",
    "myFold(myFold(val_init,1),2)\n",
    "lastDigits = cubes.map(lambda x:x%10)\n",
    "\n",
    "lastDigits.aggregate(val_init,myFold,myReduce)"
   ]
  },
  {
   "cell_type": "markdown",
   "metadata": {},
   "source": [
    "## What is the repartition of digits for the integers in C?"
   ]
  },
  {
   "cell_type": "code",
   "execution_count": 12,
   "metadata": {},
   "outputs": [
    {
     "data": {
      "text/plain": [
       "[('4', 2762),\n",
       " ('7', 2787),\n",
       " ('0', 3127),\n",
       " ('1', 3667),\n",
       " ('8', 2639),\n",
       " ('9', 2521),\n",
       " ('5', 2653),\n",
       " ('6', 2713),\n",
       " ('3', 2814),\n",
       " ('2', 3294)]"
      ]
     },
     "execution_count": 12,
     "metadata": {},
     "output_type": "execute_result"
    }
   ],
   "source": [
    "cubes.flatMap(lambda x: [ (e,1) for e in str(x)]).reduceByKey(lambda x, y: x+y).collect()\n",
    "\n",
    "#cubes.flatMap(lambda x: [int(e) for e in str(x)]).aggregate(val_init,myFold,myReduce)"
   ]
  },
  {
   "cell_type": "markdown",
   "metadata": {},
   "source": [
    "# Computation of π\n",
    "\n",
    "To compute the value of π, you will generate the list of all pairs (x,y) of integers from 0 to K. Then you will compute the number of such pairs such that (2x+1)^2+(2y+1)^2 is less then (2*K)^2. The ratio between the number of such pairs and the number of total pairs is an approximation of π.\n",
    "For K=3000 you should obtain a value close to 3.14159."
   ]
  },
  {
   "cell_type": "code",
   "execution_count": 13,
   "metadata": {},
   "outputs": [
    {
     "name": "stdout",
     "output_type": "stream",
     "text": [
      "3.141676\n",
      "785419\n"
     ]
    }
   ],
   "source": [
    "K=1000\n",
    "intUpToK = sc.parallelize(range(K))\n",
    "pairs = intUpToK.cartesian(intUpToK)\n",
    "nbTotal = pairs.count()\n",
    "\n",
    "def isOk(v):\n",
    "    x,y = v\n",
    "    return (2*x+1)**2+(2*y+1)**2 <= 4*K*K\n",
    "\n",
    "nbOk = pairs.filter(isOk).count()\n",
    "print(4*float(nbOk)/nbTotal)\n",
    "print(nbOk)"
   ]
  },
  {
   "cell_type": "markdown",
   "metadata": {},
   "source": [
    "# Readings files into RDD"
   ]
  },
  {
   "cell_type": "code",
   "execution_count": 14,
   "metadata": {},
   "outputs": [],
   "source": [
    "import re\n",
    "future_pattern = re.compile(\"\"\"([^,\"]+|\"[^\"]+\")(?=,|$)\"\"\")\n",
    "\n",
    "def parseCSV(line):\n",
    "     return future_pattern.findall(line)\n",
    "\n",
    "\n",
    "ratingsFile = sc.textFile(\"/home/jachiet/Downloads/ml-latest-small/ratings.csv\")\n",
    "moviesFile = sc.textFile(\"/home/jachiet/Downloads/ml-latest-small/movies.csv\")"
   ]
  },
  {
   "cell_type": "code",
   "execution_count": 15,
   "metadata": {},
   "outputs": [
    {
     "data": {
      "text/plain": [
       "[['1', 'Toy Story (1995)', 'Adventure|Animation|Children|Comedy|Fantasy'],\n",
       " ['2', 'Jumanji (1995)', 'Adventure|Children|Fantasy'],\n",
       " ['3', 'Grumpier Old Men (1995)', 'Comedy|Romance'],\n",
       " ['4', 'Waiting to Exhale (1995)', 'Comedy|Drama|Romance'],\n",
       " ['5', 'Father of the Bride Part II (1995)', 'Comedy'],\n",
       " ['6', 'Heat (1995)', 'Action|Crime|Thriller'],\n",
       " ['7', 'Sabrina (1995)', 'Comedy|Romance'],\n",
       " ['8', 'Tom and Huck (1995)', 'Adventure|Children'],\n",
       " ['9', 'Sudden Death (1995)', 'Action'],\n",
       " ['10', 'GoldenEye (1995)', 'Action|Adventure|Thriller'],\n",
       " ['11', '\"American President, The (1995)\"', 'Comedy|Drama|Romance'],\n",
       " ['12', 'Dracula: Dead and Loving It (1995)', 'Comedy|Horror'],\n",
       " ['13', 'Balto (1995)', 'Adventure|Animation|Children'],\n",
       " ['14', 'Nixon (1995)', 'Drama'],\n",
       " ['15', 'Cutthroat Island (1995)', 'Action|Adventure|Romance'],\n",
       " ['16', 'Casino (1995)', 'Crime|Drama'],\n",
       " ['17', 'Sense and Sensibility (1995)', 'Drama|Romance'],\n",
       " ['18', 'Four Rooms (1995)', 'Comedy'],\n",
       " ['19', 'Ace Ventura: When Nature Calls (1995)', 'Comedy'],\n",
       " ['20', 'Money Train (1995)', 'Action|Comedy|Crime|Drama|Thriller'],\n",
       " ['21', 'Get Shorty (1995)', 'Comedy|Crime|Thriller'],\n",
       " ['22', 'Copycat (1995)', 'Crime|Drama|Horror|Mystery|Thriller'],\n",
       " ['23', 'Assassins (1995)', 'Action|Crime|Thriller'],\n",
       " ['24', 'Powder (1995)', 'Drama|Sci-Fi'],\n",
       " ['25', 'Leaving Las Vegas (1995)', 'Drama|Romance'],\n",
       " ['26', 'Othello (1995)', 'Drama'],\n",
       " ['27', 'Now and Then (1995)', 'Children|Drama'],\n",
       " ['28', 'Persuasion (1995)', 'Drama|Romance'],\n",
       " ['29',\n",
       "  '\"City of Lost Children, The (Cité des enfants perdus, La) (1995)\"',\n",
       "  'Adventure|Drama|Fantasy|Mystery|Sci-Fi'],\n",
       " ['30', 'Shanghai Triad (Yao a yao yao dao waipo qiao) (1995)', 'Crime|Drama']]"
      ]
     },
     "execution_count": 15,
     "metadata": {},
     "output_type": "execute_result"
    }
   ],
   "source": [
    "ratings = ratingsFile.map(parseCSV).filter(lambda x: x[0]!=\"userId\")\n",
    "movies = moviesFile.map(parseCSV).filter(lambda x:x[0]!=\"movieId\")\n",
    "movies.take(30)"
   ]
  },
  {
   "cell_type": "markdown",
   "metadata": {},
   "source": [
    "# Compute the 10 best rated movies \n",
    "Try the following functions to determine the average ratings:\n",
    " 1. sum(ratings)/numberOfRatings\n",
    " 2. sum(ratings)/(1+numberOfRatings)\n",
    " 3. sum(ratings)/max(20,numberOfRatings)"
   ]
  },
  {
   "cell_type": "code",
   "execution_count": 16,
   "metadata": {},
   "outputs": [
    {
     "data": {
      "text/plain": [
       "[('\"Shawshank Redemption, The (1994)\"', 25.506303124680446),\n",
       " ('Forrest Gump (1994)', 24.135559630846686),\n",
       " ('Pulp Fiction (1994)', 24.035971735394472),\n",
       " ('\"Matrix, The (1999)\"', 23.593497870526754),\n",
       " ('\"Silence of the Lambs, The (1991)\"', 23.43310709209536),\n",
       " ('Star Wars: Episode IV - A New Hope (1977)', 23.37860964684444),\n",
       " ('Fight Club (1999)', 23.00760161003686),\n",
       " (\"Schindler's List (1993)\", 22.78807638333873),\n",
       " ('Star Wars: Episode V - The Empire Strikes Back (1980)', 22.561506207236782),\n",
       " ('\"Godfather, The (1972)\"', 22.549726244087907)]"
      ]
     },
     "execution_count": 16,
     "metadata": {},
     "output_type": "execute_result"
    }
   ],
   "source": [
    "ratedMovie = ratings.map(lambda x: (x[1],(float(x[2]),1))).reduceByKey(lambda x,y: (x[0]+y[0],x[1]+y[1]))\n",
    "movieJoin = movies.map(lambda x: (x[0],x[1]))\n",
    "\n",
    "ratedMovie3=ratedMovie.mapValues(lambda x:math.log(x[1])*(x[0])/(x[1]))\n",
    "movieJoin.join(ratedMovie3).map(lambda x: x[1]).sortBy(lambda x: -x[1]).take(10)"
   ]
  },
  {
   "cell_type": "code",
   "execution_count": 17,
   "metadata": {},
   "outputs": [
    {
     "data": {
      "text/plain": [
       "[('1', 3.9209302325581397),\n",
       " ('50', 4.237745098039215),\n",
       " ('70', 3.5090909090909093)]"
      ]
     },
     "execution_count": 17,
     "metadata": {},
     "output_type": "execute_result"
    }
   ],
   "source": [
    "ratedMovies = \\\n",
    "    ratings.map(lambda x: (x[1],(float(x[2]),1))) \\\n",
    "           .reduceByKey(lambda x,y: (x[0]+y[0],x[1]+y[1])) \\\n",
    "           .mapValues(lambda x: x[0]/x[1])\n",
    "           \n",
    "\n",
    "ratedMovies.take(3)"
   ]
  },
  {
   "cell_type": "code",
   "execution_count": 18,
   "metadata": {},
   "outputs": [
    {
     "data": {
      "text/plain": [
       "[('Lamerica (1994)', 5.0),\n",
       " ('What Happened Was... (1994)', 5.0),\n",
       " ('Denise Calls Up (1995)', 5.0),\n",
       " ('Lesson Faust (1994)', 5.0),\n",
       " ('\"Sandpiper, The (1965)\"', 5.0),\n",
       " ('My Man Godfrey (1957)', 5.0),\n",
       " ('Black Tar Heroin: The Dark End of the Street (2000)', 5.0),\n",
       " ('Slumber Party Massacre II (1987)', 5.0),\n",
       " ('Moscow Does Not Believe in Tears (Moskva slezam ne verit) (1979)', 5.0),\n",
       " ('Cherish (2002)', 5.0)]"
      ]
     },
     "execution_count": 18,
     "metadata": {},
     "output_type": "execute_result"
    }
   ],
   "source": [
    "movieJoin = movies.map(lambda x: (x[0],x[1]))\n",
    "\n",
    "moviesWithAvg = movieJoin.join(ratedMovies) \\\n",
    "                        .map(lambda x: x[1])\n",
    "\n",
    "bestMovies = moviesWithAvg.sortBy(lambda x: x[1],ascending=False)\n",
    "bestMovies.take(10)"
   ]
  },
  {
   "cell_type": "code",
   "execution_count": 19,
   "metadata": {},
   "outputs": [
    {
     "data": {
      "text/plain": [
       "[('\"Shawshank Redemption, The (1994)\"', 25.506303124680446),\n",
       " ('Forrest Gump (1994)', 24.135559630846686),\n",
       " ('Pulp Fiction (1994)', 24.035971735394472),\n",
       " ('\"Matrix, The (1999)\"', 23.593497870526754),\n",
       " ('\"Silence of the Lambs, The (1991)\"', 23.43310709209536),\n",
       " ('Star Wars: Episode IV - A New Hope (1977)', 23.37860964684444),\n",
       " ('Fight Club (1999)', 23.00760161003686),\n",
       " (\"Schindler's List (1993)\", 22.78807638333873),\n",
       " ('Star Wars: Episode V - The Empire Strikes Back (1980)', 22.561506207236782),\n",
       " ('\"Godfather, The (1972)\"', 22.549726244087907)]"
      ]
     },
     "execution_count": 19,
     "metadata": {},
     "output_type": "execute_result"
    }
   ],
   "source": [
    "#with log metric\n",
    "\n",
    "import math\n",
    "\n",
    "ratedMovies = \\\n",
    "    ratings.map(lambda x: (x[1],(float(x[2]),1))) \\\n",
    "           .reduceByKey(lambda x,y: (x[0]+y[0],x[1]+y[1])) \\\n",
    "           .mapValues(lambda x: math.log(x[1])*x[0]/(x[1]))\n",
    "           \n",
    "movieJoin = movies.map(lambda x: (x[0],x[1]))\n",
    "\n",
    "moviesWithAvg = movieJoin.join(ratedMovies) \\\n",
    "                        .map(lambda x: x[1])\n",
    "\n",
    "bestMovies2 = moviesWithAvg.sortBy(lambda x: x[1],ascending=False)\n",
    "bestMovies2.take(10)"
   ]
  },
  {
   "cell_type": "code",
   "execution_count": 20,
   "metadata": {},
   "outputs": [
    {
     "data": {
      "text/plain": [
       "[('\"Shawshank Redemption, The (1994)\"', 4.415094339622642),\n",
       " ('\"Godfather, The (1972)\"', 4.266839378238342),\n",
       " ('\"Streetcar Named Desire, A (1951)\"', 4.261904761904762),\n",
       " ('Fight Club (1999)', 4.2534246575342465),\n",
       " ('\"Godfather: Part II, The (1974)\"', 4.226923076923077),\n",
       " ('Dr. Strangelove or: How I Learned to Stop Worrying and Love the Bomb (1964)',\n",
       "  4.224489795918367),\n",
       " ('\"Three Billboards Outside Ebbing, Missouri (2017)\"', 4.222222222222222),\n",
       " ('\"Usual Suspects, The (1995)\"', 4.217073170731707),\n",
       " ('Goodfellas (1990)', 4.216535433070866),\n",
       " ('Star Wars: Episode IV - A New Hope (1977)', 4.214285714285714)]"
      ]
     },
     "execution_count": 20,
     "metadata": {},
     "output_type": "execute_result"
    }
   ],
   "source": [
    "# with one 0 vote\n",
    "\n",
    "ratedMovie2=ratedMovie.mapValues(lambda x:(x[0])/((1+x[1])))\n",
    "movieJoin.join(ratedMovie2).map(lambda x: x[1]).sortBy(lambda x: -x[1]).take(10)"
   ]
  },
  {
   "cell_type": "code",
   "execution_count": 21,
   "metadata": {},
   "outputs": [
    {
     "data": {
      "text/plain": [
       "[('\"Shawshank Redemption, The (1994)\"', 4.415094339622642),\n",
       " ('\"Godfather, The (1972)\"', 4.266839378238342),\n",
       " ('\"Streetcar Named Desire, A (1951)\"', 4.261904761904762),\n",
       " ('Fight Club (1999)', 4.2534246575342465),\n",
       " ('\"Godfather: Part II, The (1974)\"', 4.226923076923077),\n",
       " ('Dr. Strangelove or: How I Learned to Stop Worrying and Love the Bomb (1964)',\n",
       "  4.224489795918367),\n",
       " ('\"Three Billboards Outside Ebbing, Missouri (2017)\"', 4.222222222222222),\n",
       " ('\"Usual Suspects, The (1995)\"', 4.217073170731707),\n",
       " ('Goodfellas (1990)', 4.216535433070866),\n",
       " ('Star Wars: Episode IV - A New Hope (1977)', 4.214285714285714)]"
      ]
     },
     "execution_count": 21,
     "metadata": {},
     "output_type": "execute_result"
    }
   ],
   "source": [
    "ratedMovie1=ratedMovie.mapValues(lambda x:(x[0])/((1+x[1])))\n",
    "movieJoin.join(ratedMovie1).map(lambda x: x[1]).filter(lambda x: x[1]>4).sortBy(lambda x: -x[1]).take(10)"
   ]
  },
  {
   "cell_type": "code",
   "execution_count": 22,
   "metadata": {},
   "outputs": [
    {
     "data": {
      "text/plain": [
       "[('\"Shawshank Redemption, The (1994)\"', 25.506303124680446),\n",
       " ('Forrest Gump (1994)', 24.135559630846686),\n",
       " ('Pulp Fiction (1994)', 24.035971735394476),\n",
       " ('\"Matrix, The (1999)\"', 23.593497870526754),\n",
       " ('\"Silence of the Lambs, The (1991)\"', 23.43310709209536),\n",
       " ('Star Wars: Episode IV - A New Hope (1977)', 23.37860964684444),\n",
       " ('Fight Club (1999)', 23.007601610036865),\n",
       " (\"Schindler's List (1993)\", 22.788076383338726),\n",
       " ('Star Wars: Episode V - The Empire Strikes Back (1980)', 22.561506207236786),\n",
       " ('\"Godfather, The (1972)\"', 22.549726244087907)]"
      ]
     },
     "execution_count": 22,
     "metadata": {},
     "output_type": "execute_result"
    }
   ],
   "source": [
    "import math\n",
    "\n",
    "ratedMovie1=ratedMovie.mapValues(lambda x:(x[0]/x[1])*math.log(x[1]))\n",
    "                                 \n",
    "movieJoin.join(ratedMovie1).map(lambda x: x[1]).filter(lambda x: x[1]>4).sortBy(lambda x: -x[1]).take(10)"
   ]
  },
  {
   "cell_type": "markdown",
   "metadata": {},
   "source": [
    "## What are the names of movies seen by the userId=1?"
   ]
  },
  {
   "cell_type": "code",
   "execution_count": 23,
   "metadata": {},
   "outputs": [
    {
     "name": "stdout",
     "output_type": "stream",
     "text": [
      "('\"13th Warrior, The (1999)\"', '4.0')\n",
      "('\"Abyss, The (1989)\"', '4.0')\n",
      "('\"Adventures of Robin Hood, The (1938)\"', '5.0')\n",
      "('\"American Tail, An (1986)\"', '5.0')\n",
      "('\"Big Lebowski, The (1998)\"', '5.0')\n",
      "('\"Black Cauldron, The (1985)\"', '5.0')\n",
      "('\"Blues Brothers, The (1980)\"', '5.0')\n",
      "('\"Clockwork Orange, A (1971)\"', '5.0')\n",
      "('\"Dirty Dozen, The (1967)\"', '5.0')\n",
      "('\"Few Good Men, A (1992)\"', '4.0')\n",
      "('\"Fugitive, The (1993)\"', '5.0')\n",
      "('\"Game, The (1997)\"', '5.0')\n",
      "('\"Ghost and Mrs. Muir, The (1947)\"', '4.0')\n",
      "('\"Ghost and the Darkness, The (1996)\"', '5.0')\n",
      "('\"Good Morning, Vietnam (1987)\"', '5.0')\n",
      "('\"Goonies, The (1985)\"', '5.0')\n",
      "('\"Great Mouse Detective, The (1986)\"', '5.0')\n",
      "('\"Green Mile, The (1999)\"', '5.0')\n",
      "('\"Honey, I Shrunk the Kids (1989)\"', '4.0')\n",
      "('\"Iron Giant, The (1999)\"', '5.0')\n",
      "('\"Jungle Book, The (1967)\"', '5.0')\n",
      "('\"Jungle Book, The (1994)\"', '5.0')\n",
      "('\"Last of the Mohicans, The (1992)\"', '3.0')\n",
      "('\"Lock, Stock & Two Smoking Barrels (1998)\"', '5.0')\n",
      "('\"Longest Day, The (1962)\"', '4.0')\n",
      "('\"Lord of the Rings, The (1978)\"', '5.0')\n",
      "('\"Man with the Golden Gun, The (1974)\"', '4.0')\n",
      "('\"Mask, The (1994)\"', '4.0')\n",
      "('\"Matrix, The (1999)\"', '5.0')\n",
      "('\"Messenger: The Story of Joan of Arc, The (1999)\"', '5.0')\n",
      "('\"Mummy, The (1999)\"', '2.0')\n",
      "('\"Negotiator, The (1998)\"', '5.0')\n",
      "('\"NeverEnding Story, The (1984)\"', '5.0')\n",
      "('\"Newton Boys, The (1998)\"', '5.0')\n",
      "('\"Nosferatu (Nosferatu, eine Symphonie des Grauens) (1922)\"', '4.0')\n",
      "('\"Princess Bride, The (1987)\"', '5.0')\n",
      "('\"Quiet Man, The (1952)\"', '5.0')\n",
      "('\"Rescuers, The (1977)\"', '5.0')\n",
      "('\"Road Warrior, The (Mad Max 2) (1981)\"', '5.0')\n",
      "('\"Rock, The (1996)\"', '4.0')\n",
      "('\"Rocketeer, The (1991)\"', '5.0')\n",
      "('\"Rocky Horror Picture Show, The (1975)\"', '3.0')\n",
      "('\"Secret of NIMH, The (1982)\"', '5.0')\n",
      "('\"Shining, The (1980)\"', '3.0')\n",
      "('\"Silence of the Lambs, The (1991)\"', '4.0')\n",
      "('\"South Park: Bigger, Longer and Uncut (1999)\"', '5.0')\n",
      "('\"Sword in the Stone, The (1963)\"', '5.0')\n",
      "('\"Talented Mr. Ripley, The (1999)\"', '1.0')\n",
      "('\"Terminator, The (1984)\"', '5.0')\n",
      "('\"Texas Chainsaw Massacre, The (1974)\"', '5.0')\n",
      "('\"Thin Red Line, The (1998)\"', '5.0')\n",
      "('\"Three Caballeros, The (1945)\"', '5.0')\n",
      "('\"Three Musketeers, The (1993)\"', '4.0')\n",
      "('\"Usual Suspects, The (1995)\"', '5.0')\n",
      "('\"Wedding Singer, The (1998)\"', '4.0')\n",
      "('\"Wizard of Oz, The (1939)\"', '5.0')\n",
      "('\"Wolf Man, The (1941)\"', '5.0')\n",
      "('20 Dates (1998)', '4.0')\n",
      "('Alice in Wonderland (1951)', '5.0')\n",
      "('Alien (1979)', '4.0')\n",
      "('All Quiet on the Western Front (1930)', '5.0')\n",
      "('American Beauty (1999)', '5.0')\n",
      "('American History X (1998)', '5.0')\n",
      "('Apocalypse Now (1979)', '4.0')\n",
      "('Austin Powers: International Man of Mystery (1997)', '5.0')\n",
      "('Back to the Future (1985)', '5.0')\n",
      "('Back to the Future Part III (1990)', '4.0')\n",
      "('Bambi (1942)', '5.0')\n",
      "('Basic Instinct (1992)', '5.0')\n",
      "('Batman (1989)', '4.0')\n",
      "('Batman Returns (1992)', '3.0')\n",
      "('Bedknobs and Broomsticks (1971)', '5.0')\n",
      "('Beetlejuice (1988)', '4.0')\n",
      "('Being John Malkovich (1999)', '4.0')\n",
      "('Best Men (1997)', '4.0')\n",
      "('Big (1988)', '4.0')\n",
      "('Big Trouble in Little China (1986)', '4.0')\n",
      "('Billy Madison (1995)', '5.0')\n",
      "('Blazing Saddles (1974)', '5.0')\n",
      "('Blown Away (1994)', '3.0')\n",
      "('Bottle Rocket (1996)', '5.0')\n",
      "('Braveheart (1995)', '4.0')\n",
      "('Canadian Bacon (1995)', '5.0')\n",
      "(\"Charlotte's Web (1973)\", '5.0')\n",
      "('Citizen Kane (1941)', '5.0')\n",
      "('Clear and Present Danger (1994)', '4.0')\n",
      "('Clerks (1994)', '3.0')\n",
      "('Con Air (1997)', '4.0')\n",
      "('Conan the Barbarian (1982)', '5.0')\n",
      "('Crocodile Dundee (1986)', '5.0')\n",
      "('Dances with Wolves (1990)', '4.0')\n",
      "('Dazed and Confused (1993)', '4.0')\n",
      "('Desperado (1995)', '5.0')\n",
      "('Dick Tracy (1990)', '4.0')\n",
      "('Dogma (1999)', '5.0')\n",
      "('Dr. No (1962)', '5.0')\n",
      "('Dracula (1931)', '4.0')\n",
      "('Duck Soup (1933)', '5.0')\n",
      "('Dumb & Dumber (Dumb and Dumber) (1994)', '5.0')\n",
      "('Dumbo (1941)', '5.0')\n",
      "('E.T. the Extra-Terrestrial (1982)', '5.0')\n",
      "('Easy Rider (1969)', '4.0')\n",
      "('Ed Wood (1994)', '4.0')\n",
      "('Edward Scissorhands (1990)', '5.0')\n",
      "('Encino Man (1992)', '3.0')\n",
      "('Enemy of the State (1998)', '5.0')\n",
      "('Escape to Witch Mountain (1975)', '3.0')\n",
      "('Excalibur (1981)', '5.0')\n",
      "('Face/Off (1997)', '5.0')\n",
      "('Fantasia (1940)', '5.0')\n",
      "('Fargo (1996)', '5.0')\n",
      "('Fight Club (1999)', '5.0')\n",
      "('Flight of the Navigator (1986)', '4.0')\n",
      "('Forrest Gump (1994)', '4.0')\n",
      "('Frankenstein (1931)', '4.0')\n",
      "('From Dusk Till Dawn (1996)', '3.0')\n",
      "('From Russia with Love (1963)', '5.0')\n",
      "('Full Metal Jacket (1987)', '5.0')\n",
      "('Ghostbusters (a.k.a. Ghost Busters) (1984)', '5.0')\n",
      "('Gladiator (2000)', '5.0')\n",
      "('Go (1999)', '5.0')\n",
      "('Goldfinger (1964)', '5.0')\n",
      "('Goodfellas (1990)', '5.0')\n",
      "('Grosse Pointe Blank (1997)', '4.0')\n",
      "('Groundhog Day (1993)', '4.0')\n",
      "('Grumpier Old Men (1995)', '4.0')\n",
      "('Grumpy Old Men (1993)', '5.0')\n",
      "(\"Gulliver's Travels (1939)\", '5.0')\n",
      "('Heat (1995)', '4.0')\n",
      "('Henry V (1989)', '5.0')\n",
      "('Highlander (1986)', '5.0')\n",
      "('Hook (1991)', '4.0')\n",
      "('Howard the Duck (1986)', '4.0')\n",
      "('I Know What You Did Last Summer (1997)', '3.0')\n",
      "('I Still Know What You Did Last Summer (1998)', '2.0')\n",
      "('Independence Day (a.k.a. ID4) (1996)', '3.0')\n",
      "('Indiana Jones and the Last Crusade (1989)', '5.0')\n",
      "('Indiana Jones and the Temple of Doom (1984)', '5.0')\n",
      "('JFK (1991)', '5.0')\n",
      "('James and the Giant Peach (1996)', '5.0')\n",
      "('Jurassic Park (1993)', '4.0')\n",
      "('King Kong (1933)', '4.0')\n",
      "('Kiss the Girls (1997)', '4.0')\n",
      "('L.A. Confidential (1997)', '5.0')\n",
      "('Labyrinth (1986)', '4.0')\n",
      "('Ladyhawke (1985)', '4.0')\n",
      "('Legend (1985)', '4.0')\n",
      "('Lethal Weapon (1987)', '4.0')\n",
      "('Live and Let Die (1973)', '5.0')\n",
      "(\"Logan's Run (1976)\", '3.0')\n",
      "('M*A*S*H (a.k.a. MASH) (1970)', '5.0')\n",
      "('Mad Max (1979)', '5.0')\n",
      "(\"McHale's Navy (1997)\", '3.0')\n",
      "('Men in Black (a.k.a. MIB) (1997)', '3.0')\n",
      "('Mission: Impossible (1996)', '3.0')\n",
      "('Monty Python and the Holy Grail (1975)', '5.0')\n",
      "(\"Monty Python's Life of Brian (1979)\", '5.0')\n",
      "('Mr. Smith Goes to Washington (1939)', '5.0')\n",
      "('Mrs. Doubtfire (1993)', '3.0')\n",
      "('Office Space (1999)', '5.0')\n",
      "(\"Pete's Dragon (1977)\", '3.0')\n",
      "('Pink Floyd: The Wall (1982)', '5.0')\n",
      "('Pinocchio (1940)', '5.0')\n",
      "('Planet of the Apes (1968)', '5.0')\n",
      "('Platoon (1986)', '4.0')\n",
      "('Predator (1987)', '4.0')\n",
      "('Psycho (1960)', '2.0')\n",
      "('Psycho (1998)', '2.0')\n",
      "('Pulp Fiction (1994)', '3.0')\n",
      "('Raiders of the Lost Ark (Indiana Jones and the Raiders of the Lost Ark) (1981)', '5.0')\n",
      "('Red Dawn (1984)', '5.0')\n",
      "('Reservoir Dogs (1992)', '5.0')\n",
      "('Return to Oz (1985)', '3.0')\n",
      "('Road Trip (2000)', '4.0')\n",
      "('Rob Roy (1995)', '5.0')\n",
      "('Robin Hood (1973)', '5.0')\n",
      "('RoboCop (1987)', '4.0')\n",
      "('Rocky (1976)', '5.0')\n",
      "('Romancing the Stone (1984)', '4.0')\n",
      "('Run Lola Run (Lola rennt) (1998)', '5.0')\n",
      "('Rush Hour (1998)', '4.0')\n",
      "('Rushmore (1998)', '5.0')\n",
      "('SLC Punk! (1998)', '5.0')\n",
      "('Saving Private Ryan (1998)', '4.0')\n",
      "(\"Schindler's List (1993)\", '5.0')\n",
      "('Scream 3 (2000)', '5.0')\n",
      "('Seven (a.k.a. Se7en) (1995)', '5.0')\n",
      "('Shaft (1971)', '5.0')\n",
      "('Shaft (2000)', '4.0')\n",
      "(\"She's the One (1996)\", '4.0')\n",
      "('Sister Act (1992)', '3.0')\n",
      "('Sleeping Beauty (1959)', '4.0')\n",
      "('Small Soldiers (1998)', '4.0')\n",
      "('Sneakers (1992)', '3.0')\n",
      "('So I Married an Axe Murderer (1993)', '4.0')\n",
      "('Song of the South (1946)', '4.0')\n",
      "('Space Jam (1996)', '3.0')\n",
      "('Spaceballs (1987)', '5.0')\n",
      "('Star Wars: Episode I - The Phantom Menace (1999)', '4.0')\n",
      "('Star Wars: Episode IV - A New Hope (1977)', '5.0')\n",
      "('Star Wars: Episode V - The Empire Strikes Back (1980)', '5.0')\n",
      "('Star Wars: Episode VI - Return of the Jedi (1983)', '5.0')\n",
      "('Stargate (1994)', '3.0')\n",
      "('Starship Troopers (1997)', '3.0')\n",
      "('Superman (1978)', '4.0')\n",
      "('Superman II (1980)', '5.0')\n",
      "('Swingers (1996)', '4.0')\n",
      "('Teenage Mutant Ninja Turtles II: The Secret of the Ooze (1991)', '4.0')\n",
      "('Teenage Mutant Ninja Turtles III (1993)', '4.0')\n",
      "('That Thing You Do! (1996)', '4.0')\n",
      "('Thunderball (1965)', '5.0')\n",
      "('Tombstone (1993)', '5.0')\n",
      "('Tommy Boy (1995)', '5.0')\n",
      "('Total Recall (1990)', '4.0')\n",
      "('Toy Story (1995)', '4.0')\n",
      "('Toys (1992)', '2.0')\n",
      "('Transformers: The Movie (1986)', '4.0')\n",
      "('Tron (1982)', '4.0')\n",
      "('Twister (1996)', '3.0')\n",
      "('Very Bad Things (1998)', '5.0')\n",
      "(\"Wayne's World (1992)\", '5.0')\n",
      "('Welcome to Woop-Woop (1997)', '4.0')\n",
      "('What About Bob? (1991)', '4.0')\n",
      "('Who Framed Roger Rabbit? (1988)', '5.0')\n",
      "('Wild Things (1998)', '4.0')\n",
      "('Willow (1988)', '4.0')\n",
      "('Willy Wonka & the Chocolate Factory (1971)', '5.0')\n",
      "('Winnie the Pooh and the Blustery Day (1968)', '5.0')\n",
      "('X-Men (2000)', '5.0')\n",
      "('Young Frankenstein (1974)', '5.0')\n",
      "('Young Sherlock Holmes (1985)', '3.0')\n",
      "('¡Three Amigos! (1986)', '4.0')\n"
     ]
    }
   ],
   "source": [
    "moviesUser1 = ratings.filter(lambda x:  x[0]==\"1\").map(lambda x: (x[1],x[2])).join(movies).map(lambda x: (x[1][1],x[1][0])).sortBy(lambda x:x[0])\n",
    "for m in moviesUser1.collect():\n",
    "    print(m)"
   ]
  },
  {
   "cell_type": "markdown",
   "metadata": {},
   "source": [
    "## Compute the similarity coefficient between userId=1 and all other users. What is the similarity between userId=1 and userId=1? userId=2? userId=3? userId=4? "
   ]
  },
  {
   "cell_type": "code",
   "execution_count": 144,
   "metadata": {},
   "outputs": [
    {
     "name": "stdout",
     "output_type": "stream",
     "text": [
      "1 -> 0\n",
      "4 -> 0.7962921953903238\n",
      "2 -> 0\n",
      "3 -> 0.16597864726681164\n"
     ]
    }
   ],
   "source": [
    "def avg(dic, items):\n",
    "    s=0\n",
    "    for i in items:\n",
    "        s += dic[i]\n",
    "    return s/len(items)\n",
    "\n",
    "def safeDivide(x,y):\n",
    "    if y==0:\n",
    "        return 0\n",
    "    return x/y\n",
    "\n",
    "\n",
    "def simil(x,y):\n",
    "    x = [e for e in x]\n",
    "    y = [e for e in y]\n",
    "    if x==y:\n",
    "        return 0\n",
    "    dX = dict(x)\n",
    "    dY = dict(y)\n",
    "    common = set(dX.keys()) & set(dY.keys())\n",
    "    if len(common)<1:\n",
    "        return 0\n",
    "    avgX = avg(dX,common)\n",
    "    avgY = avg(dY,common)\n",
    "    varX = 0\n",
    "    varY = 0\n",
    "    res = 0 \n",
    "    for c in common:\n",
    "        res += (dX[c]-avgX)*(dY[c]-avgY)\n",
    "        varX += (dX[c]-avgX)**2\n",
    "        varY += (dY[c]-avgY)**2\n",
    "    if varX*varY == 0:\n",
    "        return 0\n",
    "    if res < 0:\n",
    "        return 0\n",
    "    #return res / (1+(varX*varY)**(0.5))\n",
    "    return math.log(1+len(common))*res / ((varX*varY)**(0.5))\n",
    "\n",
    "userRatings = ratings.map(lambda x: (x[0],(x[1],float(x[2])))).groupByKey()\n",
    "user1 = userRatings.filter(lambda x:x[0]=='1').take(1)[0]\n",
    "userSimil = userRatings.mapValues(lambda x: simil(x,user1[1]))\n",
    "\n",
    "output = userSimil.filter(lambda x: x[0] in ['1','2','3','4']).collect() # (user, simil)\n",
    "for (k,v) in output:\n",
    "    print(str(k)+\" -> \"+str(v))"
   ]
  },
  {
   "cell_type": "code",
   "execution_count": 142,
   "metadata": {},
   "outputs": [
    {
     "data": {
      "text/plain": [
       "0.5171211853962832"
      ]
     },
     "execution_count": 142,
     "metadata": {},
     "output_type": "execute_result"
    }
   ],
   "source": [
    "userSimil.map(lambda x:x[1]).reduce(lambda x,y: x+y) / userSimil.count()"
   ]
  },
  {
   "cell_type": "markdown",
   "metadata": {},
   "source": [
    "## Compute the 10 top movies recommended by collaborative filtering using pearson correlation for userId=1"
   ]
  },
  {
   "cell_type": "code",
   "execution_count": 147,
   "metadata": {},
   "outputs": [],
   "source": [
    "\n",
    "userMovieRatings = ratings.map(lambda x: (x[0],(x[1],float(x[2])))) # (user, (movie,rating))\n",
    "movieRatingSimil = userMovieRatings.join(userSimil).map(lambda x:x[1]) # (movie,rating),simil\n",
    "moviePearsonWeight = movieRatingSimil.map(lambda x: (x[0][0],(x[0][1]*x[1],x[1]))) # movie, (rating*simil,simil)\n",
    "\n"
   ]
  },
  {
   "cell_type": "code",
   "execution_count": 163,
   "metadata": {},
   "outputs": [
    {
     "data": {
      "text/plain": [
       "[('318', 4.536635892289907),\n",
       " ('3030', 4.434424835574195),\n",
       " ('260', 4.431828042208414),\n",
       " ('1235', 4.429626031654389),\n",
       " ('1196', 4.425127195922486),\n",
       " ('3983', 4.406293660279343),\n",
       " ('527', 4.401320700492619),\n",
       " ('858', 4.397350914935063),\n",
       " ('1178', 4.3885014100181605),\n",
       " ('6442', 4.385843025893944),\n",
       " ('48516', 4.381036957849871),\n",
       " ('177593', 4.3803680316756655),\n",
       " ('1136', 4.369367624272602),\n",
       " ('912', 4.365948042565985),\n",
       " ('1208', 4.3450753526950185),\n",
       " ('750', 4.33420656292983),\n",
       " ('5618', 4.33370523670445),\n",
       " ('1217', 4.332198889360908),\n",
       " ('50', 4.326823154051749),\n",
       " ('1276', 4.323868264719015)]"
      ]
     },
     "execution_count": 163,
     "metadata": {},
     "output_type": "execute_result"
    }
   ],
   "source": [
    "moviePearson = moviePearsonWeight.reduceByKey(lambda x,y: (x[0]+y[0],x[1]+y[1])).mapValues(lambda x: safeDivide(x[0],0.5+x[1]))\n",
    "moviePearson.sortBy(lambda x: -x[1]).take(20)"
   ]
  },
  {
   "cell_type": "code",
   "execution_count": 160,
   "metadata": {},
   "outputs": [
    {
     "name": "stdout",
     "output_type": "stream",
     "text": [
      "23.475556149163417\tShawshank Redemption\n",
      "22.57145093526896\tStar Wars: Episode IV - A New Hope (1977)\n",
      "22.09606349140326\tMatrix\n",
      "21.866642921345733\tForrest Gump (1994)\n",
      "21.84896403920532\tStar Wars: Episode V - The Empire Strikes Back (1980)\n",
      "21.417309716974163\tSchindler's List (1993)\n",
      "21.2499022130862\tFight Club (1999)\n",
      "20.97659759622866\tPulp Fiction (1994)\n",
      "20.9350672875493\tRaiders of the Lost Ark (Indiana Jones and the Raiders of the Lost Ark) (1981)\n",
      "20.772169377657566\tSilence of the Lambs\n"
     ]
    }
   ],
   "source": [
    "res = movies.join(moviePearson).map(lambda x: x[1]).sortBy(lambda x: -x[1])\n",
    "for i in res.take(10):\n",
    "        print(str(i[1])+\"\\t\"+str(i[0]))"
   ]
  },
  {
   "cell_type": "markdown",
   "metadata": {},
   "source": [
    "## Remove from the previous list the movies already rated (and thus seen) by userId=1"
   ]
  },
  {
   "cell_type": "code",
   "execution_count": 161,
   "metadata": {},
   "outputs": [
    {
     "name": "stdout",
     "output_type": "stream",
     "text": [
      "23.475556149163417\tShawshank Redemption\n",
      "22.57145093526896\tStar Wars: Episode IV - A New Hope (1977)\n",
      "22.09606349140326\tMatrix\n",
      "21.866642921345733\tForrest Gump (1994)\n",
      "21.84896403920532\tStar Wars: Episode V - The Empire Strikes Back (1980)\n",
      "21.417309716974163\tSchindler's List (1993)\n",
      "21.2499022130862\tFight Club (1999)\n",
      "20.97659759622866\tPulp Fiction (1994)\n",
      "20.9350672875493\tRaiders of the Lost Ark (Indiana Jones and the Raiders of the Lost Ark) (1981)\n",
      "20.772169377657566\tSilence of the Lambs\n"
     ]
    }
   ],
   "source": [
    "res2 = res.subtractByKey(moviesUser1.map(lambda x: (x,'#'))).sortBy(lambda x: (-x[1],x[0]))\n",
    "for i in res2.take(10):\n",
    "        print(str(i[1])+\"\\t\"+str(i[0]))"
   ]
  },
  {
   "cell_type": "code",
   "execution_count": 162,
   "metadata": {},
   "outputs": [
    {
     "name": "stdout",
     "output_type": "stream",
     "text": [
      "22.57145093526896\t5.0\tStar Wars: Episode IV - A New Hope (1977)\n",
      "22.09606349140326\t5.0\tMatrix\n",
      "21.866642921345733\t4.0\tForrest Gump (1994)\n",
      "21.84896403920532\t5.0\tStar Wars: Episode V - The Empire Strikes Back (1980)\n",
      "21.417309716974163\t5.0\tSchindler's List (1993)\n",
      "21.2499022130862\t5.0\tFight Club (1999)\n",
      "20.97659759622866\t3.0\tPulp Fiction (1994)\n",
      "20.9350672875493\t5.0\tRaiders of the Lost Ark (Indiana Jones and the Raiders of the Lost Ark) (1981)\n",
      "20.772169377657566\t4.0\tSilence of the Lambs\n",
      "20.753782793532604\t5.0\tStar Wars: Episode VI - Return of the Jedi (1983)\n",
      "20.732622320665648\t5.0\tAmerican Beauty (1999)\n",
      "20.66617921688854\t5.0\tUsual Suspects\n",
      "19.992327260337227\t4.0\tBraveheart (1995)\n",
      "19.971943115919796\t4.0\tSaving Private Ryan (1998)\n",
      "19.921027867222936\t5.0\tSeven (a.k.a. Se7en) (1995)\n",
      "19.814582365898467\t5.0\tMonty Python and the Holy Grail (1975)\n",
      "19.734517283099244\t5.0\tFargo (1996)\n",
      "19.5813158813971\t5.0\tBack to the Future (1985)\n",
      "19.545677539334406\t5.0\tPrincess Bride\n",
      "19.319573928245074\t5.0\tFugitive\n",
      "18.806273697711045\t5.0\tAmerican History X (1998)\n",
      "18.715873678092297\t4.0\tToy Story (1995)\n",
      "18.624601694682728\t5.0\tGladiator (2000)\n",
      "18.592748905869428\t5.0\tIndiana Jones and the Last Crusade (1989)\n",
      "18.5260176307388\t4.0\tJurassic Park (1993)\n",
      "18.51688239263711\t4.0\tApocalypse Now (1979)\n",
      "18.39923165569747\t5.0\tReservoir Dogs (1992)\n",
      "18.345141480680386\t5.0\tGreen Mile\n",
      "18.330881850743623\t5.0\tGoodfellas (1990)\n",
      "18.217321207004932\t4.0\tGroundhog Day (1993)\n",
      "18.08148830943172\t5.0\tClockwork Orange\n",
      "17.94117532110751\t5.0\tL.A. Confidential (1997)\n",
      "17.732343690229456\t5.0\tWilly Wonka & the Chocolate Factory (1971)\n",
      "17.50032574289912\t5.0\tTerminator\n",
      "17.48711690840617\t4.0\tAlien (1979)\n",
      "17.47189535515581\t5.0\tOffice Space (1999)\n",
      "17.43413852165866\t5.0\tBig Lebowski\n",
      "17.245205102345352\t5.0\tE.T. the Extra-Terrestrial (1982)\n",
      "17.240290342231035\t5.0\tFull Metal Jacket (1987)\n",
      "17.189069994488086\t5.0\tMonty Python's Life of Brian (1979)\n",
      "17.084523844107313\t5.0\tGhostbusters (a.k.a. Ghost Busters) (1984)\n",
      "17.000585956556904\t4.0\tDances with Wolves (1990)\n",
      "16.72548672379116\t4.0\tBeing John Malkovich (1999)\n",
      "16.559667140760222\t5.0\tX-Men (2000)\n",
      "16.42107795867614\t4.0\tBatman (1989)\n",
      "16.38690345146777\t5.0\tCitizen Kane (1941)\n",
      "16.357943754821477\t3.0\tShining\n",
      "16.34613835097902\t5.0\tBlues Brothers\n",
      "16.233429836919523\t5.0\tRun Lola Run (Lola rennt) (1998)\n",
      "16.097471161719472\t5.0\tSouth Park: Bigger\n",
      "15.859285887610264\t5.0\tIndiana Jones and the Temple of Doom (1984)\n",
      "15.85452092799789\t5.0\tWho Framed Roger Rabbit? (1988)\n",
      "15.77844393169248\t5.0\tAustin Powers: International Man of Mystery (1997)\n",
      "15.77477489800321\t5.0\tYoung Frankenstein (1974)\n",
      "15.672955249081001\t5.0\tLock\n",
      "15.658993773665769\t5.0\tWizard of Oz\n",
      "15.601305206489993\t4.0\tTotal Recall (1990)\n",
      "15.545058238674546\t4.0\tBig (1988)\n",
      "15.512891524006916\t4.0\tHeat (1995)\n",
      "15.481515267644092\t3.0\tMen in Black (a.k.a. MIB) (1997)\n",
      "15.404858989643383\t3.0\tMission: Impossible (1996)\n",
      "15.32677097289503\t4.0\tPlatoon (1986)\n",
      "15.288477352959195\t3.0\tClerks (1994)\n",
      "15.275554288192597\t3.0\tIndependence Day (a.k.a. ID4) (1996)\n",
      "15.257609572355772\t5.0\tEdward Scissorhands (1990)\n",
      "15.210320556613544\t4.0\tRock\n",
      "15.052847903338318\t5.0\tRocky (1976)\n",
      "14.945728519922215\t5.0\tDogma (1999)\n",
      "14.838747261721783\t5.0\tBlazing Saddles (1974)\n",
      "14.829751170056346\t2.0\tPsycho (1960)\n",
      "14.72991282594486\t4.0\tLethal Weapon (1987)\n",
      "14.686408497756782\t4.0\tClear and Present Danger (1994)\n",
      "14.516336878229891\t5.0\tJungle Book\n",
      "14.516336878229891\t5.0\tJungle Book\n",
      "14.46866998990897\t4.0\tBeetlejuice (1988)\n",
      "14.444240038292175\t5.0\tGame\n",
      "14.395961642806816\t3.0\tMrs. Doubtfire (1993)\n",
      "14.360379954821406\t4.0\tBack to the Future Part III (1990)\n",
      "14.281738464090665\t4.0\tStar Wars: Episode I - The Phantom Menace (1999)\n",
      "14.264896899388939\t5.0\tRushmore (1998)\n",
      "14.16515207474294\t4.0\tLabyrinth (1986)\n",
      "14.094149867812483\t5.0\tHighlander (1986)\n",
      "14.067745917168931\t5.0\tPlanet of the Apes (1968)\n",
      "14.066375970233658\t4.0\tFew Good Men\n",
      "13.994174818261982\t4.0\tMask\n",
      "13.940659132253213\t5.0\tDumb & Dumber (Dumb and Dumber) (1994)\n",
      "13.926857428009434\t4.0\tDazed and Confused (1993)\n",
      "13.902627985646516\t5.0\tGoonies\n",
      "13.853450893868999\t5.0\tWayne's World (1992)\n",
      "13.852382481377495\t5.0\tM*A*S*H (a.k.a. MASH) (1970)\n",
      "13.715675936218764\t3.0\tStargate (1994)\n",
      "13.69564973596506\t5.0\tTombstone (1993)\n",
      "13.644767186751215\t5.0\tGoldfinger (1964)\n",
      "13.604741651498\t5.0\tFantasia (1940)\n",
      "13.600803475618015\t4.0\tSuperman (1978)\n",
      "13.589717808586252\t5.0\tSpaceballs (1987)\n",
      "13.582631915104695\t4.0\tEd Wood (1994)\n",
      "13.517526817051262\t4.0\tGrosse Pointe Blank (1997)\n",
      "13.468729621845144\t5.0\tIron Giant\n",
      "13.414312472843326\t5.0\tTommy Boy (1995)\n",
      "13.364297028670714\t5.0\tPinocchio (1940)\n",
      "13.338096131701281\t5.0\tJames and the Giant Peach (1996)\n",
      "13.338067539878805\t4.0\tWedding Singer\n",
      "13.194275246103528\t5.0\tGood Morning\n",
      "13.144077790087891\t5.0\tFace/Off (1997)\n",
      "13.00530874835503\t4.0\tAbyss\n",
      "12.941470358906876\t4.0\tRoboCop (1987)\n",
      "12.865475609496087\t5.0\tGo (1999)\n",
      "12.847603739196556\t5.0\tDesperado (1995)\n",
      "12.831928893347328\t5.0\tEnemy of the State (1998)\n",
      "12.808541471192425\t4.0\tPredator (1987)\n",
      "12.692839212774315\t4.0\tRomancing the Stone (1984)\n",
      "12.645884771357757\t3.0\tTwister (1996)\n",
      "12.57576972473941\t3.0\tRocky Horror Picture Show\n",
      "12.474899628870626\t5.0\tRoad Warrior\n",
      "12.45192727559246\t3.0\tSneakers (1992)\n",
      "12.378900808597734\t4.0\tSwingers (1996)\n",
      "12.371798159082013\t5.0\tFrom Russia with Love (1963)\n",
      "12.358162233200977\t3.0\tLast of the Mohicans\n",
      "12.353399225960201\t5.0\tRob Roy (1995)\n",
      "12.319012659114565\t5.0\tBilly Madison (1995)\n",
      "12.302198114673661\t4.0\tSo I Married an Axe Murderer (1993)\n",
      "12.287964290406592\t3.0\tStarship Troopers (1997)\n",
      "12.280769425151663\t5.0\tAlice in Wonderland (1951)\n",
      "12.233662473076352\t4.0\tWillow (1988)\n",
      "12.179779718168968\t5.0\tDr. No (1962)\n",
      "12.170688735565184\t5.0\tRobin Hood (1973)\n",
      "12.049892716971753\t5.0\tDumbo (1941)\n",
      "12.003242092284307\t5.0\tDirty Dozen\n",
      "11.970154460195406\t4.0\tTron (1982)\n",
      "11.940337664302035\t4.0\tHook (1991)\n",
      "11.931718231624686\t5.0\tBambi (1942)\n",
      "11.90868373189522\t5.0\tCrocodile Dundee (1986)\n",
      "11.847212495666131\t5.0\tNeverEnding Story\n",
      "11.755631004420012\t3.0\tBatman Returns (1992)\n",
      "11.743847918462128\t4.0\tBig Trouble in Little China (1986)\n",
      "11.56767271668213\t5.0\tDuck Soup (1933)\n",
      "11.560306402822839\t5.0\tLive and Let Die (1973)\n",
      "11.52955027596778\t5.0\tBottle Rocket (1996)\n",
      "11.496721227171742\t4.0\tGrumpier Old Men (1995)\n",
      "11.472921415813806\t5.0\tGrumpy Old Men (1993)\n",
      "11.460846083192338\t4.0\tThree Musketeers\n",
      "11.44083616259382\t5.0\tJFK (1991)\n",
      "11.430913107163068\t2.0\tMummy\n",
      "11.28934247388463\t5.0\tRocketeer\n",
      "11.26497677907009\t5.0\tMad Max (1979)\n",
      "11.229047147177441\t5.0\tSword in the Stone\n",
      "11.219681169697724\t5.0\tBasic Instinct (1992)\n",
      "11.20179032831612\t4.0\tWhat About Bob? (1991)\n",
      "11.176785035910328\t4.0\tHoney\n",
      "11.019230526877283\t4.0\tCon Air (1997)\n",
      "11.009969860037039\t5.0\tPink Floyd: The Wall (1982)\n",
      "10.995333566456015\t5.0\tSuperman II (1980)\n",
      "10.990140280174014\t5.0\tJungle Book\n",
      "10.990140280174014\t5.0\tJungle Book\n",
      "10.972560006518359\t5.0\tThin Red Line\n",
      "10.91143014847191\t4.0\tRush Hour (1998)\n",
      "10.887326458985164\t3.0\tFrom Dusk Till Dawn (1996)\n",
      "10.867430921463262\t4.0\tThat Thing You Do! (1996)\n",
      "10.773092707585512\t5.0\tExcalibur (1981)\n",
      "10.643771263369013\t5.0\tCharlotte's Web (1973)\n",
      "10.52978933830124\t4.0\tFlight of the Navigator (1986)\n",
      "10.46017225724893\t1.0\tTalented Mr. Ripley\n",
      "10.41459193196214\t4.0\tEasy Rider (1969)\n",
      "10.331886496724463\t4.0\tRoad Trip (2000)\n",
      "10.189845406147379\t5.0\tNegotiator\n",
      "10.10914125238206\t5.0\tBedknobs and Broomsticks (1971)\n",
      "10.045122868217836\t5.0\tThunderball (1965)\n",
      "10.031774113970792\t4.0\tKing Kong (1933)\n",
      "9.967078376775763\t5.0\tSecret of NIMH\n",
      "9.627595054842919\t5.0\tHenry V (1989)\n",
      "9.612880795311344\t5.0\tVery Bad Things (1998)\n",
      "9.574991583207359\t4.0\tLadyhawke (1985)\n",
      "9.556013502174144\t4.0\t¡Three Amigos! (1986)\n",
      "9.496558144353452\t5.0\tAmerican Tail\n",
      "9.443749251088297\t5.0\tConan the Barbarian (1982)\n",
      "9.339316638989118\t5.0\tMr. Smith Goes to Washington (1939)\n",
      "9.327137967333552\t4.0\tWild Things (1998)\n",
      "9.193282420819534\t4.0\tDick Tracy (1990)\n",
      "9.170806481825316\t4.0\tMan with the Golden Gun\n",
      "9.159341289928417\t3.0\tSister Act (1992)\n",
      "8.961366234670683\t4.0\tSleeping Beauty (1959)\n",
      "8.908575844497749\t5.0\tWinnie the Pooh and the Blustery Day (1968)\n",
      "8.896381211008324\t5.0\tRed Dawn (1984)\n",
      "8.829746406459819\t3.0\tSpace Jam (1996)\n",
      "8.673425572858568\t3.0\tYoung Sherlock Holmes (1985)\n",
      "8.588900731198393\t4.0\tLongest Day\n",
      "8.531536804670427\t5.0\tSLC Punk! (1998)\n",
      "8.516482858451214\t5.0\tMessenger: The Story of Joan of Arc\n",
      "8.515575010043596\t3.0\tLogan's Run (1976)\n",
      "8.445059317958556\t4.0\tNosferatu (Nosferatu\n",
      "8.402908142279324\t5.0\tLord of the Rings\n",
      "8.184698547300528\t5.0\tRescuers\n",
      "8.135740129613529\t5.0\tGhost and the Darkness\n",
      "8.099111047668293\t4.0\tLegend (1985)\n",
      "7.977434412836571\t3.0\tPete's Dragon (1977)\n",
      "7.699198976165826\t5.0\tScream 3 (2000)\n",
      "7.645139542532953\t4.0\t13th Warrior\n",
      "7.410632107801193\t5.0\tAll Quiet on the Western Front (1930)\n",
      "7.388082318845258\t5.0\tBlack Cauldron\n",
      "7.331199338867387\t4.0\tSmall Soldiers (1998)\n",
      "7.169836773535172\t5.0\tAdventures of Robin Hood\n",
      "7.0064631940405455\t2.0\tToys (1992)\n",
      "7.001973343762652\t4.0\tTeenage Mutant Ninja Turtles II: The Secret of the Ooze (1991)\n",
      "6.997453962390998\t4.0\tKiss the Girls (1997)\n",
      "6.968683739712381\t3.0\tI Know What You Did Last Summer (1997)\n",
      "6.637189662152352\t5.0\tGreat Mouse Detective\n",
      "6.611006250085478\t4.0\tTransformers: The Movie (1986)\n",
      "6.58105241218076\t4.0\tGhost and Mrs. Muir\n",
      "6.5218772158356915\t3.0\tEncino Man (1992)\n",
      "6.462719921496879\t4.0\tShe's the One (1996)\n",
      "6.191548802253656\t3.0\tReturn to Oz (1985)\n",
      "6.114415858340263\t4.0\tShaft (2000)\n",
      "5.9183436022731595\t3.0\tBlown Away (1994)\n",
      "5.907801101270121\t3.0\tEscape to Witch Mountain (1975)\n",
      "5.864030849936576\t5.0\tQuiet Man\n",
      "5.8373792559534365\t5.0\tCanadian Bacon (1995)\n",
      "5.622834911247529\t4.0\tDracula (1931)\n",
      "5.606487056269216\t4.0\tFrankenstein (1931)\n",
      "5.569720960615982\t4.0\tHoney\n",
      "5.366597539732538\t4.0\tTeenage Mutant Ninja Turtles III (1993)\n",
      "5.362014854187082\t5.0\tTexas Chainsaw Massacre\n",
      "5.334362649443451\t4.0\tHoward the Duck (1986)\n",
      "5.319223308057846\t2.0\tI Still Know What You Did Last Summer (1998)\n",
      "5.111450066767953\t4.0\tSong of the South (1946)\n",
      "5.068910598867106\t5.0\tThree Caballeros\n",
      "4.83107458654831\t2.0\tMummy\n",
      "4.616664594331109\t5.0\tShaft (1971)\n",
      "4.407829652992515\t4.0\t20 Dates (1998)\n",
      "4.113548891374922\t2.0\tPsycho (1998)\n",
      "4.100364220626212\t3.0\tMcHale's Navy (1997)\n",
      "3.5825903285268432\t5.0\tWolf Man\n",
      "3.31276082651236\t4.0\tThree Musketeers\n",
      "3.1754635241856777\t4.0\tThree Musketeers\n",
      "2.9189747653141804\t5.0\tNewton Boys\n",
      "2.7486682554468014\t5.0\tTexas Chainsaw Massacre\n",
      "1.7289419164528208\t4.0\tWelcome to Woop-Woop (1997)\n",
      "1.6695539642413681\t2.0\tMummy\n",
      "1.5003706664941987\t5.0\tFugitive\n",
      "0.9045076583874632\t4.0\tThree Musketeers\n",
      "0.4769283544537032\t4.0\tHoney\n",
      "0.1851173006592013\t5.0\tGulliver's Travels (1939)\n",
      "0.0\t4.0\tBest Men (1997)\n"
     ]
    }
   ],
   "source": [
    "res2 = res.join(moviesUser1).sortBy(lambda x: -float(x[1][0]))\n",
    "for i in res2.collect():\n",
    "        print(str(i[1][0])+\"\\t\"+str(i[1][1])+\"\\t\"+str(i[0]))\n",
    "        "
   ]
  },
  {
   "cell_type": "code",
   "execution_count": null,
   "metadata": {},
   "outputs": [],
   "source": []
  }
 ],
 "metadata": {
  "kernelspec": {
   "display_name": "Python 3",
   "language": "python",
   "name": "python3"
  },
  "language_info": {
   "codemirror_mode": {
    "name": "ipython",
    "version": 3
   },
   "file_extension": ".py",
   "mimetype": "text/x-python",
   "name": "python",
   "nbconvert_exporter": "python",
   "pygments_lexer": "ipython3",
   "version": "3.7.3"
  }
 },
 "nbformat": 4,
 "nbformat_minor": 4
}
