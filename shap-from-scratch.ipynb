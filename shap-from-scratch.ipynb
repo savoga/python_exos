{
 "cells": [
  {
   "cell_type": "code",
   "execution_count": 1,
   "id": "3a334b7d",
   "metadata": {},
   "outputs": [],
   "source": [
    "import numpy as np\n",
    "import pandas as pd\n",
    "\n",
    "# import shap\n",
    "import sklearn\n",
    "\n",
    "import scipy.special\n",
    "import itertools"
   ]
  },
  {
   "cell_type": "code",
   "execution_count": 2,
   "id": "0c11cf2e",
   "metadata": {},
   "outputs": [
    {
     "data": {
      "text/html": [
       "<div>\n",
       "<style scoped>\n",
       "    .dataframe tbody tr th:only-of-type {\n",
       "        vertical-align: middle;\n",
       "    }\n",
       "\n",
       "    .dataframe tbody tr th {\n",
       "        vertical-align: top;\n",
       "    }\n",
       "\n",
       "    .dataframe thead th {\n",
       "        text-align: right;\n",
       "    }\n",
       "</style>\n",
       "<table border=\"1\" class=\"dataframe\">\n",
       "  <thead>\n",
       "    <tr style=\"text-align: right;\">\n",
       "      <th></th>\n",
       "      <th>A</th>\n",
       "      <th>B</th>\n",
       "      <th>C</th>\n",
       "    </tr>\n",
       "  </thead>\n",
       "  <tbody>\n",
       "    <tr>\n",
       "      <th>0</th>\n",
       "      <td>2</td>\n",
       "      <td>2</td>\n",
       "      <td>2</td>\n",
       "    </tr>\n",
       "    <tr>\n",
       "      <th>1</th>\n",
       "      <td>1</td>\n",
       "      <td>2</td>\n",
       "      <td>2</td>\n",
       "    </tr>\n",
       "    <tr>\n",
       "      <th>2</th>\n",
       "      <td>2</td>\n",
       "      <td>1</td>\n",
       "      <td>2</td>\n",
       "    </tr>\n",
       "    <tr>\n",
       "      <th>3</th>\n",
       "      <td>2</td>\n",
       "      <td>1</td>\n",
       "      <td>1</td>\n",
       "    </tr>\n",
       "  </tbody>\n",
       "</table>\n",
       "</div>"
      ],
      "text/plain": [
       "   A  B  C\n",
       "0  2  2  2\n",
       "1  1  2  2\n",
       "2  2  1  2\n",
       "3  2  1  1"
      ]
     },
     "execution_count": 2,
     "metadata": {},
     "output_type": "execute_result"
    }
   ],
   "source": [
    "df_data = pd.DataFrame(data={'A':[2,1,2,2],'B':[2,2,1,1],'C':[2,2,2,1]})\n",
    "df_data"
   ]
  },
  {
   "cell_type": "code",
   "execution_count": 3,
   "id": "f5f96930",
   "metadata": {},
   "outputs": [],
   "source": [
    "dict_rules = {\n",
    "    'rule1':'x>1',\n",
    "    'rule2':'y>1',\n",
    "    'rule3':'z>1'\n",
    "}"
   ]
  },
  {
   "cell_type": "code",
   "execution_count": 4,
   "id": "adaaefd6",
   "metadata": {},
   "outputs": [],
   "source": [
    "def scoring_simul(row, activated_rules):\n",
    "    rules_res = []\n",
    "    if activated_rules[0]==1:\n",
    "        x = row['A']\n",
    "        rules_res.append(eval(dict_rules['rule1']))\n",
    "    if activated_rules[1]==1:\n",
    "        y = row['B']\n",
    "        rules_res.append(eval(dict_rules['rule2']))\n",
    "    if activated_rules[2]==1:\n",
    "        z = row['C']\n",
    "        rules_res.append(eval(dict_rules['rule3']))\n",
    "    if False not in rules_res:\n",
    "        return 1\n",
    "    return 0"
   ]
  },
  {
   "cell_type": "code",
   "execution_count": 5,
   "id": "05584d49",
   "metadata": {},
   "outputs": [],
   "source": [
    "def predict_proba(activated_rules):\n",
    "#     activated_rules = activated_rules.tolist()[0]\n",
    "    label = df_data.apply(lambda x: scoring_simul(x, activated_rules), axis=1).values\n",
    "    return np.sum(label)/len(label)"
   ]
  },
  {
   "cell_type": "code",
   "execution_count": 6,
   "id": "ec71c1df",
   "metadata": {},
   "outputs": [],
   "source": [
    "def proba_combinations(activated_rules_arr):\n",
    "    return np.apply_along_axis(predict_proba, 1, activated_rules_arr)"
   ]
  },
  {
   "cell_type": "markdown",
   "id": "c2f98230",
   "metadata": {},
   "source": [
    "**Weights**\n",
    "\n",
    "From https://christophm.github.io/interpretable-ml-book/shap.html#definition:\n",
    "\n",
    "\"The intuition behind it is: We learn most about individual features if we can study their effects in isolation. If a coalition consists of a single feature, we can learn about this feature’s isolated main effect on the prediction. If a coalition consists of all but one feature, we can learn about this feature’s total effect (main effect plus feature interactions). If a coalition consists of half the features, we learn little about an individual feature’s contribution, as there are many possible coalitions with half of the features.\"\n",
    "\n",
    "<br>\n",
    "\n",
    "WARNING: it seems the research paper and the Medium articles do not refer to the same thing when mentionning weights.\n",
    "\n",
    "\n",
    "<ins>In the research paper</ins> (implementation below): the Shap values are the results of the linear regression $\\beta = (X^TWX)^{-1}XWy$ where $W$ is the weighted matrix (\"Shapley Kernel\"). The weights are computed as such:\n",
    "\n",
    "$$\\omega_{z'} = \\frac{M-1}{C^n_{|z'|}|z'|(M-|z'|)}$$\n",
    "\n",
    "where $z'$ is a coalition\n",
    "\n",
    "<ins>In the Medium article</ins>: the weights are computed looking at the edges of the Powerset."
   ]
  },
  {
   "cell_type": "code",
   "execution_count": 7,
   "id": "a7b388f3",
   "metadata": {},
   "outputs": [],
   "source": [
    "# Implementation from \n",
    "# https://shap.readthedocs.io/en/latest/example_notebooks/tabular_examples/model_agnostic/Simple%20Kernel%20SHAP.html\n",
    "\n",
    "def powerset(iterable):\n",
    "    s = list(iterable)\n",
    "    return itertools.chain.from_iterable(itertools.combinations(s, r) for r in range(len(s)+1))\n",
    "\n",
    "def shapley_kernel(M,s):\n",
    "    if s == 0 or s == M:\n",
    "        return 10000\n",
    "    return (M-1)/(scipy.special.binom(M,s)*s*(M-s))\n",
    "\n",
    "def kernel_shap(f, x, reference, M):\n",
    "    X = np.zeros((2**M,M+1))\n",
    "    X[:,-1] = 1\n",
    "    weights = np.zeros(2**M)\n",
    "    V = np.zeros((2**M,M))\n",
    "    for i in range(2**M):\n",
    "        V[i,:] = reference\n",
    "\n",
    "    for i,s in enumerate(powerset(range(M))):\n",
    "        s = list(s)\n",
    "        V[i,s] = x[s]\n",
    "        X[i,s] = 1\n",
    "        weights[i] = shapley_kernel(M,len(s))\n",
    "    y = f(V)\n",
    "    tmp = np.linalg.inv(np.dot(np.dot(X.T, np.diag(weights)), X))\n",
    "    return np.dot(tmp, np.dot(np.dot(X.T, np.diag(weights)), y)) # Linear regression with kernel (weights)!"
   ]
  },
  {
   "cell_type": "code",
   "execution_count": 8,
   "id": "d499162e",
   "metadata": {
    "scrolled": true
   },
   "outputs": [
    {
     "name": "stdout",
     "output_type": "stream",
     "text": [
      "shap_values = [-0.25  -0.375 -0.125]\n"
     ]
    }
   ],
   "source": [
    "M = 3\n",
    "reference = np.zeros(M)\n",
    "phi = kernel_shap(proba_combinations, np.array([1,1,1]), reference, M)\n",
    "shap_values = phi[:-1]\n",
    "\n",
    "print(\"shap_values =\", shap_values)"
   ]
  }
 ],
 "metadata": {
  "kernelspec": {
   "display_name": "Python 3 (ipykernel)",
   "language": "python",
   "name": "python3"
  },
  "language_info": {
   "codemirror_mode": {
    "name": "ipython",
    "version": 3
   },
   "file_extension": ".py",
   "mimetype": "text/x-python",
   "name": "python",
   "nbconvert_exporter": "python",
   "pygments_lexer": "ipython3",
   "version": "3.9.7"
  }
 },
 "nbformat": 4,
 "nbformat_minor": 5
}
